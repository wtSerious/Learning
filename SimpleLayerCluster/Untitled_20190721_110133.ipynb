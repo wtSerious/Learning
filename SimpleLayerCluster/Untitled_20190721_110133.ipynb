{
 "cells": [
  {
   "cell_type": "code",
   "execution_count": 2,
   "metadata": {},
   "outputs": [],
   "source": [
    "import numpy as np\n",
    "from sklearn.preprocessing import LabelBinarizer\n",
    "from sklearn.metrics import classification_report\n",
    "import load_MNIST\n",
    "from sklearn.preprocessing import StandardScaler\n",
    "# import kmeans\n",
    "from sklearn import svm\n",
    "from sklearn.cluster import KMeans\n",
    "import matplotlib.pyplot as plt"
   ]
  },
  {
   "cell_type": "markdown",
   "metadata": {},
   "source": [
    "利用写好的load_MNIST模块中的load_data方法导入MNIST数据集\n",
    "- Parameter\n",
    "    - file_name:list \n",
    "        四个文件路径\n",
    "        - list[0]: 训练集的图片数据文件路径\n",
    "        - list[1]: 测试集的图片数据文件路径\n",
    "        - list[2]: 训练集的标签文件路径\n",
    "        - list[3]: 测试集的标签文件路径\n",
    "- Return\n",
    "    - train_data: numpy array\n",
    "    - train_labels: list\n",
    "    - test_data: numpy array\n",
    "    - test_labels: list"
   ]
  },
  {
   "cell_type": "code",
   "execution_count": 3,
   "metadata": {},
   "outputs": [],
   "source": [
    "file = [\"C:/Users/wtser/Desktop/learnData/data/Mnist/train-images.idx3-ubyte\",\n",
    "       \"C:/Users/wtser/Desktop/learnData/data/Mnist/t10k-images.idx3-ubyte\",\n",
    "       \"C:/Users/wtser/Desktop/learnData/data/Mnist/train-labels.idx1-ubyte\",\n",
    "       \"C:/Users/wtser/Desktop/learnData/data/Mnist/t10k-labels.idx1-ubyte\"]  \n",
    "train_data,train_labels,test_data,test_labels = load_MNIST.load_data(file)\n",
    "# scaler = StandardScaler()\n",
    "# scaler.fit(train_data)\n",
    "# train_data = scaler.transform(train_data)\n",
    "# test_data = scaler.transform(test_data)\n",
    "train_data_2d = train_data\n",
    "test_data_2d = test_data\n",
    "train_data = train_data.reshape(train_data.shape[0],28,28)\n",
    "test_data = test_data.reshape(test_data.shape[0],28,28)\n"
   ]
  },
  {
   "cell_type": "code",
   "execution_count": 4,
   "metadata": {},
   "outputs": [],
   "source": [
    "def patch_random(X,k=10):\n",
    "    row = 11\n",
    "    col = 11\n",
    "    new_data = []\n",
    "    for i in range(X.shape[0]):\n",
    "        for j in range(k): \n",
    "            x = np.random.randint(0,X.shape[1]-row)\n",
    "            y = np.random.randint(0,X.shape[2]-col)\n",
    "            d = X[i,x:x+row,y:y+col].flatten()\n",
    "            new_data.append(d)\n",
    "    return np.array(new_data)"
   ]
  },
  {
   "cell_type": "code",
   "execution_count": 5,
   "metadata": {},
   "outputs": [],
   "source": [
    "def patch_random_show(X,k=10):\n",
    "    row = 11\n",
    "    col = 11\n",
    "    new_data = []\n",
    "    plt.figure(figsize=(8,8))\n",
    "    epoch = 1\n",
    "    for j in range(k): \n",
    "        x = np.random.randint(0,X.shape[0]-row)\n",
    "        y = np.random.randint(0,X.shape[1]-col)\n",
    "        d = X[x:x+row,y:y+col]\n",
    "        plt.subplot(int(np.sqrt(k))+1,int(np.sqrt(k))+1,epoch)\n",
    "        plt.imshow(d)\n",
    "        epoch += 1\n",
    "    plt.show()"
   ]
  },
  {
   "cell_type": "code",
   "execution_count": 6,
   "metadata": {},
   "outputs": [],
   "source": [
    "def patch_stride(X,stride = 5):\n",
    "    col = 11\n",
    "    row = 11\n",
    "    \n",
    "    #截块时，最大的左边界X取值epoch_x\n",
    "    #截块时，最大的上边界Y取值epoch_y\n",
    "    epoch_x = (int((X.shape[1]-col) / stride)+1)*stride\n",
    "    epoch_y = (int((X.shape[1]-row) / stride)+1)*stride\n",
    "    new_data = []\n",
    "    for i in range(X.shape[0]):\n",
    "        for y in range(0,epoch_y,stride):\n",
    "            for x in range(0,epoch_x,stride):\n",
    "                new_data.append(X[i,x:x+row,y:y+col].flatten())\n",
    "    \n",
    "    return np.array(new_data)"
   ]
  },
  {
   "cell_type": "code",
   "execution_count": 7,
   "metadata": {},
   "outputs": [],
   "source": [
    "def patch_stride_show(X,stride = 5):\n",
    "    col = 11\n",
    "    row = 11\n",
    "    n = (int((X.shape[0]-col) / stride)+1)\n",
    "    plt.figure(figsize=(8,8))\n",
    "    #截块时，最大的左边界X取值epoch_x\n",
    "    #截块时，最大的上边界Y取值epoch_y\n",
    "    epoch_x = (int((X.shape[1]-col) / stride)+1)*stride\n",
    "    epoch_y = (int((X.shape[1]-row) / stride)+1)*stride\n",
    "    m = 1\n",
    "    for y in range(0,epoch_y,stride):\n",
    "        for x in range(0,epoch_x,stride):\n",
    "            plt.subplot(n,n,m)\n",
    "            plt.imshow(X[x:x+row,y:y+col])\n",
    "            m+=1\n",
    "    plt.show()"
   ]
  },
  {
   "cell_type": "code",
   "execution_count": 8,
   "metadata": {},
   "outputs": [],
   "source": [
    "def assign_K_feature(data_patch,k_centers):\n",
    "    new_k_feature_data = np.zeros((data_patch.shape[0],k_centers.shape[0]))\n",
    "    #以后试试用train_data一起来\n",
    "    for i in range(data_patch.shape[0]):\n",
    "        index = np.argmin(np.sum((data_patch[i]-k_centers)**2,axis=1))\n",
    "        new_k_feature_data[i][index] = 1\n",
    "    return new_k_feature_data"
   ]
  },
  {
   "cell_type": "code",
   "execution_count": 9,
   "metadata": {},
   "outputs": [],
   "source": [
    "def reshape_to_4KFeature(k_feature_data,count):\n",
    "    new_4K_data = [] \n",
    "    _sqrt_count = int(np.sqrt(count))\n",
    "    sqrt_count= int(np.sqrt(count)/2)\n",
    "    print(k_feature_data.shape[0])\n",
    "    for i in range(0,k_feature_data.shape[0],count):\n",
    "        dic = []\n",
    "        for k in range(sqrt_count):\n",
    "            d = np.max(k_feature_data[i+k*_sqrt_count:i+sqrt_count+k*_sqrt_count],axis =0)\n",
    "        dic.extend(d)\n",
    "        for k in range(sqrt_count):\n",
    "            d = np.max(k_feature_data[i+k*_sqrt_count+sqrt_count:i+k*_sqrt_count+2*sqrt_count],axis = 0)\n",
    "        dic.extend(d)\n",
    "        for k in range(sqrt_count):\n",
    "            d = np.max(k_feature_data[i+int(count/2)+k*_sqrt_count:i+int(count/2)+k*_sqrt_count+sqrt_count],axis = 0)\n",
    "        dic.extend(d)\n",
    "        for k in range(sqrt_count):\n",
    "            d = np.max(k_feature_data[i+int(count/2)+k*_sqrt_count+sqrt_count:i+int(count/2)+k*_sqrt_count+2*sqrt_count],axis = 0)\n",
    "        dic.extend(d)\n",
    "        new_4K_data.append(dic)\n",
    "    return np.array(new_4K_data)"
   ]
  },
  {
   "cell_type": "markdown",
   "metadata": {},
   "source": [
    "使用之前写好的kmeans聚类脚本进行聚类\n",
    "Function:k_means(X,k)\n",
    "- Parameters:\n",
    " - X: A numpy array of input data, shape(N,M)\n",
    " - k: interger,k class\n",
    " \n",
    "- Return:\n",
    "  - centers: A numpy array of shape(k,M)\n",
    "  - label: A list is the label of centroids"
   ]
  },
  {
   "cell_type": "code",
   "execution_count": 10,
   "metadata": {},
   "outputs": [
    {
     "ename": "NameError",
     "evalue": "name 'k_centers' is not defined",
     "output_type": "error",
     "traceback": [
      "\u001b[1;31m---------------------------------------------------------------------------\u001b[0m",
      "\u001b[1;31mNameError\u001b[0m                                 Traceback (most recent call last)",
      "\u001b[1;32m<ipython-input-10-09bc75db2103>\u001b[0m in \u001b[0;36m<module>\u001b[1;34m()\u001b[0m\n\u001b[0;32m      1\u001b[0m \u001b[1;33m\u001b[0m\u001b[0m\n\u001b[1;32m----> 2\u001b[1;33m \u001b[0mc\u001b[0m \u001b[1;33m=\u001b[0m \u001b[0mk_centers\u001b[0m\u001b[1;33m[\u001b[0m\u001b[1;33m:\u001b[0m\u001b[1;36m100\u001b[0m\u001b[1;33m]\u001b[0m\u001b[1;33m.\u001b[0m\u001b[0mreshape\u001b[0m\u001b[1;33m(\u001b[0m\u001b[1;36m100\u001b[0m\u001b[1;33m,\u001b[0m\u001b[1;36m11\u001b[0m\u001b[1;33m,\u001b[0m\u001b[1;36m11\u001b[0m\u001b[1;33m)\u001b[0m\u001b[1;33m\u001b[0m\u001b[0m\n\u001b[0m\u001b[0;32m      3\u001b[0m \u001b[0mplt\u001b[0m\u001b[1;33m.\u001b[0m\u001b[0mfigure\u001b[0m\u001b[1;33m(\u001b[0m\u001b[0mfigsize\u001b[0m\u001b[1;33m=\u001b[0m\u001b[1;33m(\u001b[0m\u001b[1;36m10\u001b[0m\u001b[1;33m,\u001b[0m\u001b[1;36m10\u001b[0m\u001b[1;33m)\u001b[0m\u001b[1;33m)\u001b[0m\u001b[1;33m\u001b[0m\u001b[0m\n\u001b[0;32m      4\u001b[0m \u001b[1;32mfor\u001b[0m \u001b[0mi\u001b[0m \u001b[1;32min\u001b[0m \u001b[0mrange\u001b[0m\u001b[1;33m(\u001b[0m\u001b[1;36m10\u001b[0m\u001b[1;33m)\u001b[0m\u001b[1;33m:\u001b[0m\u001b[1;33m\u001b[0m\u001b[0m\n\u001b[0;32m      5\u001b[0m     \u001b[0mplt\u001b[0m\u001b[1;33m.\u001b[0m\u001b[0msubplot\u001b[0m\u001b[1;33m(\u001b[0m\u001b[1;36m10\u001b[0m\u001b[1;33m,\u001b[0m\u001b[1;36m10\u001b[0m\u001b[1;33m,\u001b[0m\u001b[0mi\u001b[0m\u001b[1;33m+\u001b[0m\u001b[1;36m1\u001b[0m\u001b[1;33m)\u001b[0m\u001b[1;33m\u001b[0m\u001b[0m\n",
      "\u001b[1;31mNameError\u001b[0m: name 'k_centers' is not defined"
     ]
    }
   ],
   "source": [
    "\n",
    "c = k_centers[:100].reshape(100,11,11)\n",
    "plt.figure(figsize=(10,10))\n",
    "for i in range(10):\n",
    "    plt.subplot(10,10,i+1)\n",
    "    plt.imshow(c[i])\n",
    "plt.show()"
   ]
  },
  {
   "cell_type": "code",
   "execution_count": 11,
   "metadata": {},
   "outputs": [
    {
     "data": {
      "image/png": "[encoded data removed]",
      "text/plain": [
       "<Figure size 432x288 with 1 Axes>"
      ]
     },
     "metadata": {
      "needs_background": "light"
     },
     "output_type": "display_data"
    }
   ],
   "source": [
    "plt.subplot(1,1,1)\n",
    "plt.imshow(train_data[17])\n",
    "plt.show()"
   ]
  },
  {
   "cell_type": "code",
   "execution_count": 12,
   "metadata": {},
   "outputs": [
    {
     "data": {
      "image/png": "[encoded data removed]",
      "text/plain": [
       "<Figure size 576x576 with 36 Axes>"
      ]
     },
     "metadata": {
      "needs_background": "light"
     },
     "output_type": "display_data"
    }
   ],
   "source": [
    "patch_random_show(train_data[17],36)"
   ]
  },
  {
   "cell_type": "code",
   "execution_count": 13,
   "metadata": {},
   "outputs": [
    {
     "data": {
      "image/png": "[encoded data removed]",
      "text/plain": [
       "<Figure size 576x576 with 81 Axes>"
      ]
     },
     "metadata": {
      "needs_background": "light"
     },
     "output_type": "display_data"
    }
   ],
   "source": [
    "patch_stride_show(train_data[17],stride=2)"
   ]
  },
  {
   "cell_type": "code",
   "execution_count": 14,
   "metadata": {},
   "outputs": [
    {
     "name": "stdout",
     "output_type": "stream",
     "text": [
      "9\n"
     ]
    },
    {
     "ename": "NameError",
     "evalue": "name '_4k_fearture_train_data' is not defined",
     "output_type": "error",
     "traceback": [
      "\u001b[1;31m---------------------------------------------------------------------------\u001b[0m",
      "\u001b[1;31mNameError\u001b[0m                                 Traceback (most recent call last)",
      "\u001b[1;32m<ipython-input-14-e612ce64d068>\u001b[0m in \u001b[0;36m<module>\u001b[1;34m()\u001b[0m\n\u001b[0;32m      2\u001b[0m \u001b[1;31m# print(feature_index.shape)\u001b[0m\u001b[1;33m\u001b[0m\u001b[1;33m\u001b[0m\u001b[0m\n\u001b[0;32m      3\u001b[0m \u001b[0mprint\u001b[0m\u001b[1;33m(\u001b[0m\u001b[0mtrain_labels\u001b[0m\u001b[1;33m[\u001b[0m\u001b[1;36m19\u001b[0m\u001b[1;33m]\u001b[0m\u001b[1;33m)\u001b[0m\u001b[1;33m\u001b[0m\u001b[0m\n\u001b[1;32m----> 4\u001b[1;33m \u001b[0mfeature_index\u001b[0m \u001b[1;33m=\u001b[0m\u001b[0mnp\u001b[0m\u001b[1;33m.\u001b[0m\u001b[0marray\u001b[0m\u001b[1;33m(\u001b[0m\u001b[0mnp\u001b[0m\u001b[1;33m.\u001b[0m\u001b[0mwhere\u001b[0m\u001b[1;33m(\u001b[0m\u001b[0m_4k_fearture_train_data\u001b[0m\u001b[1;33m[\u001b[0m\u001b[1;36m19\u001b[0m\u001b[1;33m]\u001b[0m\u001b[1;33m>\u001b[0m\u001b[1;36m0\u001b[0m\u001b[1;33m)\u001b[0m\u001b[1;33m[\u001b[0m\u001b[1;36m0\u001b[0m\u001b[1;33m]\u001b[0m\u001b[1;33m)\u001b[0m\u001b[1;33m%\u001b[0m\u001b[1;36m500\u001b[0m\u001b[1;33m\u001b[0m\u001b[0m\n\u001b[0m\u001b[0;32m      5\u001b[0m \u001b[0mprint\u001b[0m\u001b[1;33m(\u001b[0m\u001b[0mfeature_index\u001b[0m\u001b[1;33m.\u001b[0m\u001b[0mshape\u001b[0m\u001b[1;33m[\u001b[0m\u001b[1;36m0\u001b[0m\u001b[1;33m]\u001b[0m\u001b[1;33m)\u001b[0m\u001b[1;33m\u001b[0m\u001b[0m\n\u001b[0;32m      6\u001b[0m \u001b[0mplt\u001b[0m\u001b[1;33m.\u001b[0m\u001b[0mfigure\u001b[0m\u001b[1;33m(\u001b[0m\u001b[0mfigsize\u001b[0m\u001b[1;33m=\u001b[0m\u001b[1;33m(\u001b[0m\u001b[1;36m8\u001b[0m\u001b[1;33m,\u001b[0m\u001b[1;36m8\u001b[0m\u001b[1;33m)\u001b[0m\u001b[1;33m)\u001b[0m\u001b[1;33m\u001b[0m\u001b[0m\n",
      "\u001b[1;31mNameError\u001b[0m: name '_4k_fearture_train_data' is not defined"
     ]
    }
   ],
   "source": [
    "# feature_index =np.array( list(np.where(_4k_fearture_train_data[0]>0)))\n",
    "# print(feature_index.shape)\n",
    "print(train_labels[19])\n",
    "feature_index =np.array(np.where(_4k_fearture_train_data[19]>0)[0])%500\n",
    "print(feature_index.shape[0])\n",
    "plt.figure(figsize=(8,8))\n",
    "for i in range(feature_index.shape[0]):\n",
    "    plt.subplot(4,4,i+1)\n",
    "    plt.imshow(k_centers[feature_index[i]].reshape(11,11))\n",
    "plt.show()\n"
   ]
  },
  {
   "cell_type": "code",
   "execution_count": 104,
   "metadata": {},
   "outputs": [
    {
     "name": "stdout",
     "output_type": "stream",
     "text": [
      "[5 0 4 1 9 2 1 3 1 4 3 5 3 6 1 7 2 8 6 9]\n"
     ]
    }
   ],
   "source": [
    "print(train_labels[:20])"
   ]
  },
  {
   "cell_type": "code",
   "execution_count": 23,
   "metadata": {},
   "outputs": [
    {
     "name": "stdout",
     "output_type": "stream",
     "text": [
      "8\n",
      "16\n"
     ]
    },
    {
     "data": {
      "image/png": "[encoded data removed]",
      "text/plain": [
       "<Figure size 576x576 with 16 Axes>"
      ]
     },
     "metadata": {
      "needs_background": "light"
     },
     "output_type": "display_data"
    }
   ],
   "source": [
    "# feature_index =np.array( list(np.where(_4k_fearture_train_data[0]>0)))\n",
    "# print(feature_index.shape)\n",
    "print(train_labels[17])\n",
    "feature_index =np.array(np.where(_4k_fearture_train_data[4]>0)[0])%500\n",
    "print(feature_index.shape[0])\n",
    "plt.figure(figsize=(8,8))\n",
    "for i in range(feature_index.shape[0]):\n",
    "    plt.subplot(4,4,i+1)\n",
    "    plt.imshow(k_centers[feature_index[i]].reshape(11,11))\n",
    "plt.show()\n"
   ]
  },
  {
   "cell_type": "code",
   "execution_count": 16,
   "metadata": {
    "scrolled": false
   },
   "outputs": [],
   "source": [
    "k_centers_train_data_patch = patch_random(train_data[:1000],36)\n",
    "# new_test_data = patch_random(test_data[:300],9)"
   ]
  },
  {
   "cell_type": "code",
   "execution_count": 17,
   "metadata": {},
   "outputs": [
    {
     "name": "stderr",
     "output_type": "stream",
     "text": [
      "D:\\Anaconda\\lib\\site-packages\\sklearn\\utils\\validation.py:475: DataConversionWarning: Data with input dtype int32 was converted to float64 by StandardScaler.\n",
      "  warnings.warn(msg, DataConversionWarning)\n"
     ]
    }
   ],
   "source": [
    "#数据标准化\n",
    "scaler = StandardScaler()\n",
    "scaler.fit(k_centers_train_data_patch)\n",
    "k_centers_train_data_patch = scaler.transform(k_centers_train_data_patch)"
   ]
  },
  {
   "cell_type": "code",
   "execution_count": 18,
   "metadata": {},
   "outputs": [],
   "source": [
    "#用 kMeans 聚类出特征向量\n",
    "kmeans = KMeans(n_clusters=500).fit(k_centers_train_data_patch)\n",
    "#获取聚类中心\n",
    "k_centers = kmeans.cluster_centers_"
   ]
  },
  {
   "cell_type": "code",
   "execution_count": 20,
   "metadata": {},
   "outputs": [
    {
     "name": "stderr",
     "output_type": "stream",
     "text": [
      "D:\\Anaconda\\lib\\site-packages\\sklearn\\utils\\validation.py:475: DataConversionWarning: Data with input dtype int32 was converted to float64 by StandardScaler.\n",
      "  warnings.warn(msg, DataConversionWarning)\n"
     ]
    },
    {
     "name": "stdout",
     "output_type": "stream",
     "text": [
      "81000\n"
     ]
    }
   ],
   "source": [
    "train_data_patch = patch_stride(train_data[:1000],stride=2)\n",
    "train_data_patch = StandardScaler().fit_transform(train_data_patch)\n",
    "k_feature_data = assign_K_feature(train_data_patch,k_centers)\n",
    "_4k_fearture_train_data = reshape_to_4KFeature(k_feature_data,(int((train_data.shape[1]-11)/2)+1)**2)"
   ]
  },
  {
   "cell_type": "code",
   "execution_count": 21,
   "metadata": {},
   "outputs": [
    {
     "name": "stderr",
     "output_type": "stream",
     "text": [
      "D:\\Anaconda\\lib\\site-packages\\sklearn\\utils\\validation.py:475: DataConversionWarning: Data with input dtype int32 was converted to float64 by StandardScaler.\n",
      "  warnings.warn(msg, DataConversionWarning)\n"
     ]
    },
    {
     "name": "stdout",
     "output_type": "stream",
     "text": [
      "20250\n"
     ]
    }
   ],
   "source": [
    "test_data_patch = patch_stride(test_data[:250],stride=2)\n",
    "test_data_patch = StandardScaler().fit_transform(test_data_patch)\n",
    "k_feature_test_data = assign_K_feature(test_data_patch,k_centers)\n",
    "_4k_fearture_test_data = reshape_to_4KFeature(k_feature_test_data,(int((test_data.shape[1]-11)/2)+1)**2)"
   ]
  },
  {
   "cell_type": "code",
   "execution_count": 96,
   "metadata": {},
   "outputs": [
    {
     "name": "stdout",
     "output_type": "stream",
     "text": [
      "             precision    recall  f1-score   support\n",
      "\n",
      "          0       1.00      0.90      0.95        21\n",
      "          1       1.00      0.94      0.97        36\n",
      "          2       1.00      0.92      0.96        26\n",
      "          3       0.83      0.90      0.86        21\n",
      "          4       0.88      0.88      0.88        33\n",
      "          5       0.96      0.86      0.91        28\n",
      "          6       0.86      1.00      0.93        19\n",
      "          7       0.79      0.96      0.87        24\n",
      "          8       0.86      0.92      0.89        13\n",
      "          9       0.89      0.83      0.86        29\n",
      "\n",
      "avg / total       0.91      0.91      0.91       250\n",
      "\n"
     ]
    }
   ],
   "source": [
    "svm_1 = svm.LinearSVC(max_iter=3000)\n",
    "svm_1.fit(_4k_fearture_train_data,train_labels[:1000])\n",
    "pre_1 = svm_1.predict(_4k_fearture_test_data[:250])\n",
    "print(classification_report(pre_1,test_labels[:250]))"
   ]
  },
  {
   "cell_type": "code",
   "execution_count": 190,
   "metadata": {},
   "outputs": [
    {
     "name": "stdout",
     "output_type": "stream",
     "text": [
      "142\n"
     ]
    }
   ],
   "source": [
    "print(sum(train_labels[:1000]==3))"
   ]
  }
 ],
 "metadata": {
  "kernelspec": {
   "display_name": "Python 3",
   "language": "python",
   "name": "python3"
  },
  "language_info": {
   "codemirror_mode": {
    "name": "ipython",
    "version": 3
   },
   "file_extension": ".py",
   "mimetype": "text/x-python",
   "name": "python",
   "nbconvert_exporter": "python",
   "pygments_lexer": "ipython3",
   "version": "3.7.0"
  },
  "toc": {
   "base_numbering": 1,
   "nav_menu": {},
   "number_sections": true,
   "sideBar": true,
   "skip_h1_title": false,
   "title_cell": "Table of Contents",
   "title_sidebar": "Contents",
   "toc_cell": false,
   "toc_position": {},
   "toc_section_display": true,
   "toc_window_display": false
  }
 },
 "nbformat": 4,
 "nbformat_minor": 2
}
