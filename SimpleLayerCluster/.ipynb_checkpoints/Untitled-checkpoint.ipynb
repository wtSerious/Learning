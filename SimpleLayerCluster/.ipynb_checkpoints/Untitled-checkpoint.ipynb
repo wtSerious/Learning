{
 "cells": [
  {
   "cell_type": "code",
   "execution_count": 1,
   "metadata": {},
   "outputs": [],
   "source": [
    "import numpy as np\n",
    "from sklearn.preprocessing import LabelBinarizer\n",
    "from sklearn.metrics import classification_report\n",
    "import load_MNIST\n",
    "from sklearn.preprocessing import StandardScaler\n",
    "# import kmeans\n",
    "from sklearn import svm\n",
    "from sklearn.cluster import KMeans"
   ]
  },
  {
   "cell_type": "markdown",
   "metadata": {},
   "source": [
    "利用写好的load_MNIST模块中的load_data方法导入MNIST数据集\n",
    "- Parameter\n",
    "    - file_name:list \n",
    "        四个文件路径\n",
    "        - list[0]: 训练集的图片数据文件路径\n",
    "        - list[1]: 测试集的图片数据文件路径\n",
    "        - list[2]: 训练集的标签文件路径\n",
    "        - list[3]: 测试集的标签文件路径\n",
    "- Return\n",
    "    - train_data: numpy array\n",
    "    - train_labels: list\n",
    "    - test_data: numpy array\n",
    "    - test_labels: list"
   ]
  },
  {
   "cell_type": "code",
   "execution_count": 30,
   "metadata": {},
   "outputs": [],
   "source": [
    "file = [\"C:/Users/wtser/Desktop/learnData/data/Mnist/train-images.idx3-ubyte\",\n",
    "       \"C:/Users/wtser/Desktop/learnData/data/Mnist/t10k-images.idx3-ubyte\",\n",
    "       \"C:/Users/wtser/Desktop/learnData/data/Mnist/train-labels.idx1-ubyte\",\n",
    "       \"C:/Users/wtser/Desktop/learnData/data/Mnist/t10k-labels.idx1-ubyte\"]  \n",
    "\n",
    "train_data,train_labels,test_data,test_labels = load_MNIST.load_data(file)\n",
    "# scaler = StandardScaler()\n",
    "# scaler.fit(train_data)\n",
    "# train_data = scaler.transform(train_data)\n",
    "# test_data = scaler.transform(test_data)\n",
    "train_data_2d = train_data\n",
    "test_data_2d = test_data\n",
    "train_data = train_data.reshape(train_data.shape[0],28,28)\n",
    "test_data = test_data.reshape(test_data.shape[0],28,28)\n"
   ]
  },
  {
   "cell_type": "code",
   "execution_count": 50,
   "metadata": {},
   "outputs": [],
   "source": [
    "def patch_random(X,k=10):\n",
    "    row = 11\n",
    "    col = 11\n",
    "    new_data = []\n",
    "    for i in range(X.shape[0]):\n",
    "        for j in range(k): \n",
    "            x = np.random.randint(0,X.shape[1]-row)\n",
    "            y = np.random.randint(0,X.shape[2]-col)\n",
    "            d = X[i,x:x+row,y:y+col].flatten()\n",
    "            new_data.append(d)\n",
    "    return np.array(new_data)"
   ]
  },
  {
   "cell_type": "code",
   "execution_count": 52,
   "metadata": {},
   "outputs": [],
   "source": [
    "def patch_stride(X,stride = 5):\n",
    "    col = 11\n",
    "    row = 11\n",
    "    \n",
    "    #截块时，最大的左边界X取值epoch_x\n",
    "    #截块时，最大的上边界Y取值epoch_y\n",
    "    epoch_x = (int((X.shape[1]-col) / stride)+1)*stride\n",
    "    epoch_y = (int((X.shape[1]-row) / stride)+1)*stride\n",
    "    new_data = []\n",
    "    for i in range(X.shape[0]):\n",
    "        for x in range(0,epoch_x,stride):\n",
    "            for y in range(0,epoch_y,stride):\n",
    "                new_data.append(X[i,x:x+row,y:y+col].flatten())\n",
    "    \n",
    "    return np.array(new_data)"
   ]
  },
  {
   "cell_type": "code",
   "execution_count": 5,
   "metadata": {},
   "outputs": [],
   "source": [
    "def assign_K_feature(data_patch,k_centers):\n",
    "    new_k_feature_data = np.zeros((data_patch.shape[0],k_centers.shape[0]))\n",
    "    #以后试试用train_data一起来\n",
    "    for i in range(data_patch.shape[0]):\n",
    "        index = np.argmin(np.sum((data_patch[i]-k_centers)**2,axis=1))\n",
    "        new_k_feature_data[i][index] = 1\n",
    "    return new_k_feature_data"
   ]
  },
  {
   "cell_type": "code",
   "execution_count": 19,
   "metadata": {},
   "outputs": [],
   "source": [
    "def reshape_to_4KFeature(k_feature_data,count):\n",
    "    new_4K_data = [] \n",
    "    _sqrt_count = int(np.sqrt(count))\n",
    "    sqrt_count= int(np.sqrt(count)/2)\n",
    "    print(k_feature_data.shape[0])\n",
    "    for i in range(0,k_feature_data.shape[0],count):\n",
    "        dic = []\n",
    "        for k in range(sqrt_count):\n",
    "            d = np.sum(k_feature_data[i+k*_sqrt_count:i+sqrt_count+k*_sqrt_count],axis =0)\n",
    "        dic.extend(d)\n",
    "        for k in range(sqrt_count):\n",
    "            d = np.sum(k_feature_data[i+k*_sqrt_count+sqrt_count:i+k*_sqrt_count+2*sqrt_count],axis = 0)\n",
    "        dic.extend(d)\n",
    "        for k in range(sqrt_count):\n",
    "            d = np.sum(k_feature_data[i+int(count/2)+k*_sqrt_count:i+int(count/2)+k*_sqrt_count+sqrt_count],axis = 0)\n",
    "        dic.extend(d)\n",
    "        for k in range(sqrt_count):\n",
    "            d = np.sum(k_feature_data[i+int(count/2)+k*_sqrt_count+sqrt_count:i+int(count/2)+k*_sqrt_count+2*sqrt_count],axis = 0)\n",
    "        dic.extend(d)\n",
    "        new_4K_data.append(dic)\n",
    "    return np.array(new_4K_data)"
   ]
  },
  {
   "cell_type": "markdown",
   "metadata": {},
   "source": [
    "使用之前写好的kmeans聚类脚本进行聚类\n",
    "Function:k_means(X,k)\n",
    "- Parameters:\n",
    " - X: A numpy array of input data, shape(N,M)\n",
    " - k: interger,k class\n",
    " \n",
    "- Return:\n",
    "  - centers: A numpy array of shape(k,M)\n",
    "  - label: A list is the label of centroids"
   ]
  },
  {
   "cell_type": "code",
   "execution_count": 117,
   "metadata": {},
   "outputs": [
    {
     "data": {
      "image/png": "[encoded data removed]",
      "text/plain": [
       "<Figure size 2160x2160 with 10 Axes>"
      ]
     },
     "metadata": {
      "needs_background": "light"
     },
     "output_type": "display_data"
    }
   ],
   "source": [
    "import matplotlib.pyplot as plt\n",
    "c = k_centers[:100].reshape(100,11,11)\n",
    "plt.figure(figsize=(30,30))\n",
    "for i in range(10):\n",
    "    plt.subplot(10,10,i+1)\n",
    "    plt.imshow(c[i])\n",
    "plt.show()"
   ]
  },
  {
   "cell_type": "code",
   "execution_count": 96,
   "metadata": {},
   "outputs": [
    {
     "name": "stderr",
     "output_type": "stream",
     "text": [
      "D:\\Anaconda\\lib\\site-packages\\sklearn\\utils\\validation.py:475: DataConversionWarning: Data with input dtype int32 was converted to float64 by StandardScaler.\n",
      "  warnings.warn(msg, DataConversionWarning)\n"
     ]
    }
   ],
   "source": [
    "scaler = StandardScaler()\n",
    "scaler.fit(k_centers_train_data_patch)\n",
    "k_centers_train_data_patch = scaler.transform(k_centers_train_data_patch)"
   ]
  },
  {
   "cell_type": "code",
   "execution_count": 132,
   "metadata": {
    "scrolled": false
   },
   "outputs": [],
   "source": [
    "k_centers_train_data_patch = patch_random(train_data[:1000],100)\n",
    "# new_test_data = patch_random(test_data[:300],9)"
   ]
  },
  {
   "cell_type": "code",
   "execution_count": 126,
   "metadata": {},
   "outputs": [],
   "source": [
    "kmeans = KMeans(n_clusters=700).fit(k_centers_train_data_patch)\n",
    "k_centers = kmeans.cluster_centers_"
   ]
  },
  {
   "cell_type": "code",
   "execution_count": 330,
   "metadata": {
    "scrolled": true
   },
   "outputs": [
    {
     "name": "stderr",
     "output_type": "stream",
     "text": [
      "E:\\JupyterEnviroment\\Learning\\SimpleLayerCluster\\kmeans.py:36: FutureWarning: Using a non-tuple sequence for multidimensional indexing is deprecated; use `arr[tuple(seq)]` instead of `arr[seq]`. In the future this will be interpreted as an array index, `arr[np.array(seq)]`, which will result either in an error or a different result.\n",
      "  if len(data[[assignment==i]])==0:\n",
      "E:\\JupyterEnviroment\\Learning\\SimpleLayerCluster\\kmeans.py:39: FutureWarning: Using a non-tuple sequence for multidimensional indexing is deprecated; use `arr[tuple(seq)]` instead of `arr[seq]`. In the future this will be interpreted as an array index, `arr[np.array(seq)]`, which will result either in an error or a different result.\n",
      "  center[i] = np.mean(data[[assignment==i]],axis=0)\n"
     ]
    }
   ],
   "source": [
    "# k_centers,label = kmeans.k_means(k_centers_train_data_patch,500)"
   ]
  },
  {
   "cell_type": "code",
   "execution_count": 127,
   "metadata": {},
   "outputs": [
    {
     "name": "stderr",
     "output_type": "stream",
     "text": [
      "D:\\Anaconda\\lib\\site-packages\\sklearn\\utils\\validation.py:475: DataConversionWarning: Data with input dtype int32 was converted to float64 by StandardScaler.\n",
      "  warnings.warn(msg, DataConversionWarning)\n"
     ]
    },
    {
     "name": "stdout",
     "output_type": "stream",
     "text": [
      "81000\n"
     ]
    }
   ],
   "source": [
    "train_data_patch = patch_stride(train_data[:1000],stride=2)\n",
    "train_data_patch = StandardScaler().fit_transform(train_data_patch)\n",
    "k_feature_data = assign_K_feature(train_data_patch,k_centers)\n",
    "_4k_fearture_train_data = reshape_to_4KFeature(k_feature_data,(int((train_data.shape[1]-11)/2)+1)**2)"
   ]
  },
  {
   "cell_type": "code",
   "execution_count": 128,
   "metadata": {},
   "outputs": [
    {
     "name": "stderr",
     "output_type": "stream",
     "text": [
      "D:\\Anaconda\\lib\\site-packages\\sklearn\\utils\\validation.py:475: DataConversionWarning: Data with input dtype int32 was converted to float64 by StandardScaler.\n",
      "  warnings.warn(msg, DataConversionWarning)\n"
     ]
    },
    {
     "name": "stdout",
     "output_type": "stream",
     "text": [
      "20250\n"
     ]
    }
   ],
   "source": [
    "test_data_patch = patch_stride(test_data[:250],stride=2)\n",
    "test_data_patch = StandardScaler().fit_transform(test_data_patch)\n",
    "k_feature_test_data = assign_K_feature(test_data_patch,k_centers)\n",
    "_4k_fearture_test_data = reshape_to_4KFeature(k_feature_test_data,(int((test_data.shape[1]-11)/2)+1)**2)"
   ]
  },
  {
   "cell_type": "code",
   "execution_count": null,
   "metadata": {},
   "outputs": [],
   "source": [
    "svm_1 = svm.LinearSVC(max_iter=3000)\n",
    "svm_1.fit(_4k_fearture_train_data,train_labels[:1000])\n",
    "pre_1 = svm_1.predict(_4k_fearture_test_data[:250])\n",
    "print(classification_report(pre_1,test_labels[:250]))"
   ]
  }
 ],
 "metadata": {
  "kernelspec": {
   "display_name": "Python 3",
   "language": "python",
   "name": "python3"
  },
  "language_info": {
   "codemirror_mode": {
    "name": "ipython",
    "version": 3
   },
   "file_extension": ".py",
   "mimetype": "text/x-python",
   "name": "python",
   "nbconvert_exporter": "python",
   "pygments_lexer": "ipython3",
   "version": "3.7.0"
  },
  "toc": {
   "base_numbering": 1,
   "nav_menu": {},
   "number_sections": true,
   "sideBar": true,
   "skip_h1_title": false,
   "title_cell": "Table of Contents",
   "title_sidebar": "Contents",
   "toc_cell": false,
   "toc_position": {},
   "toc_section_display": true,
   "toc_window_display": false
  }
 },
 "nbformat": 4,
 "nbformat_minor": 2
}
