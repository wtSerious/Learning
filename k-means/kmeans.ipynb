{
 "cells": [
  {
   "cell_type": "code",
   "execution_count": 1,
   "metadata": {},
   "outputs": [],
   "source": [
    "import numpy as np\n",
    "from sklearn.preprocessing import LabelBinarizer\n",
    "from sklearn.metrics import classification_report\n",
    "import load_MNIST\n",
    "from sklearn.preprocessing import StandardScaler\n",
    "from collections import Counter"
   ]
  },
  {
   "cell_type": "markdown",
   "metadata": {},
   "source": [
    "利用写好的load_MNIST模块中的load_data方法导入MNIST数据集\n",
    "- Parameter\n",
    "    - file_name:list \n",
    "        四个文件路径\n",
    "        - list[0]: 训练集的图片数据文件路径\n",
    "        - list[1]: 测试集的图片数据文件路径\n",
    "        - list[2]: 训练集的标签文件路径\n",
    "        - list[3]: 测试集的标签文件路径\n",
    "- Return\n",
    "    - train_data: numpy array\n",
    "    - train_labels: list\n",
    "    - test_data: numpy array\n",
    "    - test_labels: list"
   ]
  },
  {
   "cell_type": "code",
   "execution_count": 21,
   "metadata": {},
   "outputs": [],
   "source": [
    "file = [\"C:/Users/wtser/Desktop/learnData/data/Mnist/train-images.idx3-ubyte\",\n",
    "       \"C:/Users/wtser/Desktop/learnData/data/Mnist/t10k-images.idx3-ubyte\",\n",
    "       \"C:/Users/wtser/Desktop/learnData/data/Mnist/train-labels.idx1-ubyte\",\n",
    "       \"C:/Users/wtser/Desktop/learnData/data/Mnist/t10k-labels.idx1-ubyte\"]  \n",
    "\n",
    "train_data,train_labels,test_data,test_labels = load_MNIST.load_data(file)\n",
    "#对数据进行预处理\n",
    "# train_data[train_data>0] = 1\n",
    "# test_data[test_data>0] = 1\n",
    "# scaler = StandardScaler()\n",
    "# train_data = scaler.fit_transform(train_data)\n",
    "# test_data = scaler.fit_transform(test_data)"
   ]
  },
  {
   "cell_type": "code",
   "execution_count": 3,
   "metadata": {},
   "outputs": [],
   "source": [
    "def init_center(k,col):\n",
    "    center = np.random.randn(k,col)\n",
    "    return center"
   ]
  },
  {
   "cell_type": "code",
   "execution_count": 4,
   "metadata": {},
   "outputs": [],
   "source": [
    "def assign_points(data,center):\n",
    "    assignment = []\n",
    "    for i in range(data.shape[0]):\n",
    "        assignment.append(np.argmin(np.sum((data[i]-center)**2,axis=1)))\n",
    "    return np.array(assignment)\n",
    "    "
   ]
  },
  {
   "cell_type": "code",
   "execution_count": 5,
   "metadata": {},
   "outputs": [],
   "source": [
    "def update_centers(_center,data,assignment,k):\n",
    "    center = np.array([np.ones((data.shape[1])) for i in range(k)],dtype=float)\n",
    "\n",
    "    for i in range(k):\n",
    "        if len(data[[assignment==i]])==0:\n",
    "            center[i] = np.random.randn(data.shape[1])\n",
    "            continue\n",
    "        center[i] = np.mean(data[[assignment==i]],axis=0)\n",
    "    return np.array(center,dtype=float)"
   ]
  },
  {
   "cell_type": "code",
   "execution_count": 6,
   "metadata": {},
   "outputs": [],
   "source": [
    "def k_means(X,k,Y):\n",
    "    \n",
    "    centers = init_center(k,X.shape[1])\n",
    "#     centers = w\n",
    "    predict = assign_points(test_data[:500],centers)\n",
    "    \n",
    "    old_assignment = None\n",
    "    assignment = assign_points(X,centers)\n",
    "    epoch = 1\n",
    "    for i in range(1000):\n",
    "        epoch += 1\n",
    "        old_assignment = assignment.tolist()\n",
    "        centers = update_centers(centers,X,assignment,k)\n",
    "        assignment = assign_points(X,centers)\n",
    "    \n",
    "    #利用投票法，统计训练数据中所有被标记为第i个聚类中心的数据中具有相同真实标签的数量\n",
    "    #把第i个聚类中心设为该真实标签\n",
    "    label = [0 for i in range(k)]\n",
    "    \n",
    "    for i in range(k):\n",
    "        l = Y[assignment==i]\n",
    "        if len(l) == 0:\n",
    "            continue\n",
    "        c = Counter(l)\n",
    "        label[i] = c.most_common(1)[0][0]\n",
    "    return centers,label\n"
   ]
  },
  {
   "cell_type": "code",
   "execution_count": 7,
   "metadata": {},
   "outputs": [],
   "source": [
    "def assignment_point_byLabel(data,centers,label):\n",
    "    assignment = []\n",
    "    for i in range(data.shape[0]):\n",
    "        assignment.append(label[np.argmin(np.sum((data[i]-center)**2,axis=1))])\n",
    "    return np.array(assignment)"
   ]
  },
  {
   "cell_type": "code",
   "execution_count": null,
   "metadata": {},
   "outputs": [
    {
     "name": "stderr",
     "output_type": "stream",
     "text": [
      "D:\\Anaconda\\lib\\site-packages\\ipykernel_launcher.py:5: FutureWarning: Using a non-tuple sequence for multidimensional indexing is deprecated; use `arr[tuple(seq)]` instead of `arr[seq]`. In the future this will be interpreted as an array index, `arr[np.array(seq)]`, which will result either in an error or a different result.\n",
      "  \"\"\"\n",
      "D:\\Anaconda\\lib\\site-packages\\ipykernel_launcher.py:8: FutureWarning: Using a non-tuple sequence for multidimensional indexing is deprecated; use `arr[tuple(seq)]` instead of `arr[seq]`. In the future this will be interpreted as an array index, `arr[np.array(seq)]`, which will result either in an error or a different result.\n",
      "  \n"
     ]
    }
   ],
   "source": [
    "center,label = k_means(train_data[:1000],10,train_labels[:1000])"
   ]
  },
  {
   "cell_type": "code",
   "execution_count": 10,
   "metadata": {},
   "outputs": [
    {
     "name": "stdout",
     "output_type": "stream",
     "text": [
      "(10, 784)\n"
     ]
    }
   ],
   "source": [
    "print(center.shape)"
   ]
  },
  {
   "cell_type": "markdown",
   "metadata": {},
   "source": [
    "看下聚类效果"
   ]
  },
  {
   "cell_type": "code",
   "execution_count": 25,
   "metadata": {},
   "outputs": [
    {
     "data": {
      "image/png": "[encoded data removed]",
      "text/plain": [
       "<Figure size 2160x2160 with 10 Axes>"
      ]
     },
     "metadata": {
      "needs_background": "light"
     },
     "output_type": "display_data"
    }
   ],
   "source": [
    "_center = np.array(center).reshape(len(center),28,28)\n",
    "import matplotlib.pyplot as plt\n",
    "plt.figure(figsize=(30,30))\n",
    "for i in range(10):\n",
    "    plt.subplot(10,10,i+1)\n",
    "    plt.imshow(_center[i])\n",
    "plt.show()"
   ]
  },
  {
   "cell_type": "code",
   "execution_count": 24,
   "metadata": {},
   "outputs": [
    {
     "name": "stdout",
     "output_type": "stream",
     "text": [
      "             precision    recall  f1-score   support\n",
      "\n",
      "          0       0.95      0.50      0.65        36\n",
      "          1       1.00      0.58      0.73        59\n",
      "          2       0.46      0.44      0.45        25\n",
      "          3       0.04      0.08      0.06        12\n",
      "          4       0.48      0.38      0.43        42\n",
      "          5       0.08      0.29      0.12         7\n",
      "          6       0.55      0.92      0.69        13\n",
      "          7       0.34      0.62      0.44        16\n",
      "          8       0.00      0.00      0.00         0\n",
      "          9       0.30      0.20      0.24        40\n",
      "\n",
      "avg / total       0.60      0.45      0.49       250\n",
      "\n"
     ]
    },
    {
     "name": "stderr",
     "output_type": "stream",
     "text": [
      "D:\\Anaconda\\lib\\site-packages\\sklearn\\metrics\\classification.py:1137: UndefinedMetricWarning: Recall and F-score are ill-defined and being set to 0.0 in labels with no true samples.\n",
      "  'recall', 'true', average, warn_for)\n"
     ]
    }
   ],
   "source": [
    "pre = assignment_point_byLabel(test_data[:250],center,label)\n",
    "print(classification_report(pre,test_labels[:250]))"
   ]
  }
 ],
 "metadata": {
  "kernelspec": {
   "display_name": "Python 3",
   "language": "python",
   "name": "python3"
  },
  "language_info": {
   "codemirror_mode": {
    "name": "ipython",
    "version": 3
   },
   "file_extension": ".py",
   "mimetype": "text/x-python",
   "name": "python",
   "nbconvert_exporter": "python",
   "pygments_lexer": "ipython3",
   "version": "3.7.0"
  },
  "toc": {
   "base_numbering": 1,
   "nav_menu": {},
   "number_sections": true,
   "sideBar": true,
   "skip_h1_title": false,
   "title_cell": "Table of Contents",
   "title_sidebar": "Contents",
   "toc_cell": false,
   "toc_position": {},
   "toc_section_display": true,
   "toc_window_display": false
  }
 },
 "nbformat": 4,
 "nbformat_minor": 2
}
