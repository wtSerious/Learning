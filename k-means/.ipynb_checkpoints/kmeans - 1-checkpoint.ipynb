{
 "cells": [
  {
   "cell_type": "code",
   "execution_count": 2,
   "metadata": {},
   "outputs": [],
   "source": [
    "import numpy as np"
   ]
  },
  {
   "cell_type": "code",
   "execution_count": 4,
   "metadata": {},
   "outputs": [],
   "source": [
    "def init_center(k,col):\n",
    "    center = np.random.randn(k,col)\n",
    "    return center"
   ]
  },
  {
   "cell_type": "code",
   "execution_count": 66,
   "metadata": {},
   "outputs": [],
   "source": [
    "def assign_points(data,center):\n",
    "    assignment = []\n",
    "    for i in range(data.shape[0]):\n",
    "        assignment.append(np.argmin(np.sum((data[i]-center)**2,axis=1)))\n",
    "    return np.array(assignment)\n",
    "    "
   ]
  },
  {
   "cell_type": "code",
   "execution_count": 67,
   "metadata": {},
   "outputs": [],
   "source": [
    "def update_centers(_center,data,assignment,k):\n",
    "    center = np.array([np.ones((data.shape[1])) for i in range(k)],dtype=float)\n",
    "\n",
    "    for i in range(k):\n",
    "        if len(data[[assignment==i]])==0:\n",
    "            center[i] = np.random.randn(data.shape[1])\n",
    "            continue\n",
    "        center[i] = np.mean(data[[assignment==i]],axis=0)\n",
    "    return np.array(center,dtype=float)"
   ]
  },
  {
   "cell_type": "code",
   "execution_count": 99,
   "metadata": {},
   "outputs": [],
   "source": [
    "def k_means(X,k):\n",
    "    \n",
    "    centers = init_center(k,X.shape[1])\n",
    "#     centers = w\n",
    "    predict = assign_points(test_data[:500],centers)\n",
    "    \n",
    "    old_assignment = None\n",
    "    assignment = assign_points(X,centers)\n",
    "    epoch = 1\n",
    "    for i in range(2000):\n",
    "        epoch += 1\n",
    "        old_assignment = assignment.tolist()\n",
    "        centers = update_centers(centers,X,assignment,k)\n",
    "        assignment = assign_points(X,centers)\n",
    "    return centers,assignment\n"
   ]
  }
 ],
 "metadata": {
  "kernelspec": {
   "display_name": "Python 3",
   "language": "python",
   "name": "python3"
  },
  "language_info": {
   "codemirror_mode": {
    "name": "ipython",
    "version": 3
   },
   "file_extension": ".py",
   "mimetype": "text/x-python",
   "name": "python",
   "nbconvert_exporter": "python",
   "pygments_lexer": "ipython3",
   "version": "3.7.0"
  },
  "toc": {
   "base_numbering": 1,
   "nav_menu": {},
   "number_sections": true,
   "sideBar": true,
   "skip_h1_title": false,
   "title_cell": "Table of Contents",
   "title_sidebar": "Contents",
   "toc_cell": false,
   "toc_position": {},
   "toc_section_display": true,
   "toc_window_display": false
  }
 },
 "nbformat": 4,
 "nbformat_minor": 2
}
