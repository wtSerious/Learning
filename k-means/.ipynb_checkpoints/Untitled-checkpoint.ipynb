{
 "cells": [
  {
   "cell_type": "code",
   "execution_count": 2,
   "metadata": {},
   "outputs": [],
   "source": [
    "import numpy as np\n",
    "from sklearn.preprocessing import LabelBinarizer\n",
    "from sklearn.metrics import classification_report\n",
    "import load_MNIST\n",
    "from sklearn.preprocessing import StandardScaler"
   ]
  },
  {
   "cell_type": "markdown",
   "metadata": {},
   "source": [
    "利用写好的load_MNIST模块中的load_data方法导入MNIST数据集\n",
    "- Parameter\n",
    "    - file_name:list \n",
    "        四个文件路径\n",
    "        - list[0]: 训练集的图片数据文件路径\n",
    "        - list[1]: 测试集的图片数据文件路径\n",
    "        - list[2]: 训练集的标签文件路径\n",
    "        - list[3]: 测试集的标签文件路径\n",
    "- Return\n",
    "    - train_data: numpy array\n",
    "    - train_labels: list\n",
    "    - test_data: numpy array\n",
    "    - test_labels: list"
   ]
  },
  {
   "cell_type": "code",
   "execution_count": 77,
   "metadata": {},
   "outputs": [
    {
     "name": "stderr",
     "output_type": "stream",
     "text": [
      "D:\\Anaconda\\lib\\site-packages\\sklearn\\utils\\validation.py:475: DataConversionWarning: Data with input dtype int32 was converted to float64 by StandardScaler.\n",
      "  warnings.warn(msg, DataConversionWarning)\n"
     ]
    }
   ],
   "source": [
    "file = [\"C:/Users/wtser/Desktop/learnData/data/Mnist/train-images.idx3-ubyte\",\n",
    "       \"C:/Users/wtser/Desktop/learnData/data/Mnist/t10k-images.idx3-ubyte\",\n",
    "       \"C:/Users/wtser/Desktop/learnData/data/Mnist/train-labels.idx1-ubyte\",\n",
    "       \"C:/Users/wtser/Desktop/learnData/data/Mnist/t10k-labels.idx1-ubyte\"]  \n",
    "\n",
    "train_data,train_labels,test_data,test_labels = load_MNIST.load_data(file)\n",
    "scaler = StandardScaler()\n",
    "train_data = scaler.fit_transform(train_data)\n",
    "test_data = scaler.fit_transform(test_data)"
   ]
  },
  {
   "cell_type": "code",
   "execution_count": 55,
   "metadata": {},
   "outputs": [],
   "source": [
    "def init_center(k,col):\n",
    "    center = np.random.randn(k,col)\n",
    "    return center"
   ]
  },
  {
   "cell_type": "code",
   "execution_count": 57,
   "metadata": {},
   "outputs": [
    {
     "name": "stdout",
     "output_type": "stream",
     "text": [
      "[[-10.67023147 -15.66141413  -4.39867558  -3.05309085   0.11163176\n",
      "   11.91248993 -10.66736517  -7.76794745   5.40271183 -17.7891166\n",
      "   -0.30807331  11.64080573 -14.39040141  -3.63080838  -9.24698751\n",
      "   -2.4286781    2.74705893   0.66011714   9.33079591  -8.28537811]\n",
      " [  3.42771066   2.46127907   6.03647943   4.56153957   9.39917309\n",
      "    1.72662727  -5.05107011  -1.62866218  -4.25968322   2.34878176\n",
      "   -7.38326081  -8.72970129 -21.79183948  -6.97951099   2.47321476\n",
      "    3.76083445  -3.0802022   10.39222863  19.28776001  10.85084886]\n",
      " [ 12.62865199  -5.02570878 -12.40570294 -10.09341648   9.12140284\n",
      "   -6.48892503   8.98199445   1.28759626   9.41420102 -17.79877686\n",
      "   -4.2494941   14.08750125  -7.29956888  -7.11693506   9.35807156\n",
      "   -6.34265141  19.29348588  -7.25582199   9.8490061   22.09783259]\n",
      " [-12.94623284   0.75922324  -1.44195886  -0.40338368   1.17615748\n",
      "  -15.21473972  15.6571136    1.38505224  -3.83573402   0.1376288\n",
      "  -10.86641439   4.15816008  11.17984628   9.98392382  -4.96667929\n",
      "   11.24452464  -0.86547618   9.64877279  -8.21810245   0.47097244]\n",
      " [ -3.67415554   1.99768006  10.85210593  -1.67001673  -1.7213809\n",
      "    1.45035223  13.41055177   4.24226978  -5.27355181   4.88603415\n",
      "   -8.01283425 -13.51913483   5.90521635  12.97410594  -3.67701174\n",
      "   10.88296766  -9.2042934   -6.17046049   5.72559104  21.73151902]\n",
      " [-14.16949461   5.45666618  -4.56336362   7.51898214  15.1187266\n",
      "    4.98457619  -3.26544397  -5.33850919   3.37030698   3.02009212\n",
      "   -1.38411845 -13.20236702   7.79359416   4.50400261   6.84474383\n",
      "    4.591825     3.22755555   3.0625929   11.95954659  -8.39480321]\n",
      " [ -2.27681432 -15.05806251  -6.82663537   5.48826816  13.64869369\n",
      "   12.33221129  -0.17241134   0.04449788  -1.53548303   3.63592758\n",
      "  -11.32403755 -11.1263858   -9.32522999 -14.7344846  -15.71745499\n",
      "    5.7608933    3.38922681   2.37410614  -9.72800788   9.31897553]\n",
      " [-10.31884349  -0.62731127   6.10961817  10.50296978  -3.84041898\n",
      "   -2.26438872  -2.19989508   5.6279055   -9.27508373  14.36598746\n",
      "   -1.00148174  -7.51722639  -4.99951934   2.61105834  -0.95896498\n",
      "   10.85668004   4.75009051  -7.58384576   1.66921195  -4.65981365]\n",
      " [  3.30421234  -0.42173997  18.79471418  12.2504886   12.78938847\n",
      "    3.63491372  16.75349227  -6.70810229   1.91895013  -3.03289762\n",
      "   11.07194467  -1.22422927  -6.70803919   7.70265852 -26.47688677\n",
      "    6.5387816   -6.68366434   6.31258317 -23.44925088  18.90885418]\n",
      " [ 13.62205869  -1.77343949   4.16025454  -5.76986594  -1.83274901\n",
      "  -14.06302043 -16.2086349   11.12167009  -4.64662936 -14.05797309\n",
      "    4.9645131    6.91065146  18.0998055   -9.63344861  17.27297296\n",
      "  -14.21702772 -10.40796538  14.62271105   6.07233696   3.31120092]]\n"
     ]
    }
   ],
   "source": [
    "print(init_center(10,20)*10)"
   ]
  },
  {
   "cell_type": "code",
   "execution_count": 4,
   "metadata": {},
   "outputs": [],
   "source": [
    "def assign_points(data,center):\n",
    "    assignment = []\n",
    "    for i in range(data.shape[0]):\n",
    "#         print(data[i]-center)\n",
    "#         print((np.sum((data[i]-center)**2,axis=1)))\n",
    "#         print(np.argmin(np.sum((data[i]-center)**2,axis=1)))\n",
    "        assignment.append(np.argmin(np.sum((data[i]-center)**2,axis=1)))\n",
    "    return np.array(assignment)\n",
    "    "
   ]
  },
  {
   "cell_type": "code",
   "execution_count": 366,
   "metadata": {},
   "outputs": [
    {
     "name": "stdout",
     "output_type": "stream",
     "text": [
      "[[1. 1.]]\n"
     ]
    }
   ],
   "source": [
    "print(np.ones((1,2)))"
   ]
  },
  {
   "cell_type": "code",
   "execution_count": 85,
   "metadata": {},
   "outputs": [],
   "source": [
    "def update_centers(_center,data,assignment,k):\n",
    "    center = np.array([np.ones((data.shape[1])) for i in range(k)],dtype=float)\n",
    "\n",
    "    for i in range(k):\n",
    "#         print(data[[assignment==i]])\n",
    "        if len(data[[assignment==i]])==0:\n",
    "#             print('kong')\n",
    "            center[i] = np.random.randn(data.shape[1])\n",
    "            continue\n",
    "#         print(i,data[assignment==i].shape)\n",
    "#         print(np.mean(data[[assignment==i]],axis=0))\n",
    "#         print('i',i,_center[i])\n",
    "        center[i] = np.mean(data[[assignment==i]],axis=0)\n",
    "#         print('i-',i,center[i])\n",
    "    return np.array(center,dtype=float)"
   ]
  },
  {
   "cell_type": "code",
   "execution_count": 355,
   "metadata": {},
   "outputs": [
    {
     "name": "stdout",
     "output_type": "stream",
     "text": [
      "[[1 2]\n",
      " [2 3]\n",
      " [3 3]]\n"
     ]
    }
   ],
   "source": [
    "a = np.array([[1,2],[2,3]])\n",
    "b = np.array([3,3])\n",
    "print(np.row_stack((a,b)))"
   ]
  },
  {
   "cell_type": "code",
   "execution_count": 102,
   "metadata": {},
   "outputs": [],
   "source": [
    "def k_means(X,k):\n",
    "    \n",
    "    centers = init_center(k,X.shape[1])\n",
    "#     print(centers)\n",
    "    predict = assign_points(test_data[:500],centers)\n",
    "    print('聚类前',classification_report(predict,test_labels[:500]))\n",
    "    \n",
    "    old_assignment = None\n",
    "    assignment = assign_points(X,centers)\n",
    "#     print(assignment)\n",
    "    epoch = 1\n",
    "    for i in range(10):\n",
    "#         print(epoch)\n",
    "        epoch += 1\n",
    "        old_assignment = assignment.tolist()\n",
    "        centers = update_centers(centers,X,assignment,k)\n",
    "#         print('center',centers)\n",
    "        assignment = assign_points(X,centers)\n",
    "#         print(assignment.shape)\n",
    "    return centers,assignment\n"
   ]
  },
  {
   "cell_type": "code",
   "execution_count": 103,
   "metadata": {},
   "outputs": [
    {
     "name": "stderr",
     "output_type": "stream",
     "text": [
      "D:\\Anaconda\\lib\\site-packages\\sklearn\\metrics\\classification.py:1137: UndefinedMetricWarning: Recall and F-score are ill-defined and being set to 0.0 in labels with no true samples.\n",
      "  'recall', 'true', average, warn_for)\n",
      "D:\\Anaconda\\lib\\site-packages\\ipykernel_launcher.py:6: FutureWarning: Using a non-tuple sequence for multidimensional indexing is deprecated; use `arr[tuple(seq)]` instead of `arr[seq]`. In the future this will be interpreted as an array index, `arr[np.array(seq)]`, which will result either in an error or a different result.\n",
      "  \n",
      "D:\\Anaconda\\lib\\site-packages\\ipykernel_launcher.py:13: FutureWarning: Using a non-tuple sequence for multidimensional indexing is deprecated; use `arr[tuple(seq)]` instead of `arr[seq]`. In the future this will be interpreted as an array index, `arr[np.array(seq)]`, which will result either in an error or a different result.\n",
      "  del sys.path[0]\n"
     ]
    },
    {
     "name": "stdout",
     "output_type": "stream",
     "text": [
      "聚类前              precision    recall  f1-score   support\n",
      "\n",
      "          0       0.00      0.00      0.00         6\n",
      "          1       0.03      0.05      0.04        40\n",
      "          2       0.02      0.06      0.03        16\n",
      "          3       0.13      0.15      0.14        39\n",
      "          4       0.53      0.19      0.28       149\n",
      "          5       0.00      0.00      0.00         0\n",
      "          6       0.07      0.05      0.06        59\n",
      "          7       0.14      0.05      0.07       154\n",
      "          8       0.00      0.00      0.00         0\n",
      "          9       0.06      0.08      0.07        37\n",
      "\n",
      "avg / total       0.23      0.10      0.13       500\n",
      "\n"
     ]
    }
   ],
   "source": [
    "center,assignment = k_means(train_data[:1000],10)"
   ]
  },
  {
   "cell_type": "code",
   "execution_count": 105,
   "metadata": {},
   "outputs": [
    {
     "name": "stdout",
     "output_type": "stream",
     "text": [
      "             precision    recall  f1-score   support\n",
      "\n",
      "          0       0.00      0.00      0.00        26\n",
      "          1       0.00      0.00      0.00         8\n",
      "          2       0.00      0.00      0.00        23\n",
      "          3       0.27      0.22      0.24        54\n",
      "          4       0.11      0.18      0.13        34\n",
      "          5       0.00      0.00      0.00        25\n",
      "          6       0.00      0.00      0.00        12\n",
      "          7       0.24      0.08      0.12       146\n",
      "          8       0.00      0.00      0.00         0\n",
      "          9       0.76      0.24      0.36       172\n",
      "\n",
      "avg / total       0.37      0.14      0.20       500\n",
      "\n"
     ]
    },
    {
     "name": "stderr",
     "output_type": "stream",
     "text": [
      "D:\\Anaconda\\lib\\site-packages\\sklearn\\metrics\\classification.py:1137: UndefinedMetricWarning: Recall and F-score are ill-defined and being set to 0.0 in labels with no true samples.\n",
      "  'recall', 'true', average, warn_for)\n"
     ]
    }
   ],
   "source": [
    "predict = assign_points(test_data[:500],center)\n",
    "print(classification_report(predict,test_labels[:500]))"
   ]
  },
  {
   "cell_type": "code",
   "execution_count": 80,
   "metadata": {},
   "outputs": [
    {
     "name": "stdout",
     "output_type": "stream",
     "text": [
      "True\n"
     ]
    }
   ],
   "source": [
    "a = [1,2,3]\n",
    "b = [1,2,4]\n",
    "print(a!=b)"
   ]
  },
  {
   "cell_type": "code",
   "execution_count": 323,
   "metadata": {},
   "outputs": [],
   "source": [
    "def cl(centers,X,assignment,k):\n",
    "    centers = update_centers(X,assignment,k)\n",
    "    assignment = assign_points(X,centers)\n",
    "    return  centers,assignment"
   ]
  },
  {
   "cell_type": "code",
   "execution_count": 331,
   "metadata": {},
   "outputs": [],
   "source": [
    "def look(X,assignment):\n",
    "    print(np.mean(X[assignment==1],axis=)"
   ]
  },
  {
   "cell_type": "code",
   "execution_count": 381,
   "metadata": {},
   "outputs": [
    {
     "name": "stdout",
     "output_type": "stream",
     "text": [
      "(10, 784)\n",
      "kong\n",
      "1 (3, 784)\n",
      "kong\n",
      "kong\n",
      "4 (1, 784)\n",
      "kong\n",
      "6 (12, 784)\n",
      "7 (1, 784)\n",
      "8 (3, 784)\n",
      "kong\n"
     ]
    },
    {
     "name": "stderr",
     "output_type": "stream",
     "text": [
      "D:\\Anaconda\\lib\\site-packages\\ipykernel_launcher.py:6: FutureWarning: Using a non-tuple sequence for multidimensional indexing is deprecated; use `arr[tuple(seq)]` instead of `arr[seq]`. In the future this will be interpreted as an array index, `arr[np.array(seq)]`, which will result either in an error or a different result.\n",
      "  \n"
     ]
    }
   ],
   "source": [
    "center,assignment = cl(center,train_data[:20],assignment,10)"
   ]
  }
 ],
 "metadata": {
  "kernelspec": {
   "display_name": "Python 3",
   "language": "python",
   "name": "python3"
  },
  "language_info": {
   "codemirror_mode": {
    "name": "ipython",
    "version": 3
   },
   "file_extension": ".py",
   "mimetype": "text/x-python",
   "name": "python",
   "nbconvert_exporter": "python",
   "pygments_lexer": "ipython3",
   "version": "3.7.0"
  },
  "toc": {
   "base_numbering": 1,
   "nav_menu": {},
   "number_sections": true,
   "sideBar": true,
   "skip_h1_title": false,
   "title_cell": "Table of Contents",
   "title_sidebar": "Contents",
   "toc_cell": false,
   "toc_position": {},
   "toc_section_display": true,
   "toc_window_display": false
  }
 },
 "nbformat": 4,
 "nbformat_minor": 2
}
