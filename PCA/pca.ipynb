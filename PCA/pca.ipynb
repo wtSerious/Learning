{
 "cells": [
  {
   "cell_type": "code",
   "execution_count": 5,
   "metadata": {},
   "outputs": [],
   "source": [
    "import numpy as np\n",
    "from sklearn.preprocessing import LabelBinarizer\n",
    "from sklearn.metrics import classification_report\n",
    "import load_MNIST\n",
    "from sklearn.preprocessing import StandardScaler\n",
    "import matplotlib.pyplot as plt"
   ]
  },
  {
   "cell_type": "markdown",
   "metadata": {},
   "source": [
    "利用写好的load_MNIST模块中的load_data方法导入MNIST数据集\n",
    "- Parameter\n",
    "    - file_name:list \n",
    "        四个文件路径\n",
    "        - list[0]: 训练集的图片数据文件路径\n",
    "        - list[1]: 测试集的图片数据文件路径\n",
    "        - list[2]: 训练集的标签文件路径\n",
    "        - list[3]: 测试集的标签文件路径\n",
    "- Return\n",
    "    - train_data: numpy array\n",
    "    - train_labels: list\n",
    "    - test_data: numpy array\n",
    "    - test_labels: list"
   ]
  },
  {
   "cell_type": "code",
   "execution_count": 63,
   "metadata": {},
   "outputs": [],
   "source": [
    "file = [\"C:/Users/wtser/Desktop/learnData/data/Mnist/train-images.idx3-ubyte\",\n",
    "       \"C:/Users/wtser/Desktop/learnData/data/Mnist/t10k-images.idx3-ubyte\",\n",
    "       \"C:/Users/wtser/Desktop/learnData/data/Mnist/train-labels.idx1-ubyte\",\n",
    "       \"C:/Users/wtser/Desktop/learnData/data/Mnist/t10k-labels.idx1-ubyte\"]  \n",
    "\n",
    "train_data,train_labels,test_data,test_labels = load_MNIST.load_data(file)\n",
    "# train_data = train_data.reshape(train_data.shape[0],28,28)\n",
    "# test_data = test_data.reshape(test_data.shape[0],28,28)"
   ]
  },
  {
   "cell_type": "code",
   "execution_count": 83,
   "metadata": {},
   "outputs": [],
   "source": [
    "def sort_element(l):\n",
    "    return l[0]"
   ]
  },
  {
   "cell_type": "code",
   "execution_count": 97,
   "metadata": {},
   "outputs": [],
   "source": [
    "def PCA(X,k):\n",
    "    mean = np.array([np.mean(X[:,i]) for i in range(X.shape[1])])\n",
    "    norm_X = X-mean\n",
    "    matrix = norm_X.T.dot(norm_X)/X.shape[1]\n",
    "    val,vec = np.linalg.eig(matrix)\n",
    "    eig_pairs = [(np.abs(val[i]),vec[:,i]) for i in range(len(val))]\n",
    "    eig_pairs.sort(key=sort_element,reverse=True)\n",
    "    feature = np.array([i[1] for i in eig_pairs[:k]])\n",
    "    data = norm_X.dot(feature.T)\n",
    "    return data"
   ]
  },
  {
   "cell_type": "code",
   "execution_count": 98,
   "metadata": {},
   "outputs": [
    {
     "name": "stdout",
     "output_type": "stream",
     "text": [
      "(100, 500)\n"
     ]
    }
   ],
   "source": [
    "new_data = PCA(train_data[:100],500)\n",
    "print(new_data.shape)"
   ]
  }
 ],
 "metadata": {
  "kernelspec": {
   "display_name": "Python 3",
   "language": "python",
   "name": "python3"
  },
  "language_info": {
   "codemirror_mode": {
    "name": "ipython",
    "version": 3
   },
   "file_extension": ".py",
   "mimetype": "text/x-python",
   "name": "python",
   "nbconvert_exporter": "python",
   "pygments_lexer": "ipython3",
   "version": "3.7.0"
  },
  "toc": {
   "base_numbering": 1,
   "nav_menu": {},
   "number_sections": true,
   "sideBar": true,
   "skip_h1_title": false,
   "title_cell": "Table of Contents",
   "title_sidebar": "Contents",
   "toc_cell": false,
   "toc_position": {},
   "toc_section_display": true,
   "toc_window_display": false
  }
 },
 "nbformat": 4,
 "nbformat_minor": 2
}
