{
 "cells": [
  {
   "cell_type": "code",
   "execution_count": 1,
   "metadata": {},
   "outputs": [],
   "source": [
    "import numpy as np\n",
    "import struct"
   ]
  },
  {
   "cell_type": "code",
   "execution_count": 2,
   "metadata": {},
   "outputs": [],
   "source": [
    "def load_data(file_name):\n",
    "    \"\"\"\n",
    "    To load the data of train and test\n",
    "    \n",
    "    Parameters\n",
    "    ----------\n",
    "    file_name: [4] of the  road of the data file\n",
    "        [0] is the road of the train_data\n",
    "        [1] is the road of the test_data\n",
    "        [2] is the road of the train_labels\n",
    "        [3] is the road of the test_labels\n",
    "        \n",
    "    Return: \n",
    "    ----------\n",
    "    train_data: numpy array of shape (,)\n",
    "    train_lable: list of size (,1) \n",
    "    test_data:[] numpy array of shape (,)\n",
    "    test_lable:[] numpy array of size (,1)\n",
    "    \"\"\"\n",
    "    train_data = load_image(file_name[0])\n",
    "    test_data = load_image(file_name[1])\n",
    "    train_labels = load_lable(file[2])\n",
    "    test_labels = load_lable(file[3])\n",
    "    \n",
    "    return train_data,train_labels,test_data,test_labels"
   ]
  },
  {
   "cell_type": "markdown",
   "metadata": {},
   "source": [
    "MNIST 数据集的文件都是二进制格式，需要从中提取所需数据.\n",
    "由官网可知，MNIST训练集中的\n",
    "- 第1-4个 byte 存的是文件的 magic number\n",
    "- 第5-8个 byte 存的是文件的 numbers of images\n",
    "- 第9-12个 byte 存的是图片的 number of rows\n",
    "- 第12-16个 byte 存的是图片的 number of columns\n",
    "- 从第17个 byet 开始，后面存的都是图片的像素\n"
   ]
  },
  {
   "cell_type": "code",
   "execution_count": 3,
   "metadata": {},
   "outputs": [],
   "source": [
    "def load_image(image_file):\n",
    "    \"\"\"\n",
    "    To load the data of Image\n",
    "    \n",
    "    Parameter\n",
    "    --------\n",
    "    image_file:str \n",
    "        the road of the image data file\n",
    "        \n",
    "    Return\n",
    "    --------\n",
    "    imgs: numpy array of shape(,)\n",
    "    \"\"\"\n",
    "    #open the file and read the data\n",
    "    f = open(image_file,'rb')\n",
    "    buffers = f.read()\n",
    "    \n",
    "    head = struct.unpack_from('>IIII',buffers,0)\n",
    "\n",
    "    offset = struct.calcsize('>IIII')\n",
    "    imgNum = head[1]\n",
    "    width = head[2]\n",
    "    height = head[3]\n",
    "    \n",
    "    bits = imgNum*width*height\n",
    "    bitsString = '>' + str(bits) +'B'\n",
    "    \n",
    "    imgs = struct.unpack_from(bitsString,buffers,offset)\n",
    "    \n",
    "    f.close()\n",
    "    imgs = np.reshape(imgs,[imgNum,1,width*height])\n",
    "    \n",
    "    return imgs"
   ]
  },
  {
   "cell_type": "code",
   "execution_count": 17,
   "metadata": {},
   "outputs": [],
   "source": [
    "def load_lable(file):\n",
    "    \"\"\"\n",
    "    To load the label of Image\n",
    "    \n",
    "    Parameter\n",
    "    ---------\n",
    "    file: str \n",
    "        the road of file\n",
    "        \n",
    "    Return\n",
    "    ---------\n",
    "    lable: list of (1,)\n",
    "    \"\"\"\n",
    "    f = open(file,'rb')\n",
    "    buffers = f.read()\n",
    "    \n",
    "    head = struct.unpack_from('>II',buffers,0)\n",
    "    \n",
    "    imgNum = head[1]\n",
    "    \n",
    "    offset = struct.calcsize('II')\n",
    "    numString = '>'+str(imgNum)+'B'\n",
    "    labels = struct.unpack_from(numString,buffers,offset)\n",
    "    \n",
    "    f.close()\n",
    "    labels = np.reshape(labels,[1,-1])\n",
    "    \n",
    "    return labels.flatten()\n",
    "    "
   ]
  },
  {
   "cell_type": "code",
   "execution_count": 22,
   "metadata": {},
   "outputs": [],
   "source": [
    "# file = [\"C:/Users/wtser/Desktop/learnData/data/Mnist/train-images.idx3-ubyte\",\n",
    "#        \"C:/Users/wtser/Desktop/learnData/data/Mnist/t10k-images.idx3-ubyte\",\n",
    "#        \"C:/Users/wtser/Desktop/learnData/data/Mnist/train-labels.idx1-ubyte\",\n",
    "#        \"C:/Users/wtser/Desktop/learnData/data/Mnist/t10k-labels.idx1-ubyte\"]\n",
    "\n",
    "# train_data,train_labels,test_data,test_labels = load_data(file_name=file)"
   ]
  }
 ],
 "metadata": {
  "kernelspec": {
   "display_name": "Python 3",
   "language": "python",
   "name": "python3"
  },
  "language_info": {
   "codemirror_mode": {
    "name": "ipython",
    "version": 3
   },
   "file_extension": ".py",
   "mimetype": "text/x-python",
   "name": "python",
   "nbconvert_exporter": "python",
   "pygments_lexer": "ipython3",
   "version": "3.7.0"
  },
  "toc": {
   "base_numbering": 1,
   "nav_menu": {},
   "number_sections": true,
   "sideBar": true,
   "skip_h1_title": false,
   "title_cell": "Table of Contents",
   "title_sidebar": "Contents",
   "toc_cell": false,
   "toc_position": {},
   "toc_section_display": true,
   "toc_window_display": false
  }
 },
 "nbformat": 4,
 "nbformat_minor": 2
}
