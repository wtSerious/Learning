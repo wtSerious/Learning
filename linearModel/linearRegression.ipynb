{
 "cells": [
  {
   "cell_type": "code",
   "execution_count": 22,
   "metadata": {},
   "outputs": [],
   "source": [
    "import load_MNIST\n",
    "import numpy as np\n",
    "from sklearn.preprocessing import LabelBinarizer\n",
    "from sklearn import linear_model\n",
    "from sklearn.metrics import classification_report\n",
    "from sklearn import tree\n",
    "from sklearn import svm"
   ]
  },
  {
   "cell_type": "markdown",
   "metadata": {},
   "source": [
    "利用写好的load_MNIST模块中的load_data方法导入MNIST数据集\n",
    "- Parameter\n",
    "    - file_name:list \n",
    "        四个文件路径\n",
    "        - list[0]: 训练集的图片数据文件路径\n",
    "        - list[1]: 测试集的图片数据文件路径\n",
    "        - list[2]: 训练集的标签文件路径\n",
    "        - list[3]: 测试集的标签文件路径\n",
    "- Return\n",
    "    - train_data: numpy array\n",
    "    - train_labels: list\n",
    "    - test_data: numpy array\n",
    "    - test_labels: list"
   ]
  },
  {
   "cell_type": "code",
   "execution_count": 2,
   "metadata": {},
   "outputs": [],
   "source": [
    "file = [\"C:/Users/wtser/Desktop/learnData/data/Mnist/train-images.idx3-ubyte\",\n",
    "       \"C:/Users/wtser/Desktop/learnData/data/Mnist/t10k-images.idx3-ubyte\",\n",
    "       \"C:/Users/wtser/Desktop/learnData/data/Mnist/train-labels.idx1-ubyte\",\n",
    "       \"C:/Users/wtser/Desktop/learnData/data/Mnist/t10k-labels.idx1-ubyte\"]\n",
    "\n",
    "train_data,train_labels,test_data,test_labels = load_MNIST.load_data(file)"
   ]
  },
  {
   "cell_type": "markdown",
   "metadata": {},
   "source": [
    "利用logisticRegression进行分类，只取一部分数据进行测试，所有数据放进去训练需要太长的时间"
   ]
  },
  {
   "cell_type": "code",
   "execution_count": 12,
   "metadata": {
    "scrolled": true
   },
   "outputs": [
    {
     "name": "stdout",
     "output_type": "stream",
     "text": [
      "             precision    recall  f1-score   support\n",
      "\n",
      "          0       1.00      0.95      0.97        20\n",
      "          1       1.00      1.00      1.00        34\n",
      "          2       0.83      0.91      0.87        22\n",
      "          3       0.87      0.83      0.85        24\n",
      "          4       0.91      0.97      0.94        31\n",
      "          5       0.84      0.81      0.82        26\n",
      "          6       0.91      0.91      0.91        22\n",
      "          7       0.93      0.84      0.89        32\n",
      "          8       0.79      0.79      0.79        14\n",
      "          9       0.74      0.80      0.77        25\n",
      "\n",
      "avg / total       0.89      0.89      0.89       250\n",
      "\n"
     ]
    }
   ],
   "source": [
    "reg = linear_model.LogisticRegression()\n",
    "reg.fit(train_data[:1000],train_labels[:1000])\n",
    "pre_y = reg.predict(test_data[:250])\n",
    "print(classification_report(pre_y,test_labels[:250]))"
   ]
  },
  {
   "cell_type": "markdown",
   "metadata": {},
   "source": [
    "利用决策树进行分类，只取一部分数据进行测试，所有数据放进去训练需要太长的时间"
   ]
  },
  {
   "cell_type": "code",
   "execution_count": 16,
   "metadata": {},
   "outputs": [
    {
     "name": "stdout",
     "output_type": "stream",
     "text": [
      "             precision    recall  f1-score   support\n",
      "\n",
      "          0       0.84      0.80      0.82        20\n",
      "          1       0.88      0.81      0.85        37\n",
      "          2       0.58      0.54      0.56        26\n",
      "          3       0.57      0.62      0.59        21\n",
      "          4       0.52      0.68      0.59        25\n",
      "          5       0.80      0.61      0.69        33\n",
      "          6       0.64      0.70      0.67        20\n",
      "          7       0.79      0.77      0.78        30\n",
      "          8       0.64      0.60      0.62        15\n",
      "          9       0.56      0.65      0.60        23\n",
      "\n",
      "avg / total       0.70      0.68      0.69       250\n",
      "\n"
     ]
    }
   ],
   "source": [
    "clf = tree.DecisionTreeClassifier()\n",
    "clf = clf.fit(train_data[:1000],train_labels[:1000])\n",
    "pre_y = clf.predict(test_data[:250])\n",
    "print(classification_report(pre_y,test_labels[:250]))"
   ]
  },
  {
   "cell_type": "markdown",
   "metadata": {},
   "source": [
    "利用 SVM 进行分类，只取一部分数据进行测试，所有数据放进去训练需要太长的时间"
   ]
  },
  {
   "cell_type": "code",
   "execution_count": 25,
   "metadata": {},
   "outputs": [
    {
     "name": "stdout",
     "output_type": "stream",
     "text": [
      "             precision    recall  f1-score   support\n",
      "\n",
      "          0       1.00      0.95      0.97        20\n",
      "          1       1.00      0.97      0.99        35\n",
      "          2       0.83      0.91      0.87        22\n",
      "          3       0.83      0.83      0.83        23\n",
      "          4       0.91      0.97      0.94        31\n",
      "          5       0.84      0.81      0.82        26\n",
      "          6       0.91      0.91      0.91        22\n",
      "          7       0.93      0.84      0.89        32\n",
      "          8       0.71      0.71      0.71        14\n",
      "          9       0.74      0.80      0.77        25\n",
      "\n",
      "avg / total       0.88      0.88      0.88       250\n",
      "\n"
     ]
    }
   ],
   "source": [
    "clf = svm.LinearSVC()\n",
    "clf.fit(train_data[:1000], train_labels[:1000])\n",
    "pre_y = clf.predict(test_data[:250])\n",
    "print(classification_report(pre_y,test_labels[:250]))"
   ]
  }
 ],
 "metadata": {
  "kernelspec": {
   "display_name": "Python 3",
   "language": "python",
   "name": "python3"
  },
  "language_info": {
   "codemirror_mode": {
    "name": "ipython",
    "version": 3
   },
   "file_extension": ".py",
   "mimetype": "text/x-python",
   "name": "python",
   "nbconvert_exporter": "python",
   "pygments_lexer": "ipython3",
   "version": "3.7.0"
  },
  "toc": {
   "base_numbering": 1,
   "nav_menu": {},
   "number_sections": true,
   "sideBar": true,
   "skip_h1_title": false,
   "title_cell": "Table of Contents",
   "title_sidebar": "Contents",
   "toc_cell": false,
   "toc_position": {},
   "toc_section_display": true,
   "toc_window_display": false
  }
 },
 "nbformat": 4,
 "nbformat_minor": 2
}
