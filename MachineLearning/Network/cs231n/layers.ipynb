{
 "cells": [
  {
   "cell_type": "code",
   "execution_count": 5,
   "metadata": {},
   "outputs": [],
   "source": [
    "import numpy as np"
   ]
  },
  {
   "cell_type": "code",
   "execution_count": 17,
   "metadata": {},
   "outputs": [],
   "source": [
    "def affine_forward(x,w,b):\n",
    "    \n",
    "    \"\"\"\n",
    "Compute the forward pass for affine layer\n",
    "\n",
    "Parameters\n",
    "----------\n",
    "x: A numpy array containing input data,of shape(N,d_1,d_2,..,d_k) \n",
    "w: A numpy array of weights, of shape (D,M)\n",
    "b: A numpy array of biases, of shape (M,)\n",
    "\n",
    "Return a tuple of\n",
    "----------\n",
    "out: output, of shape(N,M)\n",
    "cache: (x,w,b)\n",
    "    \"\"\"\n",
    "    N = x.shape[0]\n",
    "    x_rsp = x.reshape(N,-1)\n",
    "    out = x_rsp.dot(w) + b\n",
    "    cache = (x,w,b)\n",
    "    return out,cache"
   ]
  },
  {
   "cell_type": "code",
   "execution_count": 41,
   "metadata": {},
   "outputs": [],
   "source": [
    "def relu_forward(x):\n",
    "    \"\"\"\n",
    "    Compute the forward pass for a layer of relu \n",
    "    \"\"\"\n",
    "    out = x*(x >= 0)\n",
    "    cache = x\n",
    "    return out,cache"
   ]
  },
  {
   "cell_type": "code",
   "execution_count": 42,
   "metadata": {},
   "outputs": [],
   "source": [
    "def affine_backward(dout,cache):\n",
    "    \"\"\"\n",
    "    Compute the backward  pass for an affine layers.py\n",
    "    \n",
    "    Parameters:\n",
    "    -----------\n",
    "    dout: Upstream derivative of shape(N,M)\n",
    "    cache: Tuple of\n",
    "        x: Input data\n",
    "        w: Weight, of shape(D,M)\n",
    "        \n",
    "    Return:\n",
    "    -----------\n",
    "    dx: Gradient with respect to x, of shape(N,d_1,d_2,...,d_k)\n",
    "    db: Gradient with respect to b, of shape(M,)\n",
    "    \"\"\"\n",
    "    x,w,b = cache\n",
    "    x_rsp = x.reshape(x.shape[0],-1)\n",
    "    dx = dout.dot(w.T)\n",
    "    dx = dx.reshape(*x.shape)\n",
    "    dw = x_rsp.T.dot(dout)\n",
    "    db = np.sum(dout,axis= 0)\n",
    "    \n",
    "    return dx,dw,db"
   ]
  },
  {
   "cell_type": "code",
   "execution_count": 39,
   "metadata": {},
   "outputs": [],
   "source": [
    "def relu_backward(dout,cache):\n",
    "    dx = (cache>=0 ) * dout\n",
    "    return dx"
   ]
  },
  {
   "cell_type": "code",
   "execution_count": 55,
   "metadata": {},
   "outputs": [],
   "source": [
    "def affine_relu_forward(x,w,b):\n",
    "    \"\"\"\n",
    "    Convenience layer that perorms an affine transform \n",
    "    followed by Relu\n",
    "    \n",
    "    Parameter:\n",
    "    ----------\n",
    "    x: A numpy array of input data, of shape (N,M)\n",
    "    w: A numpy array of weight\n",
    "    \n",
    "    Return a typle of:\n",
    "    ----------\n",
    "    out: Output from the Relu\n",
    "    cache: Object to give to the backward pass\n",
    "    \"\"\"\n",
    "    z,af_cache = affine_forward(x,w,b)\n",
    "    out,relu_cahce = relu_forward(z)\n",
    "    cache = (af_cache,relu_cahce)\n",
    "    return out,cache"
   ]
  },
  {
   "cell_type": "code",
   "execution_count": 57,
   "metadata": {},
   "outputs": [],
   "source": [
    "def affine_relu_backward(dout,cache):\n",
    "    af_cache,relu_cache = cache\n",
    "    dr = relu_backward(dout,relu_cache)\n",
    "    dx,dw,db = affine_backward(dr,af_cache)\n",
    "    return dx,dw,db"
   ]
  },
  {
   "cell_type": "code",
   "execution_count": 62,
   "metadata": {},
   "outputs": [],
   "source": [
    "def soft_loss(x,y):\n",
    "    \"\"\"\n",
    "    \n",
    "    \"\"\"\n",
    "    probs = np.exp(x-np.max(x,axis=1,keepdims=True))\n",
    "    probs /= np.sum(probs,axis=1,keepdims=True)\n",
    "    N = x.shape[0]\n",
    "    loss = -np.sum(np.log([probs[np.arange(N),y]]))/N\n",
    "    dx = probs.copy()\n",
    "    dx[np.arange(N),y] -= 1\n",
    "    dx /= N\n",
    "    return loss, dx"
   ]
  },
  {
   "cell_type": "code",
   "execution_count": 63,
   "metadata": {},
   "outputs": [
    {
     "name": "stderr",
     "output_type": "stream",
     "text": [
      "[NbConvertApp] Converting notebook layers.ipynb to python\n",
      "[NbConvertApp] Writing 2482 bytes to layers.py\n"
     ]
    }
   ],
   "source": [
    "!jupyter nbconvert --to python layers.ipynb"
   ]
  }
 ],
 "metadata": {
  "kernelspec": {
   "display_name": "Python 3",
   "language": "python",
   "name": "python3"
  },
  "language_info": {
   "codemirror_mode": {
    "name": "ipython",
    "version": 3
   },
   "file_extension": ".py",
   "mimetype": "text/x-python",
   "name": "python",
   "nbconvert_exporter": "python",
   "pygments_lexer": "ipython3",
   "version": "3.7.0"
  },
  "toc": {
   "base_numbering": 1,
   "nav_menu": {},
   "number_sections": true,
   "sideBar": true,
   "skip_h1_title": false,
   "title_cell": "Table of Contents",
   "title_sidebar": "Contents",
   "toc_cell": false,
   "toc_position": {},
   "toc_section_display": true,
   "toc_window_display": false
  }
 },
 "nbformat": 4,
 "nbformat_minor": 2
}
