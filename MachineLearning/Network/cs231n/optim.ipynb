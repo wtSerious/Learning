{
 "cells": [
  {
   "cell_type": "code",
   "execution_count": 12,
   "metadata": {},
   "outputs": [],
   "source": [
    "import numpy as np"
   ]
  },
  {
   "cell_type": "code",
   "execution_count": 13,
   "metadata": {},
   "outputs": [],
   "source": [
    "def sgd_momentum(w,dw,config=None):\n",
    "    \"\"\"\n",
    "    Performs stochastic gradient descent with momentum.\n",
    "    \n",
    "    Parameters:\n",
    "    -----------\n",
    "    config format:\n",
    "        learning_rate:\n",
    "        momentum:\n",
    "        velocity:\n",
    "    \"\"\"\n",
    "    if config is None:\n",
    "        config = {}\n",
    "    \n",
    "    config.setdefault('learning_rate',1e-2)\n",
    "    config.setdefault('momentum',0.9)\n",
    "    v = config.get('velocity',np.zeros_like(w))\n",
    "    \n",
    "    next_w = None\n",
    "    v = config['momentum'] * v - config['learning_rate']*dw\n",
    "    next_w = w + v\n",
    "    \n",
    "    config['velocity'] = v\n",
    "    \n",
    "    return next_w,v"
   ]
  },
  {
   "cell_type": "code",
   "execution_count": 14,
   "metadata": {},
   "outputs": [
    {
     "name": "stderr",
     "output_type": "stream",
     "text": [
      "[NbConvertApp] Converting notebook optim.ipynb to python\n",
      "[NbConvertApp] Writing 722 bytes to optim.py\n"
     ]
    }
   ],
   "source": [
    "!jupyter nbconvert --to python optim.ipynb"
   ]
  },
  {
   "cell_type": "code",
   "execution_count": null,
   "metadata": {},
   "outputs": [],
   "source": []
  }
 ],
 "metadata": {
  "kernelspec": {
   "display_name": "Python 3",
   "language": "python",
   "name": "python3"
  },
  "language_info": {
   "codemirror_mode": {
    "name": "ipython",
    "version": 3
   },
   "file_extension": ".py",
   "mimetype": "text/x-python",
   "name": "python",
   "nbconvert_exporter": "python",
   "pygments_lexer": "ipython3",
   "version": "3.7.0"
  },
  "toc": {
   "base_numbering": 1,
   "nav_menu": {},
   "number_sections": true,
   "sideBar": true,
   "skip_h1_title": false,
   "title_cell": "Table of Contents",
   "title_sidebar": "Contents",
   "toc_cell": false,
   "toc_position": {},
   "toc_section_display": true,
   "toc_window_display": false
  }
 },
 "nbformat": 4,
 "nbformat_minor": 2
}
