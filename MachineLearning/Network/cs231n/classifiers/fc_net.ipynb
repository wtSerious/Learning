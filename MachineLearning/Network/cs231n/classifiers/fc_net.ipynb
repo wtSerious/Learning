{
 "cells": [
  {
   "cell_type": "code",
   "execution_count": 18,
   "metadata": {},
   "outputs": [],
   "source": [
    "import sys;\n",
    "sys.path.append(\"E:/JupyterEnviroment/Learning/MachineLearning/Network/\")\n",
    "import numpy as np\n",
    "from cs231n.layers import *"
   ]
  },
  {
   "cell_type": "code",
   "execution_count": 29,
   "metadata": {},
   "outputs": [],
   "source": [
    "class TwoLayerNet(object):\n",
    "    \"\"\"\n",
    "    A two-layer fully-connetcted neural network \n",
    "    with Relu nonlinearity and soft_loss that uses\n",
    "    a modular layer design. we assum an input dimension\n",
    "    of D , a hidden dimension of H, and perform classification\n",
    "    over C classes.\n",
    "    \n",
    "    The architecure should be affine-relu-affine-softmax.\n",
    "    \n",
    "    \"\"\"\n",
    "    def __init__(self,input_dim = 3*32*32,hidden_dim = 100,\n",
    "                num_classes = 10,weight_scale=1e-3,reg=0.0):\n",
    "        \"\"\"\n",
    "         Initialize the netwrok.\n",
    "     \n",
    "         Parameters:\n",
    "         -----------\n",
    "         input_dim: An interger giving the size of the input\n",
    "         hidden_dim: An interger giving the size of the hidden  layers\n",
    "         num_classes: An integer giving the number of classes to classify\n",
    "         weight_scale: Scalar giving the standard deviation for random\n",
    "         reg: Scalar gibing L2 regularization strenth.\n",
    "         \"\"\"   \n",
    "        self.params = {}\n",
    "        self.reg = reg\n",
    "        \n",
    "        self.params['W1'] = weight_scale * np.random.randn(input_dim, hidden_dim)\n",
    "        self.params['b1'] = np.zeros(hidden_dim)\n",
    "        self.params['W2'] = weight_scale * np.random.randn(hidden_dim, num_classes)\n",
    "        self.params['b2'] = np.zeros(num_classes)\n",
    "    \n",
    "    def loss(self,X,y=None):\n",
    "       \"\"\"\n",
    "       Compute loss and gardient for a minibacht of data.\n",
    "       \n",
    "       Parameters:\n",
    "       -----------\n",
    "       X: A numpy array of input data, of shape(,)\n",
    "       y: A Array of labels\n",
    "       \n",
    "       Returns:\n",
    "       -----------\n",
    "       if y is not None, then rum a training-time forward\n",
    "       and backward pass and return a tuple of (loss,grads)\n",
    "       and self.params\n",
    "       \"\"\" \n",
    "       ar1_out,ar1_cache = affine_relu_forward(X,self.params['W1'],self.params['b1'])\n",
    "       a2_out,a2_cache = affine_forward(ar1_out,self.params['W2'],self.params['b2'])\n",
    "       scores = a2_out\n",
    "        \n",
    "        #if y is None then we are in test mode so just return scores\n",
    "       if y is None:\n",
    "        \n",
    "        return scores\n",
    "        \n",
    "       loss,grads = 0,{}\n",
    "       loss,dscores = soft_loss(scores,y)\n",
    "       loss = loss + 0.5 * self.reg * np.sum(self.params['W1'] * self.params['W1']) + 0.5 * self.reg * np.sum(self.params['W2'] * self.params['W2'])\n",
    "       dx2,dw2,db2 = affine_backward(dscores,a2_cache)\n",
    "       grads['W2'] = dw2 + self.reg*self.params['W2']\n",
    "       grads['b2'] = db2\n",
    "        \n",
    "       dx1,dw1,db1 = affine_relu_backward(dx2,ar1_cache)\n",
    "       grads['W1'] = dw1 + self.reg*self.params['W1']\n",
    "       grads['b1'] = db1\n",
    "        \n",
    "       return loss,grads\n",
    "    \n",
    "    "
   ]
  },
  {
   "cell_type": "code",
   "execution_count": 30,
   "metadata": {},
   "outputs": [
    {
     "name": "stderr",
     "output_type": "stream",
     "text": [
      "[NbConvertApp] Converting notebook fc_net.ipynb to python\n",
      "[NbConvertApp] Writing 2743 bytes to fc_net.py\n"
     ]
    }
   ],
   "source": [
    "!jupyter nbconvert --to python fc_net.ipynb"
   ]
  }
 ],
 "metadata": {
  "kernelspec": {
   "display_name": "Python 3",
   "language": "python",
   "name": "python3"
  },
  "language_info": {
   "codemirror_mode": {
    "name": "ipython",
    "version": 3
   },
   "file_extension": ".py",
   "mimetype": "text/x-python",
   "name": "python",
   "nbconvert_exporter": "python",
   "pygments_lexer": "ipython3",
   "version": "3.7.0"
  },
  "toc": {
   "base_numbering": 1,
   "nav_menu": {},
   "number_sections": true,
   "sideBar": true,
   "skip_h1_title": false,
   "title_cell": "Table of Contents",
   "title_sidebar": "Contents",
   "toc_cell": false,
   "toc_position": {},
   "toc_section_display": true,
   "toc_window_display": false
  }
 },
 "nbformat": 4,
 "nbformat_minor": 2
}
