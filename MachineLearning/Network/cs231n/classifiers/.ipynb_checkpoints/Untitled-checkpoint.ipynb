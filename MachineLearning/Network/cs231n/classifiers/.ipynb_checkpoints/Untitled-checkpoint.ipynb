{
 "cells": [
  {
   "cell_type": "markdown",
   "metadata": {},
   "source": [
    "- Layers 模块\n",
    "    - 负责前向传播和反向传播的方法，在 forward 函数中计算 out, 然后用 cache 缓存了在这里前向传播函数中用到的数据，为反向传播中需要用到当前层的 W 和 X 提供数据，值得学习。\n",
    "    \n",
    "      同时在反向传播中，接收上一层传来的梯度 $dout^{L+1}$ ,然后利用 $dout^{L+1} * X^{L}$,计算出当前层的梯度，然后还要计算传给下一层的梯度 $dout^{L} = dout^{L+1}*W^{L}$，很好的分步了，之前自己写的都是一个 for 循环一次写完，这样不够清晰，不够解耦合，值得学习。"
   ]
  },
  {
   "cell_type": "markdown",
   "metadata": {},
   "source": [
    "- Net 模块和 Train 模块\n",
    "    - 使网络模块负责网络的结构，因为网络模块负责了网络的结构，那么再网络模块中就把损失、梯度和预测也\n",
    "    做出来，因为损失和梯度都需要知道网络的结构后再能算，所以就把他放在了网络结构中，然后再把梯度提供给\n",
    "    训练模块，训练模块负责学习率，epoch,梯度下降的方法以及梯度下降。"
   ]
  },
  {
   "cell_type": "markdown",
   "metadata": {},
   "source": [
    "- Update_relu\n",
    "    - 负责用哪种梯度下降的方法来进行优化，它既不属于 Net 也不属于 Train 模块，而是单独拿出来。"
   ]
  }
 ],
 "metadata": {
  "kernelspec": {
   "display_name": "Python 3",
   "language": "python",
   "name": "python3"
  },
  "language_info": {
   "codemirror_mode": {
    "name": "ipython",
    "version": 3
   },
   "file_extension": ".py",
   "mimetype": "text/x-python",
   "name": "python",
   "nbconvert_exporter": "python",
   "pygments_lexer": "ipython3",
   "version": "3.7.0"
  },
  "toc": {
   "base_numbering": 1,
   "nav_menu": {},
   "number_sections": true,
   "sideBar": true,
   "skip_h1_title": false,
   "title_cell": "Table of Contents",
   "title_sidebar": "Contents",
   "toc_cell": false,
   "toc_position": {},
   "toc_section_display": true,
   "toc_window_display": false
  }
 },
 "nbformat": 4,
 "nbformat_minor": 2
}
