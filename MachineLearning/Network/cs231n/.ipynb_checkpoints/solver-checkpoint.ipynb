{
 "cells": [
  {
   "cell_type": "code",
   "execution_count": 9,
   "metadata": {},
   "outputs": [],
   "source": [
    "import sys;\n",
    "sys.path.append(\"E:/JupyterEnviroment/Learning/MachineLearning/Network/cs231n/\")\n",
    "import optim"
   ]
  },
  {
   "cell_type": "code",
   "execution_count": 21,
   "metadata": {},
   "outputs": [],
   "source": [
    "class Solver(object):\n",
    "    def __init__(self,model,data,**kwargs):\n",
    "        self.model = model\n",
    "        self.x_train = data[\"X_train\"]\n",
    "        self.y_train = data[\"y_train\"]\n",
    "        self.X_val,self.y_val = data[\"X_val\"],data[\"y_val\"]\n",
    "        self.update_rule = kwargs.pop(\"update_rule\",\"sgd_momentum\")\n",
    "        self.optim_config = kwargs.pop('optim_config',{})\n",
    "        self.lr_decay = kwargs.pop('lr_decay',1.0)\n",
    "        self.batch_size = kwargs.pop('batch_size',100)\n",
    "        self.num_epochs = kwargs.pop('num_epochs',10)\n",
    "        self.print_every = kwargs.pop('print_every','10')\n",
    "        self.verbose = kwargs.pop('verbose',True)\n",
    "        \n",
    "        # Throw an error if there are extra keyword arguments\n",
    "        if len(kwargs) > 0:\n",
    "            extra = ','.join('\"%s\"'%k for k in kwargs.keys())\n",
    "            raise ValueError('Unrecognized arguments %s'%extra)\n",
    "         \n",
    "        # Make sure the update rule exist,then replace the string\n",
    "        # name with  the actual function\n",
    "        if not hasattr(optim,self.update_rule):\n",
    "            raise ValueError('Invalid update_rule\"%s\"'%self.update_rule)\n",
    "        self.update_rule = getattr(optim,self.update_rule)\n",
    "        self._reset()\n",
    "    \n",
    "    def _reset(self):\n",
    "        \"\"\"\n",
    "        Set up some book-keeping variables for optimization.\n",
    "        Don't call this manually.\n",
    "        \"\"\"\n",
    "        #Set up some variable for book-keeping\n",
    "        self.epoch = 0\n",
    "        self.best_val_acc = 0\n",
    "        self.best_params = {}\n",
    "        self.loss_history = []\n",
    "        self.train_acc_history = []\n",
    "        self.val_acc_history = []\n",
    "        \n",
    "        #Make a deep copy of the optim_config for each parameters\n",
    "        self.optim_config = {}\n",
    "        for p in self.model.params:\n",
    "            d = {k:v for k,v in self.optim_config.iteritems}\n",
    "            self.optim_config[p] = d\n",
    "    \n",
    "    def _step(self):\n",
    "        \"\"\"\n",
    "        Make a single gradient update. This is called\n",
    "        by train() and should not be called manually.\n",
    "        \"\"\" \n",
    "        # Make a minibatch of trainning data\n",
    "        num_train = self.X_train.shape[0]\n",
    "        batch_mask = np.random.choice(num_train,self.batch_size)\n",
    "        X_batch = self.X_train[batch_mask]\n",
    "        y_batch = self.y_train[batch_mask]\n",
    "        \n",
    "        #Compute the loss and gradient\n",
    "        loss,grads = self.model.loss(X_batch,y_batch)\n",
    "        self.loss_history.append(loss)\n",
    "        \n",
    "        for p,w in self.model.params.iteritems():\n",
    "            dw = grads[p]\n",
    "            config = self.optim_config[p]#这是啥\n",
    "            next_w,next_config = self.update_rule(w,dw,config)\n",
    "            self.model.params[p] = next_w\n",
    "            self.optim_config[p] = next_config\n",
    "    \n",
    "    "
   ]
  },
  {
   "cell_type": "code",
   "execution_count": 20,
   "metadata": {},
   "outputs": [
    {
     "name": "stdout",
     "output_type": "stream",
     "text": [
      "s 1\n",
      "a 2\n"
     ]
    }
   ],
   "source": [
    "y = {'s':1,'a':2}\n",
    "for p,w in y.items():\n",
    "    print(p,w)"
   ]
  },
  {
   "cell_type": "code",
   "execution_count": null,
   "metadata": {},
   "outputs": [],
   "source": []
  }
 ],
 "metadata": {
  "kernelspec": {
   "display_name": "Python 3",
   "language": "python",
   "name": "python3"
  },
  "language_info": {
   "codemirror_mode": {
    "name": "ipython",
    "version": 3
   },
   "file_extension": ".py",
   "mimetype": "text/x-python",
   "name": "python",
   "nbconvert_exporter": "python",
   "pygments_lexer": "ipython3",
   "version": "3.7.0"
  },
  "toc": {
   "base_numbering": 1,
   "nav_menu": {},
   "number_sections": true,
   "sideBar": true,
   "skip_h1_title": false,
   "title_cell": "Table of Contents",
   "title_sidebar": "Contents",
   "toc_cell": false,
   "toc_position": {},
   "toc_section_display": true,
   "toc_window_display": false
  }
 },
 "nbformat": 4,
 "nbformat_minor": 2
}
