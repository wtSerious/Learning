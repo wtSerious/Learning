{
 "cells": [
  {
   "cell_type": "code",
   "execution_count": 23,
   "metadata": {
    "scrolled": false
   },
   "outputs": [],
   "source": [
    "from torch.utils.data import Dataset\n",
    "import os\n",
    "import matplotlib.pyplot as plt\n",
    "import matplotlib.image as Mapping\n",
    "import numpy as np\n",
    "from PIL  import Image\n",
    "import cs231n.datasets.Load_faces as dst\n",
    "from torch.utils.data import DataLoader\n",
    "import torchvision.transforms as T\n",
    "import torch.nn as nn\n",
    "import torch\n",
    "import matplotlib.pyplot as plt\n",
    "from torch import optim\n",
    "from torch.utils.checkpoint import checkpoint_sequential\n",
    "from sklearn.preprocessing import MinMaxScaler\n",
    "from torch.utils.tensorboard import SummaryWriter\n",
    "import torchvision"
   ]
  },
  {
   "cell_type": "code",
   "execution_count": 24,
   "metadata": {},
   "outputs": [
    {
     "name": "stderr",
     "output_type": "stream",
     "text": [
      "D:\\Anaconda\\lib\\site-packages\\torchvision\\transforms\\transforms.py:208: UserWarning: The use of the transforms.Scale transform is deprecated, please use transforms.Resize instead.\n",
      "  warnings.warn(\"The use of the transforms.Scale transform is deprecated, \" +\n"
     ]
    }
   ],
   "source": [
    "dir_path = \"C:/Users/wtser/Desktop/learnData/data/faces/\"\n",
    "transform = T.Compose([T.Scale(64),T.ToTensor(),T.Normalize([0.6756,0.5782,0.5534],[0.2733,0.2703,0.2562])])\n",
    "train_data = dst.load_Face(root =dir_path,number = 2000,transform=transform)\n",
    "device = torch.device('cuda')\n",
    "writer = SummaryWriter(log_dir=\"E:/GANPIC/second/\")"
   ]
  },
  {
   "cell_type": "code",
   "execution_count": 25,
   "metadata": {},
   "outputs": [],
   "source": [
    "def normData(loader_data):\n",
    "    for x,y in loader_data:\n",
    "        x = x/2.4720\n",
    "        yield (x,y)\n",
    "    "
   ]
  },
  {
   "cell_type": "code",
   "execution_count": 26,
   "metadata": {},
   "outputs": [],
   "source": [
    "loader_train = DataLoader(train_data,batch_size=32,shuffle=True)\n",
    "# loader_train = normData(loader_train)"
   ]
  },
  {
   "cell_type": "code",
   "execution_count": 27,
   "metadata": {},
   "outputs": [],
   "source": [
    "class SimpleCustomBatch:\n",
    "    def __init__(self, data):\n",
    "        transposed_data = list(zip(*data))\n",
    "        print(transposed_data[1])\n",
    "        self.inp = torch.stack(transposed_data[0], 0)\n",
    "        self.tgt = torch.stack(transposed_data[1], 0)\n",
    "\n",
    "    def pin_memory(self):\n",
    "        self.inp = self.inp.pin_memory()\n",
    "        self.tgt = self.tgt.pin_memory()\n",
    "        return self\n",
    "\n",
    "def collate_wrapper(batch):\n",
    "    return SimpleCustomBatch(batch)\n"
   ]
  },
  {
   "cell_type": "code",
   "execution_count": 28,
   "metadata": {},
   "outputs": [],
   "source": [
    "class Reshape(nn.Module):\n",
    "    def __init__(self,_shape):\n",
    "        super(Reshape,self).__init__()\n",
    "        self.shape = _shape\n",
    "    \n",
    "    def forward(self,x):\n",
    "        return x.view(*self.shape)"
   ]
  },
  {
   "cell_type": "code",
   "execution_count": 29,
   "metadata": {
    "code_folding": []
   },
   "outputs": [],
   "source": [
    "class GAN(nn.Module):\n",
    "    def __init__(self,indim,img_shape):\n",
    "        super(GAN,self).__init__()\n",
    "        self.img_shape = img_shape\n",
    "        \n",
    "        def block(indim,outdim,normalize=True):\n",
    "            layers = [nn.Linear(indim,outdim)]\n",
    "            if normalize:\n",
    "                layers.append(nn.BatchNorm1d(outdim,0.8))\n",
    "            layers.append(nn.LeakyReLU(0.2,inplace=False))\n",
    "            return layers\n",
    "        \n",
    "        self.model = nn.Sequential(nn.ConvTranspose2d(100,512,kernel_size=4,stride=1,padding=0,bias=False),\n",
    "                                   nn.ReLU(inplace=True),\n",
    "                                   nn.ConvTranspose2d(512,256,kernel_size=4,stride=2,padding=1,bias=False),\n",
    "                                   nn.BatchNorm2d(256),\n",
    "                                   nn.ReLU(inplace=True),\n",
    "                                   nn.ConvTranspose2d(256,128,kernel_size=4,stride=2,padding=1,bias=False),\n",
    "                                   nn.BatchNorm2d(128),\n",
    "                                   nn.ReLU(inplace=True),\n",
    "                                   nn.ConvTranspose2d(128,64,kernel_size=4,stride=2,padding=1,bias=False),\n",
    "                                   nn.BatchNorm2d(64),\n",
    "                                   nn.ReLU(inplace=True),\n",
    "                                   nn.ConvTranspose2d(64,3,kernel_size=4,stride=2,padding=1,bias=False),\n",
    "                                   nn.Tanh()\n",
    "                                  )\n",
    "    def forward(self,x):\n",
    "        out = self.model(x)\n",
    "        return out"
   ]
  },
  {
   "cell_type": "code",
   "execution_count": 30,
   "metadata": {},
   "outputs": [],
   "source": [
    "class Discriminator(nn.Module):\n",
    "    def __init__(self,img_shape):\n",
    "        super(Discriminator,self).__init__()\n",
    "        self.model = nn.Sequential(nn.Conv2d(3,64,kernel_size=4,stride=2,padding=1,bias=False),\n",
    "                                  nn.LeakyReLU(0.2,inplace=True),\n",
    "                                  nn.Conv2d(64,128,kernel_size=4,stride=2,padding=1,bias=False),\n",
    "                                  nn.BatchNorm2d(128),\n",
    "                                  nn.LeakyReLU(0.2,inplace=True),\n",
    "                                  nn.Conv2d(128,256,kernel_size=4,stride=2,padding=1,bias=False),\n",
    "                                  nn.BatchNorm2d(256),\n",
    "                                  nn.LeakyReLU(0.2,inplace=True),\n",
    "                                  nn.Conv2d(256,512,kernel_size=4,stride=2,padding=1,bias=False),\n",
    "                                  nn.BatchNorm2d(512),\n",
    "                                  nn.LeakyReLU(0.2,inplace=True),\n",
    "                                  nn.Conv2d(512,1,kernel_size=4,stride=1,padding=0,bias=False),\n",
    "                                   nn.Sigmoid()\n",
    "                                  )\n",
    "        \n",
    "    def forward(self,x):\n",
    "        out = self.model(x)\n",
    "        return out.view(-1,1)"
   ]
  },
  {
   "cell_type": "code",
   "execution_count": 31,
   "metadata": {},
   "outputs": [],
   "source": [
    "def weights_init(m):\n",
    "    classname = m.__class__.__name__\n",
    "    if classname.find('Conv') != -1:\n",
    "        m.weight.data.normal_(0.0, 0.02)\n",
    "    elif classname.find('BatchNorm') != -1:\n",
    "        m.weight.data.normal_(1.0, 0.02)\n",
    "        m.bias.data.fill_(0)"
   ]
  },
  {
   "cell_type": "code",
   "execution_count": 32,
   "metadata": {},
   "outputs": [],
   "source": [
    "def save_model_dict(model,path):\n",
    "    torch.save(model.state_dict(),path)"
   ]
  },
  {
   "cell_type": "code",
   "execution_count": 33,
   "metadata": {},
   "outputs": [],
   "source": [
    "def load_model_dict(model,path):\n",
    "    checkpoint = torch.load(path)\n",
    "    model.load_state_dict(checkpoint)\n",
    "    return model"
   ]
  },
  {
   "cell_type": "code",
   "execution_count": 34,
   "metadata": {},
   "outputs": [],
   "source": [
    "generator = GAN(100,(3,96,96))\n",
    "generator.apply(weights_init)\n",
    "generator = load_model_dict(generator,\"E:/GANModel/DCGAN/generator/generator_epoch2000\")\n",
    "generator = generator.cuda()"
   ]
  },
  {
   "cell_type": "code",
   "execution_count": 35,
   "metadata": {},
   "outputs": [],
   "source": [
    "discriminator = Discriminator([3,96,96])\n",
    "discriminator.apply(weights_init)\n",
    "discriminator = load_model_dict(discriminator,\"E:/GANModel/DCGAN/discriminator/discriminator_epoch2000\")\n",
    "discriminator = discriminator.cuda()"
   ]
  },
  {
   "cell_type": "code",
   "execution_count": 36,
   "metadata": {},
   "outputs": [],
   "source": [
    "epochs = 1\n",
    "k = 3\n",
    "criterion = nn.BCELoss()\n",
    "# Optimizers\n",
    "optimizer_G = optim.Adam(generator.parameters(),lr = 2e-4,betas=(0.5, 0.999))\n",
    "optimizer_D = optim.Adam(discriminator.parameters(), lr=2e-4,betas=(0.5, 0.999))\n",
    "# optimizer_G = optim.Adam(generator.parameters(),lr = 2e-4)\n",
    "# optimizer_D = optim.Adam(discriminator.parameters(), lr=2e-4)\n",
    "generator_path = \"E:/GANModel/DCGAN/generator/\"\n",
    "discriminator_path = \"E:/GANModel/DCGAN/discriminator/\""
   ]
  },
  {
   "cell_type": "code",
   "execution_count": null,
   "metadata": {
    "scrolled": false
   },
   "outputs": [],
   "source": [
    "for i in range(2001,2201):\n",
    "    for index,(x,y) in enumerate(loader_train):\n",
    "        fake = torch.zeros(x.shape[0],1,requires_grad=False).to(device)\n",
    "        real = torch.rand(x.shape[0],1,requires_grad=False).to(device)\n",
    "        x = x /2.4720\n",
    "        for j in range(3):\n",
    "            optimizer_D.zero_grad()\n",
    "            real_data = x.to(device)\n",
    "            output = discriminator(real_data)\n",
    "            gloss_d_real = criterion(output,real).to(device)\n",
    "            gloss_d_real.backward()\n",
    "        \n",
    "            noise = torch.randn(x.shape[0],100,1,1,requires_grad=False).to(device)\n",
    "            fake_img = generator(noise)\n",
    "            output = discriminator(fake_img.detach())\n",
    "            gloss_d_fake = criterion(output,fake).to(device)\n",
    "            gloss_d_fake.backward()\n",
    "            gloss_d = (gloss_d_fake + gloss_d_real)/2\n",
    "            optimizer_D.step()\n",
    "        \n",
    "        optimizer_G.zero_grad()\n",
    "        output = discriminator(fake_img)\n",
    "        gloss_g = criterion(output,real).to(device)\n",
    "        gloss_g.backward()\n",
    "        optimizer_G.step()\n",
    "    writer.add_scalars('loss',{'gloss_g':gloss_g,'gloss_d':gloss_d,'gloss_d_real':gloss_d_real,\n",
    "                              'gloss_d_fake':gloss_d_fake},global_step=i)\n",
    "    \n",
    "    if i%100 == 0:\n",
    "            print('gloass_g:{},gloss_d:{},gloss_d_real{},gloss_d_fake{}'.format(gloss_g,gloss_d,gloss_d_real,gloss_d_fake))\n",
    "            store_img = torchvision.utils.make_grid((fake_img+1)/2.0,padding=2)\n",
    "            writer.add_image('generate_img',store_img,global_step=i)\n",
    "            \n",
    "            g_path = os.path.join(generator_path,\"generator_epoch{}\".format(i))\n",
    "            d_path = os.path.join(discriminator_path,\"discriminator_epoch{}\".format(i))\n",
    "            save_model_dict(generator,g_path)\n",
    "            save_model_dict(discriminator,d_path)\n",
    "#             a = fake_img[0].cpu()\n",
    "#             img_numpy = a.detach().numpy()\n",
    "#             img_numpy = img_numpy.transpose(1,2,0)\n",
    "#             print(img_numpy[:2,:2])\n",
    "#             plt.imshow(((img_numpy+1.0)/2.0))\n",
    "#             plt.show()\n",
    "            writer.close()"
   ]
  },
  {
   "cell_type": "code",
   "execution_count": 19,
   "metadata": {},
   "outputs": [],
   "source": [
    "?writer.add_scalars()"
   ]
  },
  {
   "cell_type": "code",
   "execution_count": null,
   "metadata": {},
   "outputs": [],
   "source": []
  }
 ],
 "metadata": {
  "kernelspec": {
   "display_name": "Python 3",
   "language": "python",
   "name": "python3"
  },
  "language_info": {
   "codemirror_mode": {
    "name": "ipython",
    "version": 3
   },
   "file_extension": ".py",
   "mimetype": "text/x-python",
   "name": "python",
   "nbconvert_exporter": "python",
   "pygments_lexer": "ipython3",
   "version": "3.7.0"
  },
  "toc": {
   "base_numbering": 1,
   "nav_menu": {},
   "number_sections": true,
   "sideBar": true,
   "skip_h1_title": false,
   "title_cell": "Table of Contents",
   "title_sidebar": "Contents",
   "toc_cell": false,
   "toc_position": {},
   "toc_section_display": true,
   "toc_window_display": false
  }
 },
 "nbformat": 4,
 "nbformat_minor": 2
}
