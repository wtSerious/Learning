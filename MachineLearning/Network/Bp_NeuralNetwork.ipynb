{
 "cells": [
  {
   "cell_type": "code",
   "execution_count": 25,
   "metadata": {},
   "outputs": [],
   "source": [
    "import numpy as np\n",
    "from sklearn.datasets import load_digits #手写数字数据集\n",
    "from sklearn.preprocessing import LabelBinarizer #标签二值化处理\n",
    "from sklearn.model_selection import train_test_split #训练和测试集分隔\n",
    "from sklearn.metrics import classification_report, confusion_matrix\n",
    "import matplotlib.pyplot as plt\n",
    "from sklearn.model_selection import train_test_split #训练和测试集分隔\n",
    "from sklearn import preprocessing\n",
    "from sklearn.preprocessing import StandardScaler\n",
    "from sklearn.preprocessing import MinMaxScaler\n",
    "# 载入数据\n",
    "digits = load_digits()\n",
    "\n",
    "# 输入的数据\n",
    "X = digits.data\n",
    "X = X.reshape([X.shape[0],-1])\n",
    "scaler = MinMaxScaler()\n",
    "X = scaler.fit_transform(X)\n",
    "# 标签数据\n",
    "T = digits.target\n",
    "# 数据切分，默认测试集占0.25\n",
    "X_train,X_test,y_train,y_test = train_test_split(X,T)\n",
    "# (1797,) [0 1]\n",
    "labels_train = LabelBinarizer().fit_transform(y_train)\n"
   ]
  },
  {
   "cell_type": "code",
   "execution_count": 4,
   "metadata": {},
   "outputs": [
    {
     "name": "stdout",
     "output_type": "stream",
     "text": [
      "(450,)\n"
     ]
    }
   ],
   "source": [
    "print(y_test.shape)"
   ]
  },
  {
   "cell_type": "code",
   "execution_count": 29,
   "metadata": {},
   "outputs": [],
   "source": [
    "class NeuralNetwork:\n",
    "    def __init__(self,layers,alpha=0.1):\n",
    "        self.W = []\n",
    "        self.layers = layers\n",
    "        self.alpha = alpha\n",
    "        self.dropoutV = []\n",
    "        #为隐藏层初始化权重\n",
    "        for i in range(0,len(layers)-2):\n",
    "            w = np.random.randn(layers[i]+1,layers[i+1]+1)\n",
    "            self.W.append(w/np.sqrt(layers[i]))\n",
    "            \n",
    "        w = np.random.randn(layers[-2]+1,layers[-1])\n",
    "        self.W.append(w/np.sqrt(layers[-2]))\n",
    "    \n",
    "    def softMax(self,x):\n",
    "        max_dict = [ [np.max(i)] for i in x]\n",
    "        x = np.exp((x-max_dict))\n",
    "        \n",
    "        return np.array([ i/np.sum(i) for i in x])\n",
    "    \n",
    "    def Leaky_Relu(self,x):\n",
    "        activations = x.copy()\n",
    "        activations[activations<0] = activations[activations<0]*0.01\n",
    "        \n",
    "        return activations\n",
    "    \n",
    "    def Leaky_Relu_deriv(self,x):\n",
    "        deriv = np.ones_like(x)\n",
    "        deriv[x<0] = 0.01\n",
    "        \n",
    "        return deriv\n",
    "    \n",
    "    def sigmoid(self,x):\n",
    "        return 1.0/(1+np.exp(-x))\n",
    "    \n",
    "    def sigmoid_deriv(self,x):\n",
    "        return x*(1-x)\n",
    "    \n",
    "    def getDropoutVec(self,p,size):\n",
    "        \"\"\"\n",
    "        Get a vector that is all compenented of 0 or 1\n",
    "        the probability of selecting 1 is p\n",
    "        \n",
    "        Parameters\n",
    "        -----\n",
    "        p : float in [0,1)\n",
    "            The dropout probability during \n",
    "        size : list of shape (n,m)\n",
    "            the shape of dropout vector\n",
    "        \"\"\"\n",
    "        p_Vector = np.random.randn(size[0],size[1])\n",
    "        dropoutVector = p_Vector > p\n",
    "        return dropoutVector\n",
    "    \n",
    "    def fit(self,X,y,epochs = 1000,displayUpdate = 100,batch_size=1.0,alpha=1e-2):\n",
    "        X = np.c_[X,np.ones((X.shape[0]))]\n",
    "        \n",
    "        for epoch in range(epochs):\n",
    "            batch_index = np.random.choice(X.shape[0],batch_size,True)\n",
    "            batch_X = X[batch_index,:]\n",
    "            batch_Y = y[batch_index]\n",
    "#             self.fit_partial(batch_X,batch_Y,batch_size)\n",
    "            self.fit_partial_likehood(batch_X,batch_Y,batch_size,alpha)\n",
    "    \n",
    "            if epoch == 0 or (epoch+1)%displayUpdate==0:\n",
    "#                 loss = self.calculate_loss(X,y)\n",
    "                loss = self.calculate_loss_likehood(X,y)\n",
    "                print(\"[INFO] epoch={},loss={:.7f},acc={}\".format(epoch+1,loss,self.calculate_acc(X_test,y_test)))\n",
    "                \n",
    "    def fit_partial_likehood(self,x,y,batch_size,p=0.5,alpha=1e-2):\n",
    "        A = [np.atleast_2d(x)]\n",
    "        _net = []#save the result of the current layer  to calculate the gradient of leaky_relu\n",
    "        \n",
    "        #进行隐藏层计算\n",
    "        for layer in range(len(self.W)-1):\n",
    "            net = A[layer].dot(self.W[layer])\n",
    "#             print('net',net)\n",
    "#             scaler = StandardScaler()\n",
    "#             net = scaler.fit_transform(net)\n",
    "            _net.append(net)\n",
    "            out = self.Leaky_Relu(net)\n",
    "#             out = self.sigmoid(net)\n",
    "#             print('out',out)\n",
    "\n",
    "\n",
    "            dropout_V = self.getDropoutVec(p,[1,out.shape[1]])\n",
    "#             out = out*dropout_V\n",
    "            \n",
    "            self.dropoutV.append(dropout_V)\n",
    "            A.append(out)\n",
    "        \n",
    "        A.append(A[-1].dot(self.W[-1]))\n",
    "        \n",
    "        #uniform the update formula of hidden layer and output layer,add a dropout layer\n",
    "        #that is all compenented of 1 \n",
    "        dropout_V = np.ones((A[-1].shape[1]))\n",
    "        self.dropoutV.append(dropout_V)\n",
    "        \n",
    "        #通过softMax激活函数\n",
    "        A[-1] = self.softMax(A[-1])\n",
    "#         print(\"softMax\",A[-1])\n",
    "        #计算输出层的梯度\n",
    "        D = [A[-1]-y]\n",
    "#         print('lastD',D)\n",
    "        #计算隐藏层的梯度\n",
    "        for layer in np.arange(len(A)-2,0,-1):\n",
    "            delta = D[-1].dot(self.W[layer].T)\n",
    "#             print('Rel_Deriv',self.Leaky_Relu_deriv(_net[layer-1]))\n",
    "            delta = delta*self.Leaky_Relu_deriv(_net[layer-1])\n",
    "#             delta = delta*self.sigmoid_deriv(A[layer])\n",
    "            D.append(delta)\n",
    "        \n",
    "        D = D[::-1]\n",
    "        \n",
    "        #更新权重\n",
    "        for layer in range(len(self.W)):\n",
    "#             print('D',layer,1.0/batch_size*self.alpha*(0.9*self.W[layer]+A[layer].T.dot(D[layer])))\n",
    "            self.W[layer] -=1.0/batch_size*alpha*(0.9*self.W[layer]+A[layer].T.dot(D[layer]))\n",
    "#             self.W[layer] -= 1.0/batch_size*self.alpha*A[layer].T.dot(D[layer]*self.dropoutV[layer])\n",
    "\n",
    "    def fit_partial(self,x,y,batch_size):\n",
    "        A = [np.atleast_2d(x)]\n",
    "        for layer in range(len(self.W)):\n",
    "            net = A[layer].dot(self.W[layer])\n",
    "            \n",
    "            out = self.sigmoid(net)\n",
    "            \n",
    "            A.append(out)\n",
    "            \n",
    "        error = A[-1] - y\n",
    "        \n",
    "        D = [error*self.sigmoid_deriv(A[-1])]\n",
    "\n",
    "        for layer in np.arange(len(A)-2,0,-1):\n",
    "            delta = D[-1].dot(self.W[layer].T)\n",
    "            delta = delta * self.sigmoid_deriv(A[layer])\n",
    "            \n",
    "            D.append(delta)\n",
    "        \n",
    "        D = D[::-1]\n",
    "        \n",
    "        for layer in range(len(self.W)):\n",
    "            self.W[layer]+= -1.0/batch_size*self.alpha*A[layer].T.dot(D[layer])\n",
    "            \n",
    "    def predict(self,x,addBias=True):\n",
    "        p = x\n",
    "        print('predict')\n",
    "        \n",
    "        if addBias ==True:\n",
    "            p = np.c_[p,np.ones((p.shape[0]))]\n",
    "        for i in range(len(self.layers)-1):\n",
    "            print(i)\n",
    "            p =self.sigmoid(p.dot(self.W[i]))\n",
    "        return p\n",
    "    \n",
    "    def predict_softmax(self,x,addBias=True):\n",
    "        p = x\n",
    "        \n",
    "        if addBias ==True:\n",
    "            p = np.c_[p,np.ones((p.shape[0]))]\n",
    "        for i in range(len(self.layers)-2):\n",
    "            p =self.sigmoid(p.dot(self.W[i]))\n",
    "        p = self.softMax(p.dot(self.W[-1]))\n",
    "        return p\n",
    "    \n",
    "    def calculate_loss(self,X,targets):\n",
    "        targets = np.atleast_2d(targets)\n",
    "        \n",
    "        predictions = self.predict(X,False)\n",
    "        loss = 0.5*np.sum((predictions-targets)**2)\n",
    "        \n",
    "        return loss\n",
    "    \n",
    "    def calculate_loss_likehood(self,X,y):\n",
    "        predictions = self.predict_softmax(X,False)\n",
    "        loss = -sum(np.sum(y*np.log(predictions),1))\n",
    "        loss += self.sum_weight()\n",
    "        return loss\n",
    "    \n",
    "    def calculate_acc(self,X,y):\n",
    "        predictions = self.predict_softmax(X,True)\n",
    "        predictions = np.argmax(predictions,axis=1)\n",
    "        result = np.array(predictions)==np.array(y)\n",
    "        return (1.0*sum(result)/len(result))\n",
    "    \n",
    "    def sum_weight(self):\n",
    "        _sum = 0\n",
    "        for i in self.W:\n",
    "            _sum+= np.sum(i**2)\n",
    "        return _sum"
   ]
  },
  {
   "cell_type": "code",
   "execution_count": 30,
   "metadata": {},
   "outputs": [],
   "source": [
    "nn = NeuralNetwork([64,32,16,10], alpha=1e-3) "
   ]
  },
  {
   "cell_type": "code",
   "execution_count": 41,
   "metadata": {},
   "outputs": [
    {
     "name": "stdout",
     "output_type": "stream",
     "text": [
      "[INFO] epoch=1,loss=3014.7539381,acc=0.16444444444444445\n",
      "[INFO] epoch=100,loss=3014.2675410,acc=0.16444444444444445\n",
      "[INFO] epoch=200,loss=3013.8471921,acc=0.17333333333333334\n",
      "[INFO] epoch=300,loss=3013.6741915,acc=0.1711111111111111\n",
      "[INFO] epoch=400,loss=3011.9829981,acc=0.1711111111111111\n",
      "[INFO] epoch=500,loss=3012.0296875,acc=0.1711111111111111\n",
      "[INFO] epoch=600,loss=3012.7937188,acc=0.1711111111111111\n",
      "[INFO] epoch=700,loss=3009.5620409,acc=0.1711111111111111\n",
      "[INFO] epoch=800,loss=3010.4994733,acc=0.1688888888888889\n",
      "[INFO] epoch=900,loss=3008.1021994,acc=0.18222222222222223\n",
      "[INFO] epoch=1000,loss=3008.8433808,acc=0.18222222222222223\n"
     ]
    }
   ],
   "source": [
    "\n",
    "nn.fit(X_train, labels_train,epochs=1000,displayUpdate=100,batch_size=512,alpha=1e-3)"
   ]
  },
  {
   "cell_type": "code",
   "execution_count": 209,
   "metadata": {},
   "outputs": [
    {
     "name": "stdout",
     "output_type": "stream",
     "text": [
      "             precision    recall  f1-score   support\n",
      "\n",
      "          0       0.00      0.00      0.00         0\n",
      "          1       0.00      0.00      0.00         0\n",
      "          2       0.00      0.00      0.00         0\n",
      "          3       0.00      0.00      0.00         0\n",
      "          4       1.00      0.12      0.21       450\n",
      "          5       0.00      0.00      0.00         0\n",
      "          6       0.00      0.00      0.00         0\n",
      "          7       0.00      0.00      0.00         0\n",
      "          8       0.00      0.00      0.00         0\n",
      "          9       0.00      0.00      0.00         0\n",
      "\n",
      "avg / total       1.00      0.12      0.21       450\n",
      "\n"
     ]
    },
    {
     "name": "stderr",
     "output_type": "stream",
     "text": [
      "D:\\Anaconda\\lib\\site-packages\\sklearn\\metrics\\classification.py:1137: UndefinedMetricWarning: Recall and F-score are ill-defined and being set to 0.0 in labels with no true samples.\n",
      "  'recall', 'true', average, warn_for)\n"
     ]
    }
   ],
   "source": [
    "output = nn.predict_softmax(X_test)\n",
    "predictions = np.argmax(output,axis=1)\n",
    "print(classification_report(predictions,y_test))\n"
   ]
  },
  {
   "cell_type": "code",
   "execution_count": 161,
   "metadata": {},
   "outputs": [
    {
     "name": "stdout",
     "output_type": "stream",
     "text": [
      "[ 0.  0.  2. 12. 12.  0.  0.  0.  0.  0.  7. 16. 15.  9.  1.  0.  0.  0.\n",
      "  6. 14. 13. 15.  3.  0.  0.  0.  1. 16. 16.  4.  0.  0.  0.  0.  7. 16.\n",
      " 14.  0.  0.  0.  0.  1. 15.  9. 16.  5.  0.  0.  0.  2. 13. 13. 16. 10.\n",
      "  0.  0.  0.  0.  1. 11. 12.  5.  0.  0.]\n",
      "8\n"
     ]
    },
    {
     "data": {
      "image/png": "[encoded data removed]",
      "text/plain": [
       "<Figure size 432x288 with 1 Axes>"
      ]
     },
     "metadata": {
      "needs_background": "light"
     },
     "output_type": "display_data"
    }
   ],
   "source": [
    "print(X_test[3])\n",
    "print(y_test[3])\n",
    "import matplotlib.pyplot as plt\n",
    "plt.imshow(X_test[3].reshape((8,8)))\n",
    "plt.show()"
   ]
  },
  {
   "cell_type": "code",
   "execution_count": 15,
   "metadata": {},
   "outputs": [
    {
     "data": {
      "image/png": "[encoded data removed]",
      "text/plain": [
       "<Figure size 432x288 with 3 Axes>"
      ]
     },
     "metadata": {
      "needs_background": "light"
     },
     "output_type": "display_data"
    }
   ],
   "source": [
    "import matplotlib.pyplot\n",
    "plt.figure()\n",
    "plt.subplot(1,3,1)\n",
    "plt.imshow(nn.W[0],cmap=plt.cm.gray)\n",
    "plt.subplot(1,3,2)\n",
    "plt.imshow(nn.W[1],cmap=plt.cm.gray)\n",
    "plt.subplot(1,3,3)\n",
    "plt.imshow(nn.W[2],cmap=plt.cm.gray)\n",
    "plt.show()\n"
   ]
  }
 ],
 "metadata": {
  "kernelspec": {
   "display_name": "Python 3",
   "language": "python",
   "name": "python3"
  },
  "language_info": {
   "codemirror_mode": {
    "name": "ipython",
    "version": 3
   },
   "file_extension": ".py",
   "mimetype": "text/x-python",
   "name": "python",
   "nbconvert_exporter": "python",
   "pygments_lexer": "ipython3",
   "version": "3.7.0"
  },
  "toc": {
   "base_numbering": 1,
   "nav_menu": {},
   "number_sections": true,
   "sideBar": true,
   "skip_h1_title": false,
   "title_cell": "Table of Contents",
   "title_sidebar": "Contents",
   "toc_cell": false,
   "toc_position": {},
   "toc_section_display": true,
   "toc_window_display": false
  }
 },
 "nbformat": 4,
 "nbformat_minor": 2
}
