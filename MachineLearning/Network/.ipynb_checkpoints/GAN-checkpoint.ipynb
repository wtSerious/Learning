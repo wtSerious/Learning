{
 "cells": [
  {
   "cell_type": "code",
   "execution_count": 1,
   "metadata": {
    "scrolled": false
   },
   "outputs": [
    {
     "name": "stdout",
     "output_type": "stream",
     "text": [
      "This application is used to convert notebook files (*.ipynb) to various other\n",
      "formats.\n",
      "\n",
      "WARNING: THE COMMANDLINE INTERFACE MAY CHANGE IN FUTURE RELEASES.\n",
      "\n",
      "Options\n",
      "\n",
      "-------\n",
      "\n",
      "\n",
      "\n",
      "Arguments that take values are actually convenience aliases to full\n",
      "Configurables, whose aliases are listed on the help line. For more information\n",
      "on full configurables, see '--help-all'.\n",
      "\n",
      "\n",
      "--debug\n",
      "\n",
      "    set log level to logging.DEBUG (maximize logging output)\n",
      "\n",
      "--generate-config\n",
      "\n",
      "    generate default config file\n",
      "\n",
      "-y\n",
      "\n",
      "    Answer yes to any questions instead of prompting.\n",
      "\n",
      "--execute\n",
      "\n",
      "    Execute the notebook prior to export.\n",
      "\n",
      "--allow-errors\n",
      "\n",
      "    Continue notebook execution even if one of the cells throws an error and include the error message in the cell output (the default behaviour is to abort conversion). This flag is only relevant if '--execute' was specified, too.\n",
      "\n",
      "--stdin\n",
      "\n",
      "    read a single notebook file from stdin. Write the resulting notebook with default basename 'notebook.*'\n",
      "\n",
      "--stdout\n",
      "\n",
      "    Write notebook output to stdout instead of files.\n",
      "\n",
      "--inplace\n",
      "\n",
      "    Run nbconvert in place, overwriting the existing notebook (only \n",
      "    relevant when converting to notebook format)\n",
      "\n",
      "--clear-output\n",
      "\n",
      "    Clear output of current file and save in place, \n",
      "    overwriting the existing notebook.\n",
      "\n",
      "--no-prompt\n",
      "\n",
      "    Exclude input and output prompts from converted document.\n",
      "\n",
      "--no-input\n",
      "\n",
      "    Exclude input cells and output prompts from converted document. \n",
      "    This mode is ideal for generating code-free reports.\n",
      "--log-level=<Enum> (Application.log_level)\n",
      "\n",
      "    Default: 30\n",
      "\n",
      "    Choices: (0, 10, 20, 30, 40, 50, 'DEBUG', 'INFO', 'WARN', 'ERROR', 'CRITICAL')\n",
      "\n",
      "    Set the log level by value or name.\n",
      "\n",
      "--config=<Unicode> (JupyterApp.config_file)\n",
      "\n",
      "    Default: ''\n",
      "\n",
      "    Full path of a config file.\n",
      "\n",
      "--to=<Unicode> (NbConvertApp.export_format)\n",
      "\n",
      "    Default: 'html'\n",
      "\n",
      "    The export format to be used, either one of the built-in formats, or a\n",
      "\n",
      "    dotted object name that represents the import path for an `Exporter` class\n",
      "\n",
      "--template=<Unicode> (TemplateExporter.template_file)\n",
      "\n",
      "    Default: ''\n",
      "\n",
      "    Name of the template file to use\n",
      "\n",
      "--writer=<DottedObjectName> (NbConvertApp.writer_class)\n",
      "\n",
      "    Default: 'FilesWriter'\n",
      "\n",
      "    Writer class used to write the  results of the conversion\n",
      "\n",
      "--post=<DottedOrNone> (NbConvertApp.postprocessor_class)\n",
      "\n",
      "    Default: ''\n",
      "\n",
      "    PostProcessor class used to write the results of the conversion\n",
      "\n",
      "--output=<Unicode> (NbConvertApp.output_base)\n",
      "\n",
      "    Default: ''\n",
      "\n",
      "    overwrite base name use for output files. can only be used when converting\n",
      "\n",
      "    one notebook at a time.\n",
      "\n",
      "--output-dir=<Unicode> (FilesWriter.build_directory)\n",
      "\n",
      "    Default: ''\n",
      "\n",
      "    Directory to write output(s) to. Defaults to output to the directory of each\n",
      "\n",
      "    notebook. To recover previous default behaviour (outputting to the current\n",
      "\n",
      "    working directory) use . as the flag value.\n",
      "\n",
      "--reveal-prefix=<Unicode> (SlidesExporter.reveal_url_prefix)\n",
      "\n",
      "    Default: ''\n",
      "\n",
      "    The URL prefix for reveal.js (version 3.x). This defaults to the reveal CDN,\n",
      "\n",
      "    but can be any url pointing to a copy  of reveal.js.\n",
      "\n",
      "    For speaker notes to work, this must be a relative path to a local  copy of\n",
      "\n",
      "    reveal.js: e.g., \"reveal.js\".\n",
      "\n",
      "    If a relative path is given, it must be a subdirectory of the current\n",
      "\n",
      "    directory (from which the server is run).\n",
      "\n",
      "    See the usage documentation\n",
      "\n",
      "    (https://nbconvert.readthedocs.io/en/latest/usage.html#reveal-js-html-\n",
      "\n",
      "    slideshow) for more details.\n",
      "\n",
      "--nbformat=<Enum> (NotebookExporter.nbformat_version)\n",
      "\n",
      "    Default: 4\n",
      "\n",
      "    Choices: [1, 2, 3, 4]\n",
      "\n",
      "    The nbformat version to write. Use this to downgrade notebooks.\n",
      "\n",
      "To see all available configurables, use `--help-all`\n",
      "\n",
      "Examples\n",
      "--------\n",
      "\n",
      "    The simplest way to use nbconvert is\n",
      "    \n",
      "    > jupyter nbconvert mynotebook.ipynb\n",
      "    \n",
      "    which will convert mynotebook.ipynb to the default format (probably HTML).\n",
      "    \n",
      "    You can specify the export format with `--to`.\n",
      "    Options include ['asciidoc', 'custom', 'html', 'html_ch', 'html_embed', 'html_toc', 'html_with_lenvs', 'html_with_toclenvs', 'latex', 'latex_with_lenvs', 'markdown', 'notebook', 'pdf', 'python', 'rst', 'script', 'selectLanguage', 'slides', 'slides_with_lenvs']\n",
      "    \n",
      "    > jupyter nbconvert --to latex mynotebook.ipynb\n",
      "    \n",
      "    Both HTML and LaTeX support multiple output templates. LaTeX includes\n",
      "    'base', 'article' and 'report'.  HTML includes 'basic' and 'full'. You\n",
      "    can specify the flavor of the format used.\n",
      "    \n",
      "    > jupyter nbconvert --to html --template basic mynotebook.ipynb\n",
      "    \n",
      "    You can also pipe the output to stdout, rather than a file\n",
      "    \n",
      "    > jupyter nbconvert mynotebook.ipynb --stdout\n",
      "    \n",
      "    PDF is generated via latex\n",
      "    \n",
      "    > jupyter nbconvert mynotebook.ipynb --to pdf\n",
      "    \n",
      "    You can get (and serve) a Reveal.js-powered slideshow\n",
      "    \n",
      "    > jupyter nbconvert myslides.ipynb --to slides --post serve\n",
      "    \n",
      "    Multiple notebooks can be given at the command line in a couple of \n",
      "    different ways:\n",
      "    \n",
      "    > jupyter nbconvert notebook*.ipynb\n",
      "    > jupyter nbconvert notebook1.ipynb notebook2.ipynb\n",
      "    \n",
      "    or you can specify the notebooks list in a config file, containing::\n",
      "    \n",
      "        c.NbConvertApp.notebooks = [\"my_notebook.ipynb\"]\n",
      "    \n",
      "    > jupyter nbconvert --config mycfg.py\n",
      "\n"
     ]
    },
    {
     "name": "stderr",
     "output_type": "stream",
     "text": [
      "[NbConvertApp] WARNING | pattern 'Load_faces.ipynb' matched no files\n"
     ]
    }
   ],
   "source": [
    "from torch.utils.data import Dataset\n",
    "import os\n",
    "import matplotlib.pyplot as plt\n",
    "import matplotlib.image as Mapping\n",
    "import numpy as np\n",
    "from PIL  import Image\n",
    "import cs231n.datasets.Load_faces as dst\n",
    "from torch.utils.data import DataLoader\n",
    "import torchvision.transforms as T\n",
    "import torch.nn as nn\n",
    "import torch\n",
    "import matplotlib.pyplot as plt\n",
    "from torch import optim\n",
    "from torch.utils.checkpoint import checkpoint_sequential\n",
    "from sklearn.preprocessing import MinMaxScaler"
   ]
  },
  {
   "cell_type": "code",
   "execution_count": 2,
   "metadata": {},
   "outputs": [
    {
     "name": "stderr",
     "output_type": "stream",
     "text": [
      "D:\\Anaconda\\lib\\site-packages\\torchvision\\transforms\\transforms.py:208: UserWarning: The use of the transforms.Scale transform is deprecated, please use transforms.Resize instead.\n",
      "  warnings.warn(\"The use of the transforms.Scale transform is deprecated, \" +\n"
     ]
    }
   ],
   "source": [
    "dir_path = \"C:/Users/wtser/Desktop/learnData/data/faces/\"\n",
    "transform = T.Compose([T.Scale(64),T.ToTensor(),T.Normalize([0.6756,0.5782,0.5534],[0.2733,0.2703,0.2562])])\n",
    "train_data = dst.load_Face(root =dir_path,number = 2000,transform=transform)\n",
    "device = torch.device('cuda')"
   ]
  },
  {
   "cell_type": "code",
   "execution_count": 3,
   "metadata": {},
   "outputs": [],
   "source": [
    "loader_train = DataLoader(train_data,batch_size=32,shuffle=True)"
   ]
  },
  {
   "cell_type": "code",
   "execution_count": 4,
   "metadata": {},
   "outputs": [],
   "source": [
    "class Reshape(nn.Module):\n",
    "    def __init__(self,_shape):\n",
    "        super(Reshape,self).__init__()\n",
    "        self.shape = _shape\n",
    "    \n",
    "    def forward(self,x):\n",
    "        return x.view(*self.shape)"
   ]
  },
  {
   "cell_type": "code",
   "execution_count": 5,
   "metadata": {},
   "outputs": [],
   "source": [
    "class GAN(nn.Module):\n",
    "    def __init__(self,indim,img_shape):\n",
    "        super(GAN,self).__init__()\n",
    "        self.img_shape = img_shape\n",
    "        \n",
    "        def block(indim,outdim,normalize=True):\n",
    "            layers = [nn.Linear(indim,outdim)]\n",
    "            if normalize:\n",
    "                layers.append(nn.BatchNorm1d(outdim,0.8))\n",
    "            layers.append(nn.LeakyReLU(0.2,inplace=False))\n",
    "            return layers\n",
    "        \n",
    "        self.layer1 = nn.Linear(256,32768)\n",
    "        self.model = nn.Sequential(\n",
    "                                   nn.BatchNorm2d(128),\n",
    "                                   nn.LeakyReLU(0.2,inplace=True),\n",
    "                                   nn.ConvTranspose2d(128,64,kernel_size=3,stride=2,padding=1,output_padding=1),\n",
    "                                   nn.BatchNorm2d(64),\n",
    "                                   nn.LeakyReLU(0.2,inplace=True),\n",
    "                                   nn.ConvTranspose2d(64,32,kernel_size=3,stride=2,padding=1,output_padding=1),\n",
    "                                   nn.BatchNorm2d(32),\n",
    "                                   nn.LeakyReLU(0.2,inplace=True),\n",
    "                                   nn.Conv2d(32,3,kernel_size=3,stride=1,padding=1),\n",
    "                                   nn.BatchNorm2d(3),\n",
    "                                   nn.LeakyReLU(0.2,inplace=True),\n",
    "                                   nn.Tanh()\n",
    "                                  )\n",
    "    def forward(self,x):\n",
    "        x = self.layer1(x)\n",
    "        x = x.view(-1,128,16,16)\n",
    "        out = self.model(x)\n",
    "#         out = checkpoint_sequential(self.model,3,x)\n",
    "        return out"
   ]
  },
  {
   "cell_type": "code",
   "execution_count": 6,
   "metadata": {},
   "outputs": [],
   "source": [
    "class Discriminator(nn.Module):\n",
    "    def __init__(self,img_shape):\n",
    "        super(Discriminator,self).__init__()\n",
    "        \n",
    "        self.model = nn.Sequential(nn.Conv2d(3,32,kernel_size=3,stride=2,padding=1),\n",
    "                                  nn.LeakyReLU(0.2,inplace=True),\n",
    "                                  nn.Conv2d(32,64,kernel_size=3,stride=2,padding=1),\n",
    "                                  nn.LeakyReLU(0.2,inplace=True),\n",
    "                                  nn.Conv2d(64,128,kernel_size=3,stride=1,padding=1),\n",
    "                                  nn.LeakyReLU(0.2,inplace=True),\n",
    "                                  )\n",
    "        self.layer2 = nn.Sequential( nn.Linear(16*16*128,1),\n",
    "                                  nn.Sigmoid())\n",
    "    def forward(self,x):\n",
    "        out = self.model(x)\n",
    "        out = out.view(-1,16*16*128)\n",
    "        out = self.layer2(out)\n",
    "        return out"
   ]
  },
  {
   "cell_type": "code",
   "execution_count": 7,
   "metadata": {},
   "outputs": [],
   "source": [
    "def weight_init(m):\n",
    "    classname = m.__class__.__name__\n",
    "    if classname.find('Conv') != -1:\n",
    "        m.weight.data.normal_(0,0.01)\n",
    "    elif classname.find('BatchNorm') != -1:\n",
    "        m.weight.data.normal_(1.0,0.01)\n",
    "        m.bias.data.fill_(0)"
   ]
  },
  {
   "cell_type": "code",
   "execution_count": 20,
   "metadata": {},
   "outputs": [],
   "source": [
    "generator = GAN(768,(3,64,64))\n",
    "generator.apply(weight_init)\n",
    "generator = generator.cuda()"
   ]
  },
  {
   "cell_type": "code",
   "execution_count": 21,
   "metadata": {},
   "outputs": [],
   "source": [
    "discriminator = Discriminator([3,64,64])\n",
    "discriminator.apply(weight_init)\n",
    "discriminator = discriminator.cuda()"
   ]
  },
  {
   "cell_type": "code",
   "execution_count": 22,
   "metadata": {},
   "outputs": [],
   "source": [
    "epochs = 1\n",
    "k = 3\n",
    "criterion = nn.BCELoss()\n",
    "# Optimizers\n",
    "optimizer_G = optim.Adam(generator.parameters(),lr = 1e-3,weight_decay=0.9)\n",
    "optimizer_D = optim.Adam(discriminator.parameters(), lr=5e-6,weight_decay=0.9)"
   ]
  },
  {
   "cell_type": "code",
   "execution_count": 27,
   "metadata": {
    "scrolled": false
   },
   "outputs": [
    {
     "name": "stdout",
     "output_type": "stream",
     "text": [
      "gloass_g:0.7210500240325928,gloss_d:0.5718688368797302,gloss_d_real0.7208230495452881,gloss_d_fake0.42291462421417236\n",
      "[[[0.00012344 0.00085352 0.00029628]\n",
      "  [0.00012344 0.00085352 0.00029628]]\n",
      "\n",
      " [[0.00012344 0.00085352 0.00029628]\n",
      "  [0.00012344 0.00085352 0.00029628]]]\n"
     ]
    },
    {
     "data": {
      "image/png": "[encoded data removed]",
      "text/plain": [
       "<Figure size 432x288 with 1 Axes>"
      ]
     },
     "metadata": {
      "needs_background": "light"
     },
     "output_type": "display_data"
    },
    {
     "name": "stdout",
     "output_type": "stream",
     "text": [
      "gloass_g:0.713882565498352,gloss_d:0.5635578632354736,gloss_d_real0.7143106460571289,gloss_d_fake0.41280508041381836\n",
      "[[[2.6656022e-05 8.7635132e-04 4.4384933e-04]\n",
      "  [2.6656022e-05 8.7635132e-04 4.4384933e-04]]\n",
      "\n",
      " [[2.6656022e-05 8.7635132e-04 4.4384933e-04]\n",
      "  [2.6656022e-05 8.7635132e-04 4.4384933e-04]]]\n"
     ]
    },
    {
     "data": {
      "image/png": "[encoded data removed]",
      "text/plain": [
       "<Figure size 432x288 with 1 Axes>"
      ]
     },
     "metadata": {
      "needs_background": "light"
     },
     "output_type": "display_data"
    },
    {
     "name": "stdout",
     "output_type": "stream",
     "text": [
      "gloass_g:0.7586305737495422,gloss_d:0.5851863026618958,gloss_d_real0.7582032680511475,gloss_d_fake0.41216933727264404\n",
      "[[[0.00021679 0.00094566 0.00078541]\n",
      "  [0.00021679 0.00094566 0.00078541]]\n",
      "\n",
      " [[0.00021679 0.00094566 0.00078541]\n",
      "  [0.00021679 0.00094566 0.00078541]]]\n"
     ]
    },
    {
     "data": {
      "image/png": "[encoded data removed]",
      "text/plain": [
       "<Figure size 432x288 with 1 Axes>"
      ]
     },
     "metadata": {
      "needs_background": "light"
     },
     "output_type": "display_data"
    },
    {
     "name": "stdout",
     "output_type": "stream",
     "text": [
      "gloass_g:0.7554026246070862,gloss_d:0.5793834924697876,gloss_d_real0.7557806968688965,gloss_d_fake0.40298622846603394\n",
      "[[[2.5840788e-04 1.4442867e-03 8.8535468e-05]\n",
      "  [2.5840790e-04 1.4442867e-03 8.8535649e-05]]\n",
      "\n",
      " [[2.5840782e-04 1.4442868e-03 8.8535584e-05]\n",
      "  [2.5840782e-04 1.4442868e-03 8.8535744e-05]]]\n"
     ]
    },
    {
     "data": {
      "image/png": "[encoded data removed]",
      "text/plain": [
       "<Figure size 432x288 with 1 Axes>"
      ]
     },
     "metadata": {
      "needs_background": "light"
     },
     "output_type": "display_data"
    }
   ],
   "source": [
    "for i in range(2):\n",
    "    for index,(x,y) in enumerate(loader_train):\n",
    "        fake = torch.zeros(x.shape[0],1,requires_grad=False)\n",
    "        fake = fake.to(device)\n",
    "        y = torch.rand(x.shape[0],1,requires_grad=False)\n",
    "        y = y.to(device)\n",
    "        fake_data = torch.randn((x.shape[0],256),requires_grad=False).to(device)\n",
    "        x = x.to(device)\n",
    "        gen_img = generator(fake_data)\n",
    "        for j in range(1):\n",
    "            optimizer_D.zero_grad()\n",
    "            gloss_d_real = criterion(discriminator(x.detach()),y)\n",
    "            gloss_d_fake = criterion(discriminator(gen_img.detach()),fake)\n",
    "            gloss_d = (gloss_d_real + gloss_d_fake)/2\n",
    "            gloss_d.backward()\n",
    "            optimizer_D.step()\n",
    "       \n",
    "        for i in range(2):\n",
    "            optimizer_G.zero_grad()\n",
    "            gen_img = generator(fake_data)\n",
    "            d = discriminator(gen_img)\n",
    "            gloss_g =  criterion(d,y).cuda()\n",
    "            gloss_g.backward()\n",
    "            optimizer_G.step()\n",
    "        \n",
    "        if index%60 == 0:\n",
    "            print('gloass_g:{},gloss_d:{},gloss_d_real{},gloss_d_fake{}'.format(gloss_g,gloss_d,gloss_d_real,gloss_d_fake))\n",
    "            a = gen_img[0].cpu()\n",
    "            img_numpy = a.detach().numpy()\n",
    "            img_numpy = img_numpy.transpose(1,2,0)\n",
    "            print(img_numpy[:2,:2])\n",
    "            plt.imshow(((img_numpy+1.0)/2.0))\n",
    "            plt.show()"
   ]
  },
  {
   "cell_type": "code",
   "execution_count": null,
   "metadata": {},
   "outputs": [],
   "source": []
  },
  {
   "cell_type": "code",
   "execution_count": null,
   "metadata": {},
   "outputs": [],
   "source": []
  }
 ],
 "metadata": {
  "kernelspec": {
   "display_name": "Python 3",
   "language": "python",
   "name": "python3"
  },
  "language_info": {
   "codemirror_mode": {
    "name": "ipython",
    "version": 3
   },
   "file_extension": ".py",
   "mimetype": "text/x-python",
   "name": "python",
   "nbconvert_exporter": "python",
   "pygments_lexer": "ipython3",
   "version": "3.7.0"
  },
  "toc": {
   "base_numbering": 1,
   "nav_menu": {},
   "number_sections": true,
   "sideBar": true,
   "skip_h1_title": false,
   "title_cell": "Table of Contents",
   "title_sidebar": "Contents",
   "toc_cell": false,
   "toc_position": {},
   "toc_section_display": true,
   "toc_window_display": false
  }
 },
 "nbformat": 4,
 "nbformat_minor": 2
}
