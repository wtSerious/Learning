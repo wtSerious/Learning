{
 "cells": [
  {
   "cell_type": "code",
   "execution_count": 39,
   "metadata": {
    "scrolled": false
   },
   "outputs": [],
   "source": [
    "from torch.utils.data import Dataset\n",
    "import os\n",
    "import matplotlib.pyplot as plt\n",
    "import matplotlib.image as Mapping\n",
    "import numpy as np\n",
    "from PIL  import Image\n",
    "import cs231n.datasets.Load_faces as dst\n",
    "from torch.utils.data import DataLoader\n",
    "import torchvision.transforms as T\n",
    "import torch.nn as nn\n",
    "import torch\n",
    "import matplotlib.pyplot as plt\n",
    "from torch import optim\n",
    "from torch.utils.checkpoint import checkpoint_sequential\n",
    "from sklearn.preprocessing import MinMaxScaler\n",
    "from torch.utils.tensorboard import SummaryWriter\n",
    "import torchvision"
   ]
  },
  {
   "cell_type": "code",
   "execution_count": 40,
   "metadata": {},
   "outputs": [],
   "source": [
    "dir_path = \"C:/Users/wtser/Desktop/learnData/data/faces/\"\n",
    "transform = T.Compose([T.ToTensor(),T.Normalize([0.5,0.5,0.5],[5,0.5,0.5])])\n",
    "train_data = dst.load_Face(root =dir_path,number = 6400,transform=transform)\n",
    "device = torch.device('cuda')\n",
    "writer = SummaryWriter(log_dir=\"E:/GANPIC/eight\")\n"
   ]
  },
  {
   "cell_type": "code",
   "execution_count": 41,
   "metadata": {},
   "outputs": [],
   "source": [
    "def normData(loader_data):\n",
    "    for x,y in loader_data:\n",
    "        x = x/2.4720\n",
    "        yield (x,y)\n",
    "    "
   ]
  },
  {
   "cell_type": "code",
   "execution_count": 42,
   "metadata": {},
   "outputs": [],
   "source": [
    "loader_train = DataLoader(train_data,batch_size=32,shuffle=True)\n",
    "# loader_train = normData(loader_train)"
   ]
  },
  {
   "cell_type": "code",
   "execution_count": 43,
   "metadata": {},
   "outputs": [],
   "source": [
    "class SimpleCustomBatch:\n",
    "    def __init__(self, data):\n",
    "        transposed_data = list(zip(*data))\n",
    "        print(transposed_data[1])\n",
    "        self.inp = torch.stack(transposed_data[0], 0)\n",
    "        self.tgt = torch.stack(transposed_data[1], 0)\n",
    "\n",
    "    def pin_memory(self):\n",
    "        self.inp = self.inp.pin_memory()\n",
    "        self.tgt = self.tgt.pin_memory()\n",
    "        return self\n",
    "\n",
    "def collate_wrapper(batch):\n",
    "    return SimpleCustomBatch(batch)\n"
   ]
  },
  {
   "cell_type": "code",
   "execution_count": 44,
   "metadata": {},
   "outputs": [],
   "source": [
    "class Reshape(nn.Module):\n",
    "    def __init__(self,_shape):\n",
    "        super(Reshape,self).__init__()\n",
    "        self.shape = _shape\n",
    "    \n",
    "    def forward(self,x):\n",
    "        return x.view(*self.shape)"
   ]
  },
  {
   "cell_type": "code",
   "execution_count": 45,
   "metadata": {
    "code_folding": []
   },
   "outputs": [],
   "source": [
    "class GAN(nn.Module):\n",
    "    def __init__(self,indim,img_shape):\n",
    "        super(GAN,self).__init__()\n",
    "        self.img_shape = img_shape\n",
    "        \n",
    "        def block(indim,outdim,normalize=True):\n",
    "            layers = [nn.Linear(indim,outdim)]\n",
    "            if normalize:\n",
    "                layers.append(nn.BatchNorm1d(outdim,0.8))\n",
    "            layers.append(nn.LeakyReLU(0.2,inplace=False))\n",
    "            return layers\n",
    "        \n",
    "        self.model = nn.Sequential(nn.ConvTranspose2d(100,512,kernel_size=6,stride=1,padding=0,bias=False),\n",
    "                                   nn.ReLU(inplace=True),\n",
    "                                   nn.ConvTranspose2d(512,256,kernel_size=4,stride=2,padding=1,bias=False),\n",
    "                                   nn.BatchNorm2d(256),\n",
    "                                   nn.ReLU(inplace=True),\n",
    "                                   nn.ConvTranspose2d(256,128,kernel_size=4,stride=2,padding=1,bias=False),\n",
    "                                   nn.BatchNorm2d(128),\n",
    "                                   nn.ReLU(inplace=True),\n",
    "                                   nn.ConvTranspose2d(128,64,kernel_size=4,stride=2,padding=1,bias=False),\n",
    "                                   nn.BatchNorm2d(64),\n",
    "                                   nn.ReLU(inplace=True),\n",
    "                                   nn.ConvTranspose2d(64,3,kernel_size=4,stride=2,padding=1,bias=False),\n",
    "                                   nn.Tanh()\n",
    "                                  )\n",
    "    def forward(self,x):\n",
    "        out = self.model(x)\n",
    "        return out"
   ]
  },
  {
   "cell_type": "code",
   "execution_count": 46,
   "metadata": {},
   "outputs": [],
   "source": [
    "class Discriminator(nn.Module):\n",
    "    def __init__(self,img_shape):\n",
    "        super(Discriminator,self).__init__()\n",
    "        self.model = nn.Sequential(nn.Conv2d(3,64,kernel_size=4,stride=2,padding=1,bias=False),\n",
    "                                  nn.LeakyReLU(0.2,inplace=True),\n",
    "                                  nn.Conv2d(64,128,kernel_size=4,stride=2,padding=1,bias=False),\n",
    "                                  nn.BatchNorm2d(128),\n",
    "                                  nn.LeakyReLU(0.2,inplace=True),\n",
    "                                  nn.Conv2d(128,256,kernel_size=4,stride=2,padding=1,bias=False),\n",
    "                                  nn.BatchNorm2d(256),\n",
    "                                  nn.LeakyReLU(0.2,inplace=True),\n",
    "                                  nn.Conv2d(256,512,kernel_size=4,stride=2,padding=1,bias=False),\n",
    "                                  nn.BatchNorm2d(512),\n",
    "                                  nn.LeakyReLU(0.2,inplace=True),\n",
    "                                  )\n",
    "        self.lastlayer = nn.Linear(18432,1)\n",
    "        \n",
    "    def forward(self,x,matching=False):\n",
    "        feature = self.model(x)\n",
    "        feature = feature.view(feature.shape[0],-1)\n",
    "        out = self.lastlayer(feature)\n",
    "        if matching:\n",
    "            return feature,out\n",
    "        return out"
   ]
  },
  {
   "cell_type": "code",
   "execution_count": 47,
   "metadata": {},
   "outputs": [],
   "source": [
    "def weights_init(m):\n",
    "    classname = m.__class__.__name__\n",
    "    if classname.find('Conv') != -1:\n",
    "        m.weight.data.normal_(0.0, 0.02)\n",
    "    elif classname.find('BatchNorm') != -1:\n",
    "        m.weight.data.normal_(1.0, 0.02)\n",
    "        m.bias.data.fill_(0)"
   ]
  },
  {
   "cell_type": "code",
   "execution_count": 48,
   "metadata": {},
   "outputs": [],
   "source": [
    "def save_model_dict(model,optimizer,path):\n",
    "    checkpoint = {'model':model.state_dict(),'optimizer':optimizer.state_dict()}\n",
    "    torch.save(checkpoint,path)"
   ]
  },
  {
   "cell_type": "code",
   "execution_count": 49,
   "metadata": {},
   "outputs": [],
   "source": [
    "def load_model_dict(model,path):\n",
    "    checkpoint = torch.load(path)\n",
    "    model.load_state_dict(checkpoint['model'])\n",
    "    model = model.cuda()\n",
    "    optimizer = optim.Adam(model.parameters(),lr = 2e-4,betas=(0.5, 0.999))\n",
    "    optimizer.load_state_dict(checkpoint['optimizer'])\n",
    "    return model,optimizer"
   ]
  },
  {
   "cell_type": "code",
   "execution_count": 50,
   "metadata": {},
   "outputs": [],
   "source": [
    "generator = GAN(100,(3,96,96))\n",
    "generator.apply(weights_init)\n",
    "# generator,optimizer_G = load_model_dict(generator,\"E:/GANModel/DCGAN5/generator/generator_epoch550\")\n",
    "generator = generator.cuda()"
   ]
  },
  {
   "cell_type": "code",
   "execution_count": 51,
   "metadata": {},
   "outputs": [],
   "source": [
    "discriminator = Discriminator([3,96,96])\n",
    "discriminator.apply(weights_init)\n",
    "# discriminator,optimizer_D = load_model_dict(discriminator,\"E:/GANModel/DCGAN5/discriminator/discriminator_epoch550\")\n",
    "discriminator = discriminator.cuda()"
   ]
  },
  {
   "cell_type": "code",
   "execution_count": 52,
   "metadata": {},
   "outputs": [],
   "source": [
    "epochs = 1\n",
    "k = 3\n",
    "criterion = nn.BCELoss()\n",
    "criterion_G = nn.MSELoss()\n",
    "# Optimizers\n",
    "optimizer_G = optim.Adam(generator.parameters(),lr = 2e-4,betas=(0.5, 0.999))\n",
    "optimizer_D = optim.Adam(discriminator.parameters(), lr=2e-4,betas=(0.5, 0.999))\n",
    "# optimizer_G = optim.Adam(generator.parameters(),lr = 2e-4)\n",
    "# optimizer_D = optim.Adam(discriminator.parameters(), lr=2e-4)\n",
    "generator_path = \"E:/GANModel/DCGAN4/DCGAN5/generator/\"\n",
    "discriminator_path = \"E:/GANModel/DCGAN4/DCGAN5/discriminator/\""
   ]
  },
  {
   "cell_type": "code",
   "execution_count": 35,
   "metadata": {},
   "outputs": [],
   "source": [
    "# one = torch.FloatTensor([1]).cuda()\n",
    "# mone = -1*one\n",
    "# for i in range(0,1):\n",
    "#     data_iter = iter(loader_train)\n",
    "#     index = 0\n",
    "#     while index<len(loader_train):\n",
    "#         x,y = data_iter.next()\n",
    "        \n",
    "#         index +=1\n",
    "#         print(torch.max(x))\n",
    "# #         print(np.max(np.array(x)))\n",
    "        \n",
    "# #         for p in self.model_d.parameters():  # reset requires_grad\n",
    "# #             p.requires_grad = True\n",
    "# #             k_max = 1\n",
    "# #             k = 0\n",
    "# #             while k<k_max and index < len(self.data):\n",
    "# #                 for p in self.model_d.parameters():\n",
    "# #                     p.data.clamp(-self.c, self.c)\n",
    "# #                 self.optimizer_d.zero_grad()\n",
    "# #                 x, y = data_iter.next()\n",
    "# #                 index += 1\n",
    "# #                 real_data = x.to(self.device)\n",
    "# #                 # 在这里有一个坑点：论文里是 maximize E_{real}(f(x_{real})) - E_{fake}(f(x_{fake})),但是说\n",
    "# #                 # maximize E_{real}(f(x_{real})) == maxmize E_{fake}(f(x_{fake})) -E_{real}(f(x_{real})),在实现上是用第二个式子的\n",
    "# #                 #这里就是把 f(x)变成了-f(x),作者给出的解释是，知道当 -f(x) 是 1-lip 时，f(x) 才是 1-lip\n",
    "# #                 # 所以 maxmize E_{fake}(f(x_{fake})) -E_{real}(f(x_{real})) == minimize E_{real}(f(x_{real})) - E_{fake}(f(x_{fake}))\n",
    "# #                 #这里已经换成正常的了\n",
    "# #                 output_real = self.model_d(real_data.detach())\n",
    "# #                 loss_d_real = torch.mean(output_real)\n",
    "# #                 loss_d_real.backward(mone)#mone = -1\n",
    "    \n",
    "# #                 fake_noise = torch.randn(self.batch_size, self.indim, 1, 1, device=self.device)\n",
    "# #                 fake_img = self.model_g(fake_noise)\n",
    "# #                 output_fake = self.model_d(fake_img)\n",
    "# #                 loss_d_fake = torch.mean(output_fake)\n",
    "# #                 loss_d_fake.backward(one)#one = 1\n",
    "    \n",
    "# #                     # 还有一点注意在画 loss_d 的时候 又要画 loss_d_fake - loss_d_real,有点乱的。\n",
    "# #                 loss_d = loss_d_fake - loss_d_real\n",
    "# #                 wass_d =  loss_d_real - loss_d_fake\n",
    "# #                 self.optimizer_d.step()\n",
    "    \n",
    "# #                 #train G\n",
    "# #             for p in self.model_d.parameters():\n",
    "# #                 p.requires_grad = False\n",
    "# #             self.optimizer_g.zero_grad()\n",
    "# #             fake_img = self.model_g(fake_noise)\n",
    "# #             output_g_fake = self.model_d(fake_img)\n",
    "    \n",
    "# #                 #原本 minimize -E_{fake}(f(x_{fake})) 变成 minimize E_{fake}(f(x_{fake}))\n",
    "# #             loss_g = torch.mean(output_g_fake)\n",
    "# #             loss_g.backward(mone)\n",
    "# #             g_cost = -loss_g\n",
    "# #             self.optimizer_g.step()"
   ]
  },
  {
   "cell_type": "code",
   "execution_count": 54,
   "metadata": {
    "scrolled": false
   },
   "outputs": [
    {
     "name": "stdout",
     "output_type": "stream",
     "text": [
      "gloass_g:6.718114376068115,gloss_d:0.48223549127578735,gloss_d_real0.20966757833957672,gloss_d_fake0.2725679278373718\n"
     ]
    },
    {
     "ename": "FileNotFoundError",
     "evalue": "[Errno 2] No such file or directory: 'E:/GANModel/DCGAN4/DCGAN5/generator/generator_epoch0'",
     "output_type": "error",
     "traceback": [
      "\u001b[1;31m---------------------------------------------------------------------------\u001b[0m",
      "\u001b[1;31mFileNotFoundError\u001b[0m                         Traceback (most recent call last)",
      "\u001b[1;32m<ipython-input-54-8996731ddfa9>\u001b[0m in \u001b[0;36m<module>\u001b[1;34m()\u001b[0m\n\u001b[0;32m     64\u001b[0m             \u001b[0mg_path\u001b[0m \u001b[1;33m=\u001b[0m \u001b[0mos\u001b[0m\u001b[1;33m.\u001b[0m\u001b[0mpath\u001b[0m\u001b[1;33m.\u001b[0m\u001b[0mjoin\u001b[0m\u001b[1;33m(\u001b[0m\u001b[0mgenerator_path\u001b[0m\u001b[1;33m,\u001b[0m\u001b[1;34m\"generator_epoch{}\"\u001b[0m\u001b[1;33m.\u001b[0m\u001b[0mformat\u001b[0m\u001b[1;33m(\u001b[0m\u001b[0mi\u001b[0m\u001b[1;33m)\u001b[0m\u001b[1;33m)\u001b[0m\u001b[1;33m\u001b[0m\u001b[0m\n\u001b[0;32m     65\u001b[0m             \u001b[0md_path\u001b[0m \u001b[1;33m=\u001b[0m \u001b[0mos\u001b[0m\u001b[1;33m.\u001b[0m\u001b[0mpath\u001b[0m\u001b[1;33m.\u001b[0m\u001b[0mjoin\u001b[0m\u001b[1;33m(\u001b[0m\u001b[0mdiscriminator_path\u001b[0m\u001b[1;33m,\u001b[0m\u001b[1;34m\"discriminator_epoch{}\"\u001b[0m\u001b[1;33m.\u001b[0m\u001b[0mformat\u001b[0m\u001b[1;33m(\u001b[0m\u001b[0mi\u001b[0m\u001b[1;33m)\u001b[0m\u001b[1;33m)\u001b[0m\u001b[1;33m\u001b[0m\u001b[0m\n\u001b[1;32m---> 66\u001b[1;33m             \u001b[0msave_model_dict\u001b[0m\u001b[1;33m(\u001b[0m\u001b[0mgenerator\u001b[0m\u001b[1;33m,\u001b[0m\u001b[0moptimizer_G\u001b[0m\u001b[1;33m,\u001b[0m\u001b[0mg_path\u001b[0m\u001b[1;33m)\u001b[0m\u001b[1;33m\u001b[0m\u001b[0m\n\u001b[0m\u001b[0;32m     67\u001b[0m             \u001b[0msave_model_dict\u001b[0m\u001b[1;33m(\u001b[0m\u001b[0mdiscriminator\u001b[0m\u001b[1;33m,\u001b[0m\u001b[0moptimizer_D\u001b[0m\u001b[1;33m,\u001b[0m\u001b[0md_path\u001b[0m\u001b[1;33m)\u001b[0m\u001b[1;33m\u001b[0m\u001b[0m\n\u001b[0;32m     68\u001b[0m \u001b[1;31m#             a = fake_img[0].cpu()\u001b[0m\u001b[1;33m\u001b[0m\u001b[1;33m\u001b[0m\u001b[0m\n",
      "\u001b[1;32m<ipython-input-48-462e05dda2fc>\u001b[0m in \u001b[0;36msave_model_dict\u001b[1;34m(model, optimizer, path)\u001b[0m\n\u001b[0;32m      1\u001b[0m \u001b[1;32mdef\u001b[0m \u001b[0msave_model_dict\u001b[0m\u001b[1;33m(\u001b[0m\u001b[0mmodel\u001b[0m\u001b[1;33m,\u001b[0m\u001b[0moptimizer\u001b[0m\u001b[1;33m,\u001b[0m\u001b[0mpath\u001b[0m\u001b[1;33m)\u001b[0m\u001b[1;33m:\u001b[0m\u001b[1;33m\u001b[0m\u001b[0m\n\u001b[0;32m      2\u001b[0m     \u001b[0mcheckpoint\u001b[0m \u001b[1;33m=\u001b[0m \u001b[1;33m{\u001b[0m\u001b[1;34m'model'\u001b[0m\u001b[1;33m:\u001b[0m\u001b[0mmodel\u001b[0m\u001b[1;33m.\u001b[0m\u001b[0mstate_dict\u001b[0m\u001b[1;33m(\u001b[0m\u001b[1;33m)\u001b[0m\u001b[1;33m,\u001b[0m\u001b[1;34m'optimizer'\u001b[0m\u001b[1;33m:\u001b[0m\u001b[0moptimizer\u001b[0m\u001b[1;33m.\u001b[0m\u001b[0mstate_dict\u001b[0m\u001b[1;33m(\u001b[0m\u001b[1;33m)\u001b[0m\u001b[1;33m}\u001b[0m\u001b[1;33m\u001b[0m\u001b[0m\n\u001b[1;32m----> 3\u001b[1;33m     \u001b[0mtorch\u001b[0m\u001b[1;33m.\u001b[0m\u001b[0msave\u001b[0m\u001b[1;33m(\u001b[0m\u001b[0mcheckpoint\u001b[0m\u001b[1;33m,\u001b[0m\u001b[0mpath\u001b[0m\u001b[1;33m)\u001b[0m\u001b[1;33m\u001b[0m\u001b[0m\n\u001b[0m",
      "\u001b[1;32mD:\\Anaconda\\lib\\site-packages\\torch\\serialization.py\u001b[0m in \u001b[0;36msave\u001b[1;34m(obj, f, pickle_module, pickle_protocol)\u001b[0m\n\u001b[0;32m    222\u001b[0m         \u001b[1;33m>>\u001b[0m\u001b[1;33m>\u001b[0m \u001b[0mtorch\u001b[0m\u001b[1;33m.\u001b[0m\u001b[0msave\u001b[0m\u001b[1;33m(\u001b[0m\u001b[0mx\u001b[0m\u001b[1;33m,\u001b[0m \u001b[0mbuffer\u001b[0m\u001b[1;33m)\u001b[0m\u001b[1;33m\u001b[0m\u001b[0m\n\u001b[0;32m    223\u001b[0m     \"\"\"\n\u001b[1;32m--> 224\u001b[1;33m     \u001b[1;32mreturn\u001b[0m \u001b[0m_with_file_like\u001b[0m\u001b[1;33m(\u001b[0m\u001b[0mf\u001b[0m\u001b[1;33m,\u001b[0m \u001b[1;34m\"wb\"\u001b[0m\u001b[1;33m,\u001b[0m \u001b[1;32mlambda\u001b[0m \u001b[0mf\u001b[0m\u001b[1;33m:\u001b[0m \u001b[0m_save\u001b[0m\u001b[1;33m(\u001b[0m\u001b[0mobj\u001b[0m\u001b[1;33m,\u001b[0m \u001b[0mf\u001b[0m\u001b[1;33m,\u001b[0m \u001b[0mpickle_module\u001b[0m\u001b[1;33m,\u001b[0m \u001b[0mpickle_protocol\u001b[0m\u001b[1;33m)\u001b[0m\u001b[1;33m)\u001b[0m\u001b[1;33m\u001b[0m\u001b[0m\n\u001b[0m\u001b[0;32m    225\u001b[0m \u001b[1;33m\u001b[0m\u001b[0m\n\u001b[0;32m    226\u001b[0m \u001b[1;33m\u001b[0m\u001b[0m\n",
      "\u001b[1;32mD:\\Anaconda\\lib\\site-packages\\torch\\serialization.py\u001b[0m in \u001b[0;36m_with_file_like\u001b[1;34m(f, mode, body)\u001b[0m\n\u001b[0;32m    145\u001b[0m             \u001b[1;33m(\u001b[0m\u001b[0msys\u001b[0m\u001b[1;33m.\u001b[0m\u001b[0mversion_info\u001b[0m\u001b[1;33m[\u001b[0m\u001b[1;36m0\u001b[0m\u001b[1;33m]\u001b[0m \u001b[1;33m==\u001b[0m \u001b[1;36m3\u001b[0m \u001b[1;32mand\u001b[0m \u001b[0misinstance\u001b[0m\u001b[1;33m(\u001b[0m\u001b[0mf\u001b[0m\u001b[1;33m,\u001b[0m \u001b[0mpathlib\u001b[0m\u001b[1;33m.\u001b[0m\u001b[0mPath\u001b[0m\u001b[1;33m)\u001b[0m\u001b[1;33m)\u001b[0m\u001b[1;33m:\u001b[0m\u001b[1;33m\u001b[0m\u001b[0m\n\u001b[0;32m    146\u001b[0m         \u001b[0mnew_fd\u001b[0m \u001b[1;33m=\u001b[0m \u001b[1;32mTrue\u001b[0m\u001b[1;33m\u001b[0m\u001b[0m\n\u001b[1;32m--> 147\u001b[1;33m         \u001b[0mf\u001b[0m \u001b[1;33m=\u001b[0m \u001b[0mopen\u001b[0m\u001b[1;33m(\u001b[0m\u001b[0mf\u001b[0m\u001b[1;33m,\u001b[0m \u001b[0mmode\u001b[0m\u001b[1;33m)\u001b[0m\u001b[1;33m\u001b[0m\u001b[0m\n\u001b[0m\u001b[0;32m    148\u001b[0m     \u001b[1;32mtry\u001b[0m\u001b[1;33m:\u001b[0m\u001b[1;33m\u001b[0m\u001b[0m\n\u001b[0;32m    149\u001b[0m         \u001b[1;32mreturn\u001b[0m \u001b[0mbody\u001b[0m\u001b[1;33m(\u001b[0m\u001b[0mf\u001b[0m\u001b[1;33m)\u001b[0m\u001b[1;33m\u001b[0m\u001b[0m\n",
      "\u001b[1;31mFileNotFoundError\u001b[0m: [Errno 2] No such file or directory: 'E:/GANModel/DCGAN4/DCGAN5/generator/generator_epoch0'"
     ]
    }
   ],
   "source": [
    "for i in range(0,11):\n",
    "    data_iter = iter(loader_train)\n",
    "    index = 0\n",
    "    while index <len(data_iter):\n",
    "        k_max = 1\n",
    "        k = 0\n",
    "        fake = torch.zeros(x.shape[0],1,requires_grad=False).to(device)\n",
    "        real = torch.rand(x.shape[0],1,requires_grad=False).to(device)\n",
    "        while k<k_max and index<len(data_iter):     \n",
    "            x,y = data_iter.next()\n",
    "            index +=1\n",
    "            optimizer_D.zero_grad()\n",
    "            # unsupervised loss\n",
    "\t\t\t# D(x) = Z(x) / {Z(x) + 1}, where Z(x) = \\sum_{k=1}^K exp(l_k(x))\n",
    "\t\t\t# softplus(x) := log(1 + exp(x))\n",
    "\t\t\t# logD(x) = logZ(x) - log(Z(x) + 1)\n",
    "\t\t\t# \t\t  = logZ(x) - log(exp(log(Z(x))) + 1)\n",
    "\t\t\t# \t\t  = logZ(x) - softplus(logZ(x))\n",
    "\t\t\t# 1 - D(x) = 1 / {Z(x) + 1}\n",
    "\t\t\t# log{1 - D(x)} = log1 - log(Z(x) + 1)\n",
    "\t\t\t# \t\t\t\t= -log(exp(log(Z(x))) + 1)\n",
    "\t\t\t# \t\t\t\t= -softplus(logZ(x)\n",
    "            #train discriminator by real\n",
    "            real_data = x.to(device)\n",
    "            output = discriminator(real_data.detach(),False)\n",
    "            #因为在这里并没有 k 类，只有真和假，也就是说 k=1,所以 sum 操作可以忽略，然后 log 和 exp 又相互抵消，\n",
    "            #所以相当于 log Z(x) = l(x)\n",
    "            log_sum_exp = output\n",
    "            log_d = log_sum_exp - torch.nn.functional.softplus(log_sum_exp)\n",
    "            gloss_d_real = -1.0*torch.sum(log_d)/32\n",
    "            \n",
    "            #train discriminator by fake\n",
    "            noise = torch.randn(x.shape[0],100,1,1,requires_grad=False).to(device)\n",
    "            fake_img = generator(noise)\n",
    "            output = discriminator(fake_img.detach(),False)\n",
    "            log_sum_exp = output\n",
    "            gloss_d_fake = torch.sum(torch.nn.functional.softplus(log_sum_exp))/32\n",
    "            loss_unsupervised = gloss_d_real + gloss_d_fake\n",
    "            gloss_d = loss_unsupervised\n",
    "            gloss_d.backward()\n",
    "            optimizer_D.step()\n",
    "            k += 1\n",
    "        #train generator\n",
    "        optimizer_G.zero_grad()\n",
    "        feature_fake,output_real = discriminator(fake_img,True)\n",
    "        log_sum_exp = output_real\n",
    "        log_d = log_sum_exp - torch.nn.functional.softplus(log_sum_exp)\n",
    "        gloss_g = -1.0*torch.sum(log_d)/32\n",
    "        #feature matching\n",
    "        feature_fake,output_real = discriminator(fake_img,True)\n",
    "        feature_real,output_fake = discriminator(real_data,True)\n",
    "        gloss_g += criterion_G(feature_fake,feature_real).to(device)\n",
    "        gloss_g.backward()\n",
    "        optimizer_G.step()\n",
    "    \n",
    "    writer.add_scalars('loss',{'gloss_g':gloss_g,'gloss_d':gloss_d,'gloss_d_real':gloss_d_real,\n",
    "                              'gloss_d_fake':gloss_d_fake},global_step=i)\n",
    "    \n",
    "    if i%1 == 0:\n",
    "            print('gloass_g:{},gloss_d:{},gloss_d_real{},gloss_d_fake{}'.format(gloss_g,gloss_d,gloss_d_real,gloss_d_fake))\n",
    "            store_img = torchvision.utils.make_grid((fake_img+1)/2.0,padding=2)\n",
    "            writer.add_image('generate_img',store_img,global_step=i)\n",
    "            \n",
    "            g_path = os.path.join(generator_path,\"generator_epoch{}\".format(i))\n",
    "            d_path = os.path.join(discriminator_path,\"discriminator_epoch{}\".format(i))\n",
    "            save_model_dict(generator,optimizer_G,g_path)\n",
    "            save_model_dict(discriminator,optimizer_D,d_path)\n",
    "#             a = fake_img[0].cpu()\n",
    "#             img_numpy = a.detach().numpy()\n",
    "#             img_numpy = img_numpy.transpose(1,2,0)\n",
    "#             print(img_numpy[:2,:2])\n",
    "#             plt.imshow(((img_numpy+1.0)/2.0))\n",
    "#             plt.show()\n",
    "            writer.close()"
   ]
  },
  {
   "cell_type": "code",
   "execution_count": null,
   "metadata": {},
   "outputs": [],
   "source": []
  }
 ],
 "metadata": {
  "kernelspec": {
   "display_name": "Python 3",
   "language": "python",
   "name": "python3"
  },
  "language_info": {
   "codemirror_mode": {
    "name": "ipython",
    "version": 3
   },
   "file_extension": ".py",
   "mimetype": "text/x-python",
   "name": "python",
   "nbconvert_exporter": "python",
   "pygments_lexer": "ipython3",
   "version": "3.7.0"
  },
  "toc": {
   "base_numbering": 1,
   "nav_menu": {},
   "number_sections": true,
   "sideBar": true,
   "skip_h1_title": false,
   "title_cell": "Table of Contents",
   "title_sidebar": "Contents",
   "toc_cell": false,
   "toc_position": {},
   "toc_section_display": true,
   "toc_window_display": false
  }
 },
 "nbformat": 4,
 "nbformat_minor": 2
}
