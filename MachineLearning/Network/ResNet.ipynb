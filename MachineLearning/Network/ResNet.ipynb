{
 "cells": [
  {
   "cell_type": "code",
   "execution_count": 4,
   "metadata": {},
   "outputs": [],
   "source": [
    "import torch\n",
    "from torch.utils.data import DataLoader\n",
    "import torchvision.transforms as T\n",
    "import torchvision.models as models\n",
    "import cs231n.datasets.local_CIFAR10 as dst\n",
    "import torch.optim as optim\n",
    "import torch.nn as nn\n",
    "from torch.utils.data import sampler"
   ]
  },
  {
   "cell_type": "code",
   "execution_count": 5,
   "metadata": {},
   "outputs": [],
   "source": [
    "def conv3x3(in_planes, out_planes, stride=1,padding=1):\n",
    "    \"\"\"3x3 convolution with padding\"\"\"\n",
    "    return nn.Conv2d(in_planes, out_planes, kernel_size=3, stride=stride,\n",
    "                     padding=padding, bias=False)"
   ]
  },
  {
   "cell_type": "code",
   "execution_count": 6,
   "metadata": {},
   "outputs": [],
   "source": [
    "def conv1x1(in_planes, out_planes, stride=1):\n",
    "    \"\"\"1x1 convolution\"\"\"\n",
    "    return nn.Conv2d(in_planes, out_planes, kernel_size=1, stride=stride, bias=False)"
   ]
  },
  {
   "cell_type": "code",
   "execution_count": 8,
   "metadata": {},
   "outputs": [],
   "source": [
    "transform  = T.Compose([T.ToTensor(),T.Normalize((0.4914, 0.4822, 0.4465), (0.2023, 0.1994, 0.2010))])\n",
    "device = torch.device('cuda')\n",
    "train_data = dst.local_CIFAR10(\"C:/Users/wtser/Desktop/learnData/data/\",download=False,train=True,\n",
    "                               transform=transform)\n",
    "loader_train = DataLoader(train_data,batch_size=128,shuffle=False)\n",
    "test_data = dst.local_CIFAR10(\"C:/Users/wtser/Desktop/learnData/data/\",download=False,train=False,\n",
    "                              transform=transform)\n",
    "loader_test = DataLoader(test_data,batch_size=128,shuffle=False)"
   ]
  },
  {
   "cell_type": "code",
   "execution_count": 13,
   "metadata": {},
   "outputs": [
    {
     "name": "stdout",
     "output_type": "stream",
     "text": [
      "tensor(-2.4291)\n"
     ]
    }
   ],
   "source": [
    "for x,y in loader_train:\n",
    "    print(torch.min(x))\n",
    "    break"
   ]
  },
  {
   "cell_type": "code",
   "execution_count": 5,
   "metadata": {},
   "outputs": [],
   "source": [
    "class ResBlock(torch.nn.Module):\n",
    "    \"残差块\"\n",
    "    def __init__(self,indim,outdim,downSampler=None,stride=1,norm_layer = None):\n",
    "        super(ResBlock,self).__init__()\n",
    "        if norm_layer == None:\n",
    "            self.norm_layer = nn.BatchNorm2d\n",
    "        \n",
    "        self.conv1 = conv3x3(indim,outdim,stride)\n",
    "        self.bn1 = self.norm_layer(outdim)\n",
    "        self.relu = nn.ReLU(inplace=True)\n",
    "        self.con2 = conv3x3(outdim,outdim)\n",
    "        self.bn2 = self.norm_layer(outdim)\n",
    "        self.downSampler = downSampler\n",
    "        self.stride = stride\n",
    "    \n",
    "    def forward(self,x):\n",
    "        identity = x\n",
    "        out = self.conv1(x)\n",
    "        out = self.bn1(out)\n",
    "        out = self.relu(out)\n",
    "        out = self.con2(out)\n",
    "        out = self.bn2(out)\n",
    "        \n",
    "        if self.downSampler != None:\n",
    "            identity = self.downSampler(x)\n",
    "        \n",
    "        out += identity\n",
    "        out = self.relu(out)\n",
    "        \n",
    "        return out"
   ]
  },
  {
   "cell_type": "code",
   "execution_count": 6,
   "metadata": {},
   "outputs": [],
   "source": [
    "class Resnet(torch.nn.Module):\n",
    "    \n",
    "    def __init__(self,block,layers,num_classes,padding = None,norm_layer = None):\n",
    "        super(Resnet,self).__init__()\n",
    "        if norm_layer == None:\n",
    "            self.norm_layer = nn.BatchNorm2d\n",
    "        self.indim = 3\n",
    "        outdim = 64\n",
    "        self.conv1 = nn.Conv2d(in_channels=self.indim,out_channels=outdim,bias=False,kernel_size=7,padding=3\n",
    "                               ,stride=2)\n",
    "        self.indim = outdim\n",
    "        self.bn1 = self.norm_layer(outdim)\n",
    "        self.relu = nn.ReLU(inplace=True)\n",
    "        self.maxpool = nn.MaxPool2d(3,stride=2,padding=1)\n",
    "        self.layer1 = self.make_layers(block,64,layers[0])\n",
    "        self.layer2 = self.make_layers(block,128,layers[1],stride=2)\n",
    "        self.layer3 = self.make_layers(block,256,layers[2],stride=2)\n",
    "        self.layer4 = self.make_layers(block,512,layers[3],stride=2)\n",
    "        self.avgpool = nn.AdaptiveAvgPool2d((1, 1))\n",
    "        self.fc = nn.Linear(in_features=512,out_features=num_classes)\n",
    "\n",
    "    def forward(self,x):\n",
    "        out = self.conv1(x)   \n",
    "        out = self.bn1(out)\n",
    "        out = self.relu(out)\n",
    "        out = self.maxpool(out)\n",
    "        out = self.layer1(out)\n",
    "        out = self.layer2(out)\n",
    "        out = self.layer3(out)\n",
    "        out = self.layer4(out)\n",
    "        out = self.avgpool(out)\n",
    "        out = out.view(out.shape[0],-1)\n",
    "        out = self.fc(out)\n",
    "        return out\n",
    "    \n",
    "    def make_layers(self,block,outdim,block_num,stride=1):\n",
    "        downsample = None\n",
    "        if stride != 1 or self.indim != outdim:\n",
    "            downsample = nn.Sequential(conv1x1(self.indim,outdim,stride=stride),self.norm_layer(outdim))\n",
    "        \n",
    "        layers = []\n",
    "        layers.append(block(self.indim,outdim,downSampler=downsample,stride=stride))\n",
    "        self.indim = outdim\n",
    "        \n",
    "        for _ in range(1,block_num):\n",
    "            layers.append(block(self.indim,outdim))\n",
    "        \n",
    "        return nn.Sequential(*layers)\n",
    "        \n",
    "        "
   ]
  },
  {
   "cell_type": "code",
   "execution_count": 29,
   "metadata": {},
   "outputs": [],
   "source": [
    "resnet = Resnet(block=ResBlock,layers=[3,4,6,3],num_classes=10)\n",
    "resnet = resnet.cuda()"
   ]
  },
  {
   "cell_type": "code",
   "execution_count": 52,
   "metadata": {},
   "outputs": [],
   "source": [
    "num_epoch = 10\n",
    "learn_rate = 1e-3\n",
    "momentum = 0.9\n",
    "total_step = len(loader_train)\n",
    "optimer = optim.Adam(resnet.parameters(),lr=learn_rate)\n",
    "criterion = nn.CrossEntropyLoss()"
   ]
  },
  {
   "cell_type": "code",
   "execution_count": 50,
   "metadata": {},
   "outputs": [
    {
     "name": "stdout",
     "output_type": "stream",
     "text": [
      "Epoch[1/10],Step[1/391],loss0.1291\n",
      "Test accuracy of model on 10000 of test images:76.68%\n",
      "Epoch[1/10],Step[101/391],loss0.4079\n",
      "Test accuracy of model on 10000 of test images:76.86%\n",
      "Epoch[1/10],Step[201/391],loss0.3526\n",
      "Test accuracy of model on 10000 of test images:76.77%\n",
      "Epoch[1/10],Step[301/391],loss0.1570\n",
      "Test accuracy of model on 10000 of test images:76.7%\n",
      "Test accuracy of model on 10000 of test images:76.74%\n"
     ]
    }
   ],
   "source": [
    "for epoch in range(num_epoch):\n",
    "    for index,(x,y) in enumerate(loader_train):\n",
    "        x = x.to(device)\n",
    "        y = y.to(device)\n",
    "        resnet.train()\n",
    "        out = resnet(x)\n",
    "        loss = criterion(out,y)\n",
    "        \n",
    "        optimer.zero_grad()\n",
    "        loss.backward()\n",
    "        optimer.step()\n",
    "        if index % 100 == 0:\n",
    "            print('Epoch[{}/{}],Step[{}/{}],loss{:.4f}'.format(epoch+1, num_epoch, index+1, total_step, loss.item()))\n",
    "            check_acc(resnet,loader_test)\n",
    "check_acc(resnet,loader_test)"
   ]
  },
  {
   "cell_type": "code",
   "execution_count": 10,
   "metadata": {},
   "outputs": [],
   "source": [
    "def check_acc(model,test_data):\n",
    "    model.eval()\n",
    "    with torch.no_grad():\n",
    "        correct = 0\n",
    "        total = 0\n",
    "    for i,(x,y) in enumerate(test_data):\n",
    "        x = x.to(device)\n",
    "        y = y.to(device)\n",
    "        out = model(x)\n",
    "        _,pre = torch.max(out,1)\n",
    "        total += y.shape[0]\n",
    "        correct += (pre==y).sum().item()\n",
    "    print('Test accuracy of model on 10000 of test images:{}%'.format(100*correct/total ))"
   ]
  }
 ],
 "metadata": {
  "kernelspec": {
   "display_name": "Python 3",
   "language": "python",
   "name": "python3"
  },
  "language_info": {
   "codemirror_mode": {
    "name": "ipython",
    "version": 3
   },
   "file_extension": ".py",
   "mimetype": "text/x-python",
   "name": "python",
   "nbconvert_exporter": "python",
   "pygments_lexer": "ipython3",
   "version": "3.7.0"
  },
  "toc": {
   "base_numbering": 1,
   "nav_menu": {},
   "number_sections": true,
   "sideBar": true,
   "skip_h1_title": false,
   "title_cell": "Table of Contents",
   "title_sidebar": "Contents",
   "toc_cell": false,
   "toc_position": {},
   "toc_section_display": true,
   "toc_window_display": false
  }
 },
 "nbformat": 4,
 "nbformat_minor": 2
}
