{
 "cells": [
  {
   "cell_type": "code",
   "execution_count": 1,
   "metadata": {},
   "outputs": [
    {
     "ename": "ModuleNotFoundError",
     "evalue": "No module named 'activations'",
     "output_type": "error",
     "traceback": [
      "\u001b[1;31m---------------------------------------------------------------------------\u001b[0m",
      "\u001b[1;31mModuleNotFoundError\u001b[0m                       Traceback (most recent call last)",
      "\u001b[1;32m<ipython-input-1-549f52ed85ff>\u001b[0m in \u001b[0;36m<module>\u001b[1;34m()\u001b[0m\n\u001b[0;32m     11\u001b[0m \u001b[0msns\u001b[0m\u001b[1;33m.\u001b[0m\u001b[0mset_context\u001b[0m\u001b[1;33m(\u001b[0m\u001b[1;34m\"notebook\"\u001b[0m\u001b[1;33m,\u001b[0m \u001b[0mfont_scale\u001b[0m\u001b[1;33m=\u001b[0m\u001b[1;36m0.7\u001b[0m\u001b[1;33m)\u001b[0m\u001b[1;33m\u001b[0m\u001b[0m\n\u001b[0;32m     12\u001b[0m \u001b[1;33m\u001b[0m\u001b[0m\n\u001b[1;32m---> 13\u001b[1;33m \u001b[1;32mfrom\u001b[0m \u001b[0mactivations\u001b[0m \u001b[1;32mimport\u001b[0m \u001b[0mAffine\u001b[0m\u001b[1;33m,\u001b[0m \u001b[0mReLU\u001b[0m\u001b[1;33m,\u001b[0m \u001b[0mLeakyReLU\u001b[0m\u001b[1;33m,\u001b[0m \u001b[0mTanh\u001b[0m\u001b[1;33m,\u001b[0m \u001b[0mSigmoid\u001b[0m\u001b[1;33m\u001b[0m\u001b[0m\n\u001b[0m\u001b[0;32m     14\u001b[0m \u001b[1;33m\u001b[0m\u001b[0m\n\u001b[0;32m     15\u001b[0m \u001b[1;33m\u001b[0m\u001b[0m\n",
      "\u001b[1;31mModuleNotFoundError\u001b[0m: No module named 'activations'"
     ]
    }
   ],
   "source": [
    "import numpy as np\n",
    "import matplotlib\n",
    "\n",
    "matplotlib.use(\"TkAgg\")\n",
    "import matplotlib.pyplot as plt\n",
    "import seaborn as sns\n",
    "\n",
    "# https://seaborn.pydata.org/generated/seaborn.set_context.html\n",
    "# https://seaborn.pydata.org/generated/seaborn.set_style.html\n",
    "sns.set_style(\"white\")\n",
    "sns.set_context(\"notebook\", font_scale=0.7)\n",
    "\n",
    "from activations import Affine, ReLU, LeakyReLU, Tanh, Sigmoid\n",
    "\n",
    "\n",
    "def plot_activations():\n",
    "    fig, axes = plt.subplots(2, 3, sharex=True, sharey=True)\n",
    "    fns = [Affine(), Tanh(), Sigmoid(), ReLU(), LeakyReLU()]\n",
    "    for ax, fn in zip(axes.flatten(), fns):\n",
    "        X = np.linspace(-3, 3, 100).astype(float)\n",
    "        ax.plot(X, fn(X), label=r\"$y$\", alpha=0.7)\n",
    "        ax.plot(X, fn.grad(X), label=r\"$\\frac{dy}{dx}$\", alpha=0.7)\n",
    "        ax.plot(X, fn.grad2(X), label=r\"$\\frac{d^2 y}{dx^2}$\", alpha=0.7)\n",
    "        ax.hlines(0, -3, 3, lw=1, linestyles=\"dashed\", color=\"k\")\n",
    "        ax.vlines(0, -1.2, 1.2, lw=1, linestyles=\"dashed\", color=\"k\")\n",
    "        ax.set_ylim(-1.1, 1.1)\n",
    "        ax.set_xlim(-3, 3)\n",
    "        ax.set_xticks([])\n",
    "        ax.set_yticks([-1, 0, 1])\n",
    "        ax.xaxis.set_visible(False)\n",
    "        #  ax.yaxis.set_visible(False)\n",
    "        ax.set_title(\"{}\".format(fn))\n",
    "        ax.legend(frameon=False)\n",
    "        sns.despine(left=True, bottom=True)\n",
    "\n",
    "    fig.set_size_inches(8, 5)\n",
    "    plt.tight_layout()\n",
    "    plt.savefig(\"plot.png\", dpi=300)\n",
    "    plt.close(\"all\")\n",
    "\n",
    "\n",
    "if __name__ == \"__main__\":\n",
    "    plot_activations()"
   ]
  }
 ],
 "metadata": {
  "kernelspec": {
   "display_name": "Python 3",
   "language": "python",
   "name": "python3"
  },
  "language_info": {
   "codemirror_mode": {
    "name": "ipython",
    "version": 3
   },
   "file_extension": ".py",
   "mimetype": "text/x-python",
   "name": "python",
   "nbconvert_exporter": "python",
   "pygments_lexer": "ipython3",
   "version": "3.7.0"
  },
  "toc": {
   "base_numbering": 1,
   "nav_menu": {},
   "number_sections": true,
   "sideBar": true,
   "skip_h1_title": false,
   "title_cell": "Table of Contents",
   "title_sidebar": "Contents",
   "toc_cell": false,
   "toc_position": {},
   "toc_section_display": true,
   "toc_window_display": false
  }
 },
 "nbformat": 4,
 "nbformat_minor": 2
}
