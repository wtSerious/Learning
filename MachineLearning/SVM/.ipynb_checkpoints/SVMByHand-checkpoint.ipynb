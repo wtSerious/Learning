{
 "cells": [
  {
   "cell_type": "code",
   "execution_count": 11,
   "metadata": {},
   "outputs": [],
   "source": [
    "import numpy as np"
   ]
  },
  {
   "cell_type": "code",
   "execution_count": 9,
   "metadata": {},
   "outputs": [],
   "source": [
    "# 读取文件数据\n",
    "def LoadData(file):\n",
    "    # 打开文件\n",
    "    fr = open(file)\n",
    "    \n",
    "    dataArr = []# 数据集\n",
    "    classLabel = []# 标签集\n",
    "    #读取每一行的数据\n",
    "    for line in fr.readlines():\n",
    "        data = line.strip().split('\\t')\n",
    "        dataArr.append(data[:2])\n",
    "        classLabel.append(data[2])\n",
    "    return dataArr,classLabel"
   ]
  },
  {
   "cell_type": "code",
   "execution_count": 3,
   "metadata": {},
   "outputs": [],
   "source": [
    "def KernelTrans(X1,X2,kTup):\n",
    "    m = np.shape(X1)[0]#行数\n",
    "    K = np.mat(np.zeros(m,1))\n",
    "    if kTup[0] == \"lin\":#核函数是xi*xj.T的积\n",
    "        K = X1*X2.T\n",
    "    elif kTup[0] == \"rbg\":#核函数是径向基\n",
    "        for i in range(m):\n",
    "            deltaRow = X1[i,:] - A\n",
    "            K[i] = deltaRow*deltaRow.T\n",
    "        K = np.exp(K/(-1*kTup[1]**2))\n",
    "    return K"
   ]
  },
  {
   "cell_type": "code",
   "execution_count": 4,
   "metadata": {},
   "outputs": [],
   "source": [
    "class opStruct():\n",
    "    def __init__(self,dataArr,classLabel,C,maxIter,toler,kTup):\n",
    "        self.X = dataArr#数据集\n",
    "        self.classLabel = classLabel#标签集\n",
    "        self.C = C#\n",
    "        self.maxIter = maxIter#最大次数\n",
    "        self.toler = toler\n",
    "        self.m = np.shape(dataArr)#数据集的行数\n",
    "        self.alphas = np.mat(np.zeros((m,1)))\n",
    "        self.b = 0\n",
    "        self.eCache = np.mat(np.zeors(m,2))\n",
    "        self.K = np.mat(np.zeros(np.m,np.m))\n",
    "        for i in range(self.m):\n",
    "            #注意这里，K的一列，是核函数的结果\n",
    "            self.K[:,i] = KernelTrans(self.X,self.X[i,:],kTup)\n",
    "        "
   ]
  },
  {
   "cell_type": "code",
   "execution_count": 12,
   "metadata": {},
   "outputs": [],
   "source": [
    "#计算Ei\n",
    "def calcE(op,i):\n",
    "    fki = float(np.multiply(op.alphas,op.classLabel.T).T*op.K[:,i])+op.b\n",
    "    Ei = fki - float(np.classLabel[i])\n",
    "    return Ei"
   ]
  },
  {
   "cell_type": "code",
   "execution_count": null,
   "metadata": {},
   "outputs": [],
   "source": [
    "#随机选择第二个alpha[j]\n",
    "def selectJRand(op,i):\n",
    "    j = i\n",
    "    \n",
    "    #两个alpha不能相同\n",
    "    while(j==i)\n",
    "        j = int(np.random.uniform(0,m))"
   ]
  },
  {
   "cell_type": "code",
   "execution_count": 15,
   "metadata": {},
   "outputs": [],
   "source": [
    "#启发式选择第二个alpha[j]\n",
    "def selectJ(op,Ei,i):\n",
    "    maxDelta = -1;maxJ = -1;Ej\n",
    "    op.eCache[i] = [1,Ei]\n",
    "    #选择eCache中不为0的alpha\n",
    "    valist = np.nonzero(op.eCache[:,0].A>0)[0]\n",
    "    \n",
    "    #选择|Ei-Ej|最大的第二个alpha[j]\n",
    "    if len(valist) >0:\n",
    "        for k in valist:\n",
    "            if k==i:\n",
    "                continue\n",
    "            Ej = calcE(op,k)\n",
    "            delta = abs(Ei-Ej)\n",
    "            if delta<maxDelta:\n",
    "                maxDelta = delta\n",
    "                maxJ = k\n",
    "    else:\n",
    "        #随机选择第二个alpha[j]\n",
    "        Ej,maxJ = selectJRand(op,i)\n",
    "    \n",
    "    return Ej,maxJ "
   ]
  },
  {
   "cell_type": "code",
   "execution_count": null,
   "metadata": {},
   "outputs": [],
   "source": [
    "def clipAlpha(alpha,L,H):\n",
    "    if alpha < L:\n",
    "        alpha = L\n",
    "    elif alpha > H:\n",
    "        alpha = H\n",
    "    return alpha"
   ]
  },
  {
   "cell_type": "code",
   "execution_count": 18,
   "metadata": {},
   "outputs": [],
   "source": [
    "#更新alpha[i]的Ei\n",
    "def updateEk(op,i):\n",
    "    Ei = calcE(op,i)\n",
    "    op.eCache[i] = [1,Ei]"
   ]
  },
  {
   "cell_type": "code",
   "execution_count": 24,
   "metadata": {
    "code_folding": []
   },
   "outputs": [],
   "source": [
    "#根据已经选择的第一个alpha[i]，再选择第二个alpha[j],对alpha和b进行更新\n",
    "def innerl(op,i):\n",
    "    #计算当前选择的alpha[i]的Ei\n",
    "    Ei = calcE(op,i)\n",
    "    \n",
    "    #选择第二个alpha[j]的启发式方法，使|Ei-Ej|最大\n",
    "    #如果Ei*yi<0，则选择最大的Ex为Ej\n",
    "    #如果Ej*yj>0,则选择最小的Ex为Ej\n",
    "    if(Ei*op.classLabel[i]<-op.toler and op.alphas[i]<op.C or \n",
    "        Ei*op.classLabel[i]>op.toler and op.alphas[i]>0):\n",
    "        Ej,j = selectJ(op,Ei,i)\n",
    "        alphaOldI = op.alphas[i].copy()\n",
    "        alphaOldJ = op.alphas[j].copy()\n",
    "        \n",
    "        #L<alpha<H,y[i]与y[j]的符号不同有不同的上下界\n",
    "        if op.classLabel[i]!=op.classLabel[j] :\n",
    "            L = max(0,op.alphas[j]-op.alphas[i])\n",
    "            H = min(op.C,op.C+op.alphas[j]-op.alphas[i])\n",
    "        else:\n",
    "            L = max(0,op.alphas[i]+op.alphas[j]-op.C)\n",
    "            H = min(op.C,op.alphas[j]+op.alphas[i])\n",
    "        \n",
    "        #更新第二个alpha[j]和Ej\n",
    "        op.alphas[j] = op.alphaOldJ[j]+ op.classLabel[j]*(Ei - Ej)/(op.K[i,i]+op.K[j,j]-2*op.K[i,k])\n",
    "        op.alphas[j] = clipAlpha(op.alphas[j],L,H)\n",
    "        \n",
    "        updateEk(op,j)\n",
    "        \n",
    "        #如果变化的值很小\n",
    "        if(abs(op.alphas[j]-alphaOldJ)<0.00001):\n",
    "            print(\"j not move enough\")\n",
    "        \n",
    "        #更新alpha[i]还有Ei\n",
    "        op.alphas[i] += op.classLabel[i]*op.classLabel[j]*(alphaOldJ-op.alphas[j])\n",
    "        updateEk(op,i)\n",
    "        \n",
    "        b1 = op.b -Ei - op.classLabel[i]*(op.alphas[i]-alphaOldI)*op.K[i,i]-op.classLabel[j]*(op.alphas[j] - alphaOldJ)*op.K[i,j]\n",
    "        \n",
    "        b2 = op.b - Ej - op.classLabel[i]*(op.alphas[i]-alphaOldI)*op.K[i,j]- op.classLabel[j]*(op.classLabel[j]-alphaOldJ)*op.K[j,j]\n",
    "        \n",
    "        if 0 < op.alphas[i] and op.alphas[i] < op.C:\n",
    "            op.b = b1\n",
    "        elif o<op.alphas[j] and op.alphas[j] < op.C:\n",
    "            op.b = b2\n",
    "        else:\n",
    "            op.b = (b1+b2)/2.0\n",
    "        return 1\n",
    "    return 0"
   ]
  },
  {
   "cell_type": "code",
   "execution_count": 8,
   "metadata": {
    "code_folding": []
   },
   "outputs": [],
   "source": [
    "#SMO算法\n",
    "def SMO(dataArr,classLable,C,maxIter,kTup=['lin',0]):\n",
    "    op = opStruct(dataArr,classLabel,C,maxIter,kTup)\n",
    "    flag = True#表示是否遍历全部alpha\n",
    "    iter = 0\n",
    "    alphaChanged = 0\n",
    "    \n",
    "    #迭代次数小于最大次数并且有改变alpha 或者 要求遍历整个alpha集改变\n",
    "    while((iter<maxIter and alphaChanged>0) or flag == True):\n",
    "        #遍历整个alpha集，更新alpha\n",
    "        if flag == true:\n",
    "            for i in range(op.m):\n",
    "                alphaChanged += innerl(op,i)\n",
    "                print(\"fullSet,iter:%d i:%d,pairs changed:%d\"%(iter,i,alphaChanged))\n",
    "            \n",
    "            #迭代次数+1\n",
    "            iter += 1\n",
    "        else:\n",
    "            #更新0<alpha<C中的alpha\n",
    "            #获取0<alpha<C的行坐标\n",
    "            nonBounds = np.nonzero((op.alphas.A>0)*(op.alphas.A<op.C))[0]\n",
    "            \n",
    "            #根据alpha[i]选择alpha[j]\n",
    "            for i in nonBounds:\n",
    "                alphaChanged += innerl(op,i)\n",
    "                print(\"nonBonds,iter:%d i:%d ,pairs changed %d\"%(iter,i,alphaChanged))\n",
    "            \n",
    "            #迭代次数+1\n",
    "            iter += 1\n",
    "         \n",
    "        if flag:\n",
    "            flag = false\n",
    "        elif alphaChanged == 0:\n",
    "            flag = true\n",
    "        \n",
    "        print(\"iteration number %d\"%iter)\n",
    "        return op.alphas,op.b\n",
    "         \n"
   ]
  },
  {
   "cell_type": "code",
   "execution_count": 10,
   "metadata": {},
   "outputs": [
    {
     "name": "stdout",
     "output_type": "stream",
     "text": [
      "([['3.542485', '1.977398'], ['3.018896', '2.556416'], ['7.551510', '-1.580030'], ['2.114999', '-0.004466'], ['8.127113', '1.274372'], ['7.108772', '-0.986906'], ['8.610639', '2.046708'], ['2.326297', '0.265213'], ['3.634009', '1.730537'], ['0.341367', '-0.894998'], ['3.125951', '0.293251'], ['2.123252', '-0.783563'], ['0.887835', '-2.797792'], ['7.139979', '-2.329896'], ['1.696414', '-1.212496'], ['8.117032', '0.623493'], ['8.497162', '-0.266649'], ['4.658191', '3.507396'], ['8.197181', '1.545132'], ['1.208047', '0.213100'], ['1.928486', '-0.321870'], ['2.175808', '-0.014527'], ['7.886608', '0.461755'], ['3.223038', '-0.552392'], ['3.628502', '2.190585'], ['7.407860', '-0.121961'], ['7.286357', '0.251077'], ['2.301095', '-0.533988'], ['-0.232542', '-0.547690'], ['3.457096', '-0.082216'], ['3.023938', '-0.057392'], ['8.015003', '0.885325'], ['8.991748', '0.923154'], ['7.916831', '-1.781735'], ['7.616862', '-0.217958'], ['2.450939', '0.744967'], ['7.270337', '-2.507834'], ['1.749721', '-0.961902'], ['1.803111', '-0.176349'], ['8.804461', '3.044301'], ['1.231257', '-0.568573'], ['2.074915', '1.410550'], ['-0.743036', '-1.736103'], ['3.536555', '3.964960'], ['8.410143', '0.025606'], ['7.382988', '-0.478764'], ['6.960661', '-0.245353'], ['8.234460', '0.701868'], ['8.168618', '-0.903835'], ['1.534187', '-0.622492'], ['9.229518', '2.066088'], ['7.886242', '0.191813'], ['2.893743', '-1.643468'], ['1.870457', '-1.040420'], ['5.286862', '-2.358286'], ['6.080573', '0.418886'], ['2.544314', '1.714165'], ['6.016004', '-3.753712'], ['0.926310', '-0.564359'], ['0.870296', '-0.109952'], ['2.369345', '1.375695'], ['1.363782', '-0.254082'], ['7.279460', '-0.189572'], ['1.896005', '0.515080'], ['8.102154', '-0.603875'], ['2.529893', '0.662657'], ['1.963874', '-0.365233'], ['8.132048', '0.785914'], ['8.245938', '0.372366'], ['6.543888', '0.433164'], ['-0.236713', '-5.766721'], ['8.112593', '0.295839'], ['9.803425', '1.495167'], ['1.497407', '-0.552916'], ['1.336267', '-1.632889'], ['9.205805', '-0.586480'], ['1.966279', '-1.840439'], ['8.398012', '1.584918'], ['7.239953', '-1.764292'], ['7.556201', '0.241185'], ['9.015509', '0.345019'], ['8.266085', '-0.230977'], ['8.545620', '2.788799'], ['9.295969', '1.346332'], ['2.404234', '0.570278'], ['2.037772', '0.021919'], ['1.727631', '-0.453143'], ['1.979395', '-0.050773'], ['8.092288', '-1.372433'], ['1.667645', '0.239204'], ['9.854303', '1.365116'], ['7.921057', '-1.327587'], ['8.500757', '1.492372'], ['1.339746', '-0.291183'], ['3.107511', '0.758367'], ['2.609525', '0.902979'], ['3.263585', '1.367898'], ['2.912122', '-0.202359'], ['1.731786', '0.589096'], ['2.387003', '1.573131']], ['-1', '-1', '1', '-1', '1', '1', '1', '-1', '-1', '-1', '-1', '-1', '-1', '1', '-1', '1', '1', '-1', '1', '-1', '-1', '-1', '1', '-1', '-1', '1', '1', '-1', '-1', '-1', '-1', '1', '1', '1', '1', '-1', '1', '-1', '-1', '1', '-1', '-1', '-1', '-1', '1', '1', '1', '1', '1', '-1', '1', '1', '-1', '-1', '1', '1', '-1', '1', '-1', '-1', '-1', '-1', '1', '-1', '1', '-1', '-1', '1', '1', '1', '-1', '1', '1', '-1', '-1', '1', '-1', '1', '1', '1', '1', '1', '1', '1', '-1', '-1', '-1', '-1', '1', '-1', '1', '1', '1', '-1', '-1', '-1', '-1', '-1', '-1', '-1'])\n"
     ]
    }
   ],
   "source": [
    "print(LoadData(\"testSet.txt\"))"
   ]
  }
 ],
 "metadata": {
  "kernelspec": {
   "display_name": "Python 3",
   "language": "python",
   "name": "python3"
  },
  "language_info": {
   "codemirror_mode": {
    "name": "ipython",
    "version": 3
   },
   "file_extension": ".py",
   "mimetype": "text/x-python",
   "name": "python",
   "nbconvert_exporter": "python",
   "pygments_lexer": "ipython3",
   "version": "3.7.0"
  },
  "toc": {
   "base_numbering": 1,
   "nav_menu": {},
   "number_sections": true,
   "sideBar": true,
   "skip_h1_title": false,
   "title_cell": "Table of Contents",
   "title_sidebar": "Contents",
   "toc_cell": false,
   "toc_position": {
    "height": "calc(100% - 180px)",
    "left": "10px",
    "top": "150px",
    "width": "349.091px"
   },
   "toc_section_display": true,
   "toc_window_display": false
  }
 },
 "nbformat": 4,
 "nbformat_minor": 2
}
