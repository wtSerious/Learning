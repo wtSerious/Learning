{
 "cells": [
  {
   "cell_type": "code",
   "execution_count": 475,
   "metadata": {},
   "outputs": [],
   "source": [
    "import numpy as np\n",
    "from sklearn.preprocessing import LabelBinarizer\n",
    "from sklearn.metrics import classification_report\n",
    "import load_MNIST\n",
    "from sklearn.preprocessing import StandardScaler"
   ]
  },
  {
   "cell_type": "markdown",
   "metadata": {},
   "source": [
    "利用写好的load_MNIST模块中的load_data方法导入MNIST数据集\n",
    "- Parameter\n",
    "    - file_name:list \n",
    "        四个文件路径\n",
    "        - list[0]: 训练集的图片数据文件路径\n",
    "        - list[1]: 测试集的图片数据文件路径\n",
    "        - list[2]: 训练集的标签文件路径\n",
    "        - list[3]: 测试集的标签文件路径\n",
    "- Return\n",
    "    - train_data: numpy array\n",
    "    - train_labels: list\n",
    "    - test_data: numpy array\n",
    "    - test_labels: list"
   ]
  },
  {
   "cell_type": "code",
   "execution_count": 305,
   "metadata": {},
   "outputs": [],
   "source": [
    "file = [\"C:/Users/wtser/Desktop/learnData/data/Mnist/train-images.idx3-ubyte\",\n",
    "       \"C:/Users/wtser/Desktop/learnData/data/Mnist/t10k-images.idx3-ubyte\",\n",
    "       \"C:/Users/wtser/Desktop/learnData/data/Mnist/train-labels.idx1-ubyte\",\n",
    "       \"C:/Users/wtser/Desktop/learnData/data/Mnist/t10k-labels.idx1-ubyte\"]  \n",
    "\n",
    "train_data,train_labels,test_data,test_labels = load_MNIST.load_data(file)"
   ]
  },
  {
   "cell_type": "markdown",
   "metadata": {},
   "source": [
    "##### MNIST数据集是数字集，判断一个数字为哪一类时我们都是根据图像的形状来分辨而跟图像的像素亮度无关，如果直接把图像的像素值作为特征是不好的，所以把像素值大于0的位置都置为1"
   ]
  },
  {
   "cell_type": "code",
   "execution_count": 306,
   "metadata": {},
   "outputs": [],
   "source": [
    "#对数据进行预处理\n",
    "train_data[train_data>0] = 1\n",
    "test_data[test_data>0] = 1"
   ]
  },
  {
   "cell_type": "markdown",
   "metadata": {},
   "source": [
    "##### p 是一个 shape 为(10,tran_data[0].shape[0],2)的矩阵，$p[i][j][k] = p(x_{j}=k|y_{i})$"
   ]
  },
  {
   "cell_type": "code",
   "execution_count": 450,
   "metadata": {},
   "outputs": [],
   "source": [
    "p = np.array([[[0.0,0.0] for j in range(train_data[0].shape[0])] for i in range(10)])\n",
    "for i in range(train_data.shape[0]):\n",
    "    p[train_labels[i]][train_data[i]>0] += [0,1]\n",
    "    p[train_labels[i]][train_data[i]==0] += [1,0]\n",
    "    \n",
    "for i in range(10):\n",
    "    p[i] = p[i]/(p[i][0][0]+p[i][0][1])\n"
   ]
  },
  {
   "cell_type": "code",
   "execution_count": null,
   "metadata": {},
   "outputs": [],
   "source": [
    "print(min(p[0][train_data[0]>0]))"
   ]
  },
  {
   "cell_type": "code",
   "execution_count": 527,
   "metadata": {},
   "outputs": [],
   "source": [
    "def predict(x):\n",
    "    pre = []\n",
    "    for i in range(x.shape[0]):\n",
    "        _max = 0.0\n",
    "        \n",
    "        #存在一种情况，十个数字的概率都是0,默认划分为0\n",
    "        index = 0\n",
    "        for j in range(10):\n",
    "            val = 1.0\n",
    "            for k in range(x.shape[1]):\n",
    "#                 if p[j][k][x[i][k]] <1e-4 :\n",
    "#                     continue\n",
    "                val *= p[j][k][x[i][k]]\n",
    "            if val > _max:\n",
    "                _max = val\n",
    "                index = j\n",
    "        pre.append(index)\n",
    "    return pre"
   ]
  },
  {
   "cell_type": "code",
   "execution_count": 528,
   "metadata": {},
   "outputs": [
    {
     "name": "stdout",
     "output_type": "stream",
     "text": [
      "             precision    recall  f1-score   support\n",
      "\n",
      "          0       0.90      0.90      0.90       981\n",
      "          1       0.96      0.90      0.93      1203\n",
      "          2       0.83      0.89      0.86       964\n",
      "          3       0.83      0.76      0.80      1104\n",
      "          4       0.81      0.83      0.82       955\n",
      "          5       0.70      0.82      0.76       770\n",
      "          6       0.89      0.89      0.89       952\n",
      "          7       0.85      0.92      0.88       943\n",
      "          8       0.78      0.76      0.77       997\n",
      "          9       0.84      0.75      0.79      1131\n",
      "\n",
      "avg / total       0.84      0.84      0.84     10000\n",
      "\n"
     ]
    }
   ],
   "source": [
    "predictions = predict(test_data)\n",
    "print(classification_report(predictions,test_labels))"
   ]
  }
 ],
 "metadata": {
  "kernelspec": {
   "display_name": "Python 3",
   "language": "python",
   "name": "python3"
  },
  "language_info": {
   "codemirror_mode": {
    "name": "ipython",
    "version": 3
   },
   "file_extension": ".py",
   "mimetype": "text/x-python",
   "name": "python",
   "nbconvert_exporter": "python",
   "pygments_lexer": "ipython3",
   "version": "3.7.0"
  },
  "toc": {
   "base_numbering": 1,
   "nav_menu": {},
   "number_sections": true,
   "sideBar": true,
   "skip_h1_title": false,
   "title_cell": "Table of Contents",
   "title_sidebar": "Contents",
   "toc_cell": false,
   "toc_position": {},
   "toc_section_display": true,
   "toc_window_display": false
  }
 },
 "nbformat": 4,
 "nbformat_minor": 2
}
